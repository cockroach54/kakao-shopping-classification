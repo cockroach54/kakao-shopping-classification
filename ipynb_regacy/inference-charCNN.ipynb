{
 "cells": [
  {
   "cell_type": "markdown",
   "metadata": {},
   "source": [
    "# Only for inference"
   ]
  },
  {
   "cell_type": "code",
   "execution_count": 1,
   "metadata": {},
   "outputs": [
    {
     "name": "stderr",
     "output_type": "stream",
     "text": [
      "C:\\ProgramData\\Anaconda3\\lib\\site-packages\\h5py\\__init__.py:36: FutureWarning: Conversion of the second argument of issubdtype from `float` to `np.floating` is deprecated. In future, it will be treated as `np.float64 == np.dtype(float).type`.\n",
      "  from ._conv import register_converters as _register_converters\n"
     ]
    }
   ],
   "source": [
    "import h5py\n",
    "import pandas as pd\n",
    "import numpy as np\n",
    "import tensorflow as tf\n",
    "from tqdm import tqdm_notebook as tqdm"
   ]
  },
  {
   "cell_type": "code",
   "execution_count": 2,
   "metadata": {},
   "outputs": [
    {
     "name": "stdout",
     "output_type": "stream",
     "text": [
      "4215\n"
     ]
    }
   ],
   "source": [
    "import _pickle\n",
    "y_vocab = _pickle.load(open('./data/y_vocab.py3.cPickle', 'rb'))\n",
    "y_vocab['43>109>1576>-1']\n",
    "print(len(y_vocab))"
   ]
  },
  {
   "cell_type": "code",
   "execution_count": 3,
   "metadata": {
    "collapsed": true
   },
   "outputs": [],
   "source": [
    "token_to_cate = {}\n",
    "for it in y_vocab.items():\n",
    "     token_to_cate[it[1]] = it[0]"
   ]
  },
  {
   "cell_type": "markdown",
   "metadata": {},
   "source": [
    "## import utils"
   ]
  },
  {
   "cell_type": "code",
   "execution_count": 4,
   "metadata": {
    "collapsed": true
   },
   "outputs": [],
   "source": [
    "from myUtils.myUtils import *"
   ]
  },
  {
   "cell_type": "code",
   "execution_count": 5,
   "metadata": {},
   "outputs": [],
   "source": [
    "helper = Helper()\n",
    "seq_len=100\n",
    "hash_size=4000"
   ]
  },
  {
   "cell_type": "code",
   "execution_count": 6,
   "metadata": {},
   "outputs": [
    {
     "name": "stdout",
     "output_type": "stream",
     "text": [
      "------------./data_org/dev.chunk.01-----------\n"
     ]
    },
    {
     "data": {
      "application/vnd.jupyter.widget-view+json": {
       "model_id": "8e7a214dcafd46eea6fdf14839597b4f",
       "version_major": 2,
       "version_minor": 0
      },
      "text/plain": [
       "A Jupyter Widget"
      ]
     },
     "metadata": {},
     "output_type": "display_data"
    },
    {
     "name": "stdout",
     "output_type": "stream",
     "text": [
      "\n",
      "Wall time: 1min 7s\n"
     ]
    }
   ],
   "source": [
    "%%time\n",
    "#  처음만 파일 만들기\n",
    "#  no... 여기서 helper.df 만드네 코드 바꾸자 ㅜㅜ\n",
    "for i in range(1,2):\n",
    "    helper.chunk_no = i\n",
    "    helper.path = './data_org/dev.chunk.0'+str(helper.chunk_no)\n",
    "    print('------------%s-----------'%(helper.path))    \n",
    "    helper.makeDF(0, 1000000, mode=\"dev\")    \n",
    "    \n",
    "    tmp_path_x = 'data/infer_x.csv'\n",
    "#     tmp_path_y = 'data/infer_y.csv'\n",
    "    data_x = helper.df2data(tmp_path_x, seq_len=seq_len, hash_size=hash_size)\n",
    "#     data_y = helper.cate2token(tmp_path_y , y_vocab)"
   ]
  },
  {
   "cell_type": "code",
   "execution_count": 7,
   "metadata": {},
   "outputs": [
    {
     "data": {
      "text/plain": [
       "\"# 다음부턴\\ndf_tmp = pd.read_csv('data/infer_x.csv', header=None)\\ndata_x = df_tmp.as_matrix()\""
      ]
     },
     "execution_count": 7,
     "metadata": {},
     "output_type": "execute_result"
    }
   ],
   "source": [
    "\"\"\"# 다음부턴\n",
    "df_tmp = pd.read_csv('data/infer_x.csv', header=None)\n",
    "data_x = df_tmp.as_matrix()\"\"\""
   ]
  },
  {
   "cell_type": "markdown",
   "metadata": {},
   "source": [
    "## make model"
   ]
  },
  {
   "cell_type": "code",
   "execution_count": 8,
   "metadata": {},
   "outputs": [],
   "source": [
    "# make DAG\n",
    "tf.reset_default_graph()\n",
    "tf.set_random_seed(2018)\n",
    "\n",
    "# train Parameters\n",
    "# seq_len = 35\n",
    "output_dim = 4215 # 1번 트레이닝셋만\n",
    "\n",
    "epoch = 80\n",
    "batch_size = 1024\n",
    "# vocabulary_size = len(vocab)\n",
    "vocabulary_size = hash_size\n",
    "embedding_size = 300\n",
    "# embedding_size = 256\n",
    "features = 300\n",
    "\n",
    "\n",
    "# =============================================================================\n",
    "\n",
    "Y = tf.placeholder(tf.int16, [None, output_dim], name=\"label\")\n",
    "lr = tf.placeholder(tf.float32, [], name='learning_rate')\n",
    "keep_prob = tf.placeholder(tf.float32, [], name=\"keep_prob\")\n",
    "\n",
    "#  embedding\n",
    "X = tf.placeholder(tf.int32, [None, seq_len], name=\"word_tokens\") \n",
    "word_embeddings = tf.get_variable(\"word_embeddings\",\n",
    "    [vocabulary_size, embedding_size], initializer=tf.contrib.layers.xavier_initializer())\n",
    "embedded_word_ids = tf.nn.embedding_lookup(word_embeddings, X) # batch * seq * embeddding\n",
    "\n",
    "\"\"\"\n",
    "#  dropout layer\n",
    "def _sequence_dropout(step_inputs, keep_prob):\n",
    "        # apply dropout to each input\n",
    "        # input : a list of input tensor which shape is [None, input_dim]\n",
    "        with tf.name_scope('sequence_dropout') as scope:\n",
    "            step_outputs = []\n",
    "            for t, _input in enumerate(step_inputs):\n",
    "                step_outputs.append( tf.nn.dropout(_input, keep_prob) )\n",
    "        return step_outputs\n",
    "\n",
    "embedded_word_ids = tf.unstack(embedded_word_ids, axis=1)\n",
    "step_inputs = _sequence_dropout(embedded_word_ids, keep_prob) # seq * batch * embedding\n",
    "\n",
    "#  FCN layer\n",
    "doc_mean = tf.reduce_mean(step_inputs, axis=0) # batch * embedding (mean)\n",
    "# hint = tf.placeholder(tf.float32, [None, 609], name='hint') # previous category\n",
    "# bf_lenear = tf.concat([doc_mean, hint], axis=1) # batch * (embediing + hint)\n",
    "# bf_lenear = tf.nn.dropout(bf_lenear, keep_prob)\n",
    "\"\"\"\n",
    "\n",
    "embedded_word_ids = tf.reshape(embedded_word_ids, [-1, seq_len, embedding_size, 1])\n",
    "# CNN layer\n",
    "# kernel size 3\n",
    "F1 = tf.get_variable('3gram-filter', [3, embedding_size, 1, features], \n",
    "                     initializer=tf.contrib.layers.xavier_initializer()) # (row, column, channel, kernels)\n",
    "L1 = tf.nn.conv2d(embedded_word_ids, F1, strides=[1, 1, 1, 1], padding='VALID')\n",
    "L1 = tf.nn.tanh(L1)\n",
    "L1 = tf.nn.max_pool(L1, ksize=[1, seq_len-2, 1, 1],\n",
    "                    strides=[1, 1, 1, 1], padding='VALID')\n",
    "\n",
    "# kernel size 4\n",
    "F2 = tf.get_variable('4gram-filter', [4, embedding_size, 1, features], \n",
    "                     initializer=tf.contrib.layers.xavier_initializer()) # (row, column, channel, kernels)\n",
    "L2 = tf.nn.conv2d(embedded_word_ids, F2, strides=[1, 1, 1, 1], padding='VALID')\n",
    "L2 = tf.nn.tanh(L2)\n",
    "L2 = tf.nn.max_pool(L2, ksize=[1, seq_len-3, 1, 1],\n",
    "                    strides=[1, 1, 1, 1], padding='VALID')\n",
    "\n",
    "# kernel size 5\n",
    "F3 = tf.get_variable('5gram-filter', [5, embedding_size, 1, features], \n",
    "                     initializer=tf.contrib.layers.xavier_initializer()) # (row, column, channel, kernels)\n",
    "L3 = tf.nn.conv2d(embedded_word_ids, F3, strides=[1, 1, 1, 1], padding='VALID')\n",
    "L3 = tf.nn.tanh(L3)\n",
    "L3 = tf.nn.max_pool(L3, ksize=[1, seq_len-4, 1, 1],\n",
    "                    strides=[1, 1, 1, 1], padding='VALID')\n",
    "\n",
    "L_flat = tf.concat([L1, L2, L3], 3) # (?, 1, 1, features*3)\n",
    "L_flat = tf.reshape(L_flat, [-1, 3 * features]) # (?, features*3)\n",
    "\n",
    "# 오캄의 면도날... 굳이 없어도 되는 레이어인듯\n",
    "# L_linear = tf.contrib.layers.fully_connected(L_flat, 512, activation_fn=tf.nn.relu)\n",
    "# L_linear = tf.nn.dropout(L_linear, keep_prob)\n",
    "L_linear = tf.nn.dropout(L_flat, keep_prob)\n",
    "\n",
    "\n",
    "# Y_pred = tf.contrib.layers.fully_connected(bf_lenear, output_dim, activation_fn=tf.nn.relu)  # We use the last cell's output\n",
    "Y_pred = tf.contrib.layers.fully_connected(L_linear, output_dim, activation_fn=None)  # We use the last cell's output\n",
    "\n",
    "# # image feature\n",
    "# X = tf.placeholder(tf.float32, [None, len(data_x[0])], name=\"img_feat\")\n",
    "# X = tf.nn.dropout(X, keep_prob)\n",
    "# Y_pred = tf.contrib.layers.fully_connected(X, output_dim,\n",
    "#                                            activation_fn=tf.nn.relu, weights_initializer=tf.contrib.layers.xavier_initializer())  # We use the last cell's output\n",
    "\n",
    "# optimize\n",
    "cost =tf.reduce_mean(tf.nn.softmax_cross_entropy_with_logits_v2(\n",
    "    logits=Y_pred, labels=Y, name='cross_entropy'))\n",
    "optimizer = tf.train.AdamOptimizer(lr)\n",
    "train_step = optimizer.minimize(cost)\n",
    "\n",
    "# prediction\n",
    "predicted = tf.argmax(Y_pred, 1)\n",
    "accuracy = tf.reduce_mean(tf.cast(tf.equal(predicted, tf.argmax(Y, 1)), dtype=tf.float32))\n",
    "\n",
    "# saver\n",
    "name_to_var_map = {var.op.name: var for var in tf.global_variables()}\n",
    "saver = tf.train.Saver(name_to_var_map, name='my_saver')"
   ]
  },
  {
   "cell_type": "code",
   "execution_count": 9,
   "metadata": {},
   "outputs": [
    {
     "name": "stdout",
     "output_type": "stream",
     "text": [
      "INFO:tensorflow:Restoring parameters from ./small_model/small-16662\n"
     ]
    }
   ],
   "source": [
    "# restore model\n",
    "if 'sess' in globals(): sess.close()\n",
    "sess = tf.InteractiveSession()\n",
    "\n",
    "ckpt_path = './small_model/small'\n",
    "saver.restore(sess, ckpt_path+'-16662')"
   ]
  },
  {
   "cell_type": "markdown",
   "metadata": {},
   "source": [
    "## Make .tsv file"
   ]
  },
  {
   "cell_type": "code",
   "execution_count": 10,
   "metadata": {},
   "outputs": [],
   "source": [
    "from math import ceil\n",
    "\n",
    "chunk_size = 10000\n",
    "iter_num = ceil(len(data_x)/chunk_size)\n",
    "cate_predicted = []\n",
    "\n",
    "for cnt in range(iter_num):\n",
    "    dev = sess.run([predicted], feed_dict={X:data_x[chunk_size*cnt:chunk_size*(cnt+1)], keep_prob:1})\n",
    "    for i in dev[0]:\n",
    "        tmp = token_to_cate[i]\n",
    "        cate_predicted.append(tmp.replace('>', '\\t'))\n",
    "    \n",
    "\n",
    "assert len(cate_predicted) == len(helper.df['pid'])\n",
    "with open(\"cnn-char.predict.tsv\", \"w\") as f:\n",
    "    for el in zip(helper.df['pid'], cate_predicted):\n",
    "#         print(el)\n",
    "        tmp = '\\t'.join(el)      \n",
    "        f.write(tmp+'\\n')"
   ]
  },
  {
   "cell_type": "code",
   "execution_count": null,
   "metadata": {
    "collapsed": true
   },
   "outputs": [],
   "source": []
  }
 ],
 "metadata": {
  "kernelspec": {
   "display_name": "Python 3",
   "language": "python",
   "name": "python3"
  },
  "language_info": {
   "codemirror_mode": {
    "name": "ipython",
    "version": 3
   },
   "file_extension": ".py",
   "mimetype": "text/x-python",
   "name": "python",
   "nbconvert_exporter": "python",
   "pygments_lexer": "ipython3",
   "version": "3.6.2"
  }
 },
 "nbformat": 4,
 "nbformat_minor": 2
}
