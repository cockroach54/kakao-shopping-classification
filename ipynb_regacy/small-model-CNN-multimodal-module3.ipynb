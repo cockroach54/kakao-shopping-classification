{
 "cells": [
  {
   "cell_type": "code",
   "execution_count": 2,
   "metadata": {},
   "outputs": [
    {
     "name": "stderr",
     "output_type": "stream",
     "text": [
      "C:\\ProgramData\\Anaconda3\\lib\\site-packages\\h5py\\__init__.py:36: FutureWarning: Conversion of the second argument of issubdtype from `float` to `np.floating` is deprecated. In future, it will be treated as `np.float64 == np.dtype(float).type`.\n",
      "  from ._conv import register_converters as _register_converters\n"
     ]
    }
   ],
   "source": [
    "import h5py\n",
    "import pandas as pd\n",
    "import numpy as np\n",
    "import tensorflow as tf\n",
    "import matplotlib.pyplot as plt\n",
    "from tqdm import tqdm_notebook as tqdm\n",
    "\n",
    "import time\n",
    "import sys\n",
    "import gc"
   ]
  },
  {
   "cell_type": "markdown",
   "metadata": {},
   "source": [
    "# y_vocab preprocess"
   ]
  },
  {
   "cell_type": "code",
   "execution_count": 3,
   "metadata": {},
   "outputs": [
    {
     "name": "stdout",
     "output_type": "stream",
     "text": [
      "4215\n"
     ]
    }
   ],
   "source": [
    "import _pickle\n",
    "y_vocab = _pickle.load(open('./data_org/y_vocab.py3.cPickle', 'rb'))\n",
    "y_vocab['43>109>1576>-1']\n",
    "print(len(y_vocab))\n",
    "\n",
    "token_to_cate = {}\n",
    "for it in y_vocab.items():\n",
    "     token_to_cate[it[1]] = it[0]"
   ]
  },
  {
   "cell_type": "code",
   "execution_count": 4,
   "metadata": {
    "collapsed": true
   },
   "outputs": [],
   "source": [
    "def onehot(data_y, output_dim=4215): # 4215개\n",
    "    # y-label to one-hot encoding\n",
    "    y_tmp = np.zeros([len(data_y), output_dim], dtype=np.int8)\n",
    "    y_tmp[np.arange(len(data_y)), data_y] = 1\n",
    "    data_y = y_tmp\n",
    "\n",
    "    return data_y"
   ]
  },
  {
   "cell_type": "markdown",
   "metadata": {},
   "source": [
    "---\n",
    "# char x_vocab"
   ]
  },
  {
   "cell_type": "code",
   "execution_count": 5,
   "metadata": {
    "scrolled": false
   },
   "outputs": [],
   "source": [
    "x_vocab = pd.read_csv('./data_org/char.csv', encoding='utf8')\n",
    "x_vocab = x_vocab.as_matrix()"
   ]
  },
  {
   "cell_type": "code",
   "execution_count": 6,
   "metadata": {},
   "outputs": [],
   "source": [
    "#  3000개 = 2998 + unk + pad\n",
    "x_vocab = {\n",
    "    e[0]:i  for i,e in enumerate(x_vocab[:2998])\n",
    "}"
   ]
  },
  {
   "cell_type": "code",
   "execution_count": 7,
   "metadata": {},
   "outputs": [],
   "source": [
    "x_vocab['<PAD>'] = 2998\n",
    "x_vocab['<UNK>'] = 2999"
   ]
  },
  {
   "cell_type": "code",
   "execution_count": 8,
   "metadata": {},
   "outputs": [
    {
     "data": {
      "text/plain": [
       "3000"
      ]
     },
     "execution_count": 8,
     "metadata": {},
     "output_type": "execute_result"
    }
   ],
   "source": [
    "len(x_vocab.values())\n",
    "# x_vocab.v()\n",
    "# x_vocab"
   ]
  },
  {
   "cell_type": "code",
   "execution_count": 9,
   "metadata": {},
   "outputs": [
    {
     "name": "stdout",
     "output_type": "stream",
     "text": [
      "[77, 19, 23, 100, 77, 19, 10, 23, 11, 162, 91, 15, 7, 22, 64, 5, 138, 0, 166, 7, 19, 91, 7, 43, 43, 57, 15, 7, 43, 13, 5, 27, 138, 614, 28, 64, 614, 138, 0, 19, 7, 120, 5, 19, 1037, 614, 121, 7, 19, 13, 58, 7, 23, 13, 10, 22, 614, 580, 2999, 292, 12]\n",
      "Wall time: 3 ms\n"
     ]
    }
   ],
   "source": [
    "%%time\n",
    "sentence = \"plt.plot(x_range, val_accuracies,'-g', label='Validation'꼬ㅑ재)\"\n",
    "print([x_vocab[k] if k in x_vocab.keys() else 2999 for k in sentence])"
   ]
  },
  {
   "cell_type": "markdown",
   "metadata": {},
   "source": [
    "# word preprocess"
   ]
  },
  {
   "cell_type": "code",
   "execution_count": 10,
   "metadata": {
    "collapsed": true,
    "scrolled": true
   },
   "outputs": [],
   "source": [
    "def set_train_data(chunk_no):\n",
    "    path_x = './tmp/data_0%d.h5'%(chunk_no)\n",
    "    path_y = './tmp/data_y_0%d.csv'%(chunk_no)\n",
    "    h = h5py.File(path_x, 'r')\n",
    "    y = pd.read_csv(path_y, header=None, dtype=np.int32)\n",
    "    y=onehot(y[0])\n",
    "\n",
    "    # # validation data\n",
    "    # path_x = './data_org/val.h5'\n",
    "    # path_y = './tmp/data_y_val.csv'\n",
    "    # h = h5py.File(path_x, 'r')\n",
    "    # y = pd.read_csv(path_y, header=None)\n",
    "    # y=onehot(y[0])\n",
    "\n",
    "    mode = 'train'\n",
    "    cols = ['pid', 'product', 'model', 'brand', 'maker', 'price', 'updttm', 'bcateid', 'mcateid', 'scateid', 'dcateid']\n",
    "    data = {\n",
    "        c: h[mode][c] for c in cols\n",
    "    }\n",
    "    df = pd.DataFrame(data)\n",
    "\n",
    "    for i in ['pid', 'product', 'model', 'brand', 'maker', 'updttm']:\n",
    "        df[i] = df[i].apply(lambda x: x.decode('utf8'))\n",
    "\n",
    "    df2 = pd.DataFrame(h[mode]['img_feat'][:])\n",
    "    \n",
    "    h.close()\n",
    "    return df, df2, y"
   ]
  },
  {
   "cell_type": "code",
   "execution_count": 11,
   "metadata": {
    "collapsed": true
   },
   "outputs": [],
   "source": [
    "# 피처 데이터, 레이블, 미니배치 갯수, random sampling\n",
    "import random\n",
    "import h5py\n",
    "import mmh3\n",
    "\n",
    "seq_len=128\n",
    "random.seed(2018)\n",
    "def getMiniBatch3(xc, xm, xe, y, n):\n",
    "    assert len(xc) == len(y)\n",
    "    assert len(xm) == len(y)\n",
    "        \n",
    "    rand_idx = random.sample(list(range(len(y))), n)    \n",
    "    xc_ = xc.iloc[rand_idx] # word\n",
    "    xm_ = xm.iloc[rand_idx] # image\n",
    "    xe_ = xe.iloc[rand_idx] # else\n",
    "    \n",
    "    xe_ = np.array(xe_).transpose()[0].astype(np.int32)\n",
    "    xe_ = np.array([(1,i) if not np.isnan(i) else (0,0) for i in np.log10(xe_)])\n",
    "    \n",
    "    y_ = y[rand_idx]\n",
    "    \n",
    "    # df to data - char to token\n",
    "    data_x_fw = []\n",
    "    data_x_bw = []\n",
    "    for i in xc_.as_matrix():\n",
    "        sentence = ' '.join(i)\n",
    "        sentence = list(sentence)\n",
    "        kkk = sentence\n",
    "        # hash --> word to id\n",
    "        word_ids_fw = [x_vocab[k] if k in x_vocab.keys() else 2999 for k in sentence][:seq_len]\n",
    "        word_ids_fw = np.pad(word_ids_fw, (0,seq_len-len(word_ids_fw)), 'constant', constant_values=(2998)) # pad=2998\n",
    "        data_x_fw.append(word_ids_fw)\n",
    "        # revcerse\n",
    "        sentence.reverse()\n",
    "        word_ids_bw = [x_vocab[k] if k in x_vocab.keys() else 2999 for k in sentence][:seq_len]\n",
    "        word_ids_bw = np.pad(word_ids_bw, (0,seq_len-len(word_ids_bw)), 'constant', constant_values=(2998)) # pad=2998\n",
    "        data_x_bw.append(word_ids_bw)\n",
    "        \n",
    "        \n",
    "    return np.array(data_x_fw), np.array(data_x_bw), np.array(xm_), np.array(xe_), np.array(y_)"
   ]
  },
  {
   "cell_type": "code",
   "execution_count": 112,
   "metadata": {},
   "outputs": [
    {
     "name": "stderr",
     "output_type": "stream",
     "text": [
      "C:\\ProgramData\\Anaconda3\\lib\\site-packages\\ipykernel_launcher.py:18: RuntimeWarning: invalid value encountered in log10\n"
     ]
    },
    {
     "name": "stdout",
     "output_type": "stream",
     "text": [
      "Wall time: 192 ms\n"
     ]
    }
   ],
   "source": [
    "%%time\n",
    "X_fw, X_bw, Xm_, Xp_, Y_ = getMiniBatch3(df[['product', 'brand', 'model', 'maker']], df2,\n",
    "              df[['price', 'updttm']], y, batch_size)"
   ]
  },
  {
   "cell_type": "markdown",
   "metadata": {},
   "source": [
    "---\n",
    "## set val data"
   ]
  },
  {
   "cell_type": "code",
   "execution_count": 12,
   "metadata": {
    "collapsed": true
   },
   "outputs": [],
   "source": [
    "def set_val_data():\n",
    "    path_x = './tmp/data_val.h5'\n",
    "    path_y = './tmp/data_y_val.csv'\n",
    "    h = h5py.File(path_x, 'r')\n",
    "    y = pd.read_csv(path_y, header=None, dtype=np.int32)\n",
    "    y = y.sample(frac=1, random_state=2018) # shuffle y\n",
    "    y = onehot(y[0])\n",
    "    \n",
    "    start_idx = 0 \n",
    "    mode = 'val'\n",
    "    cols = ['pid', 'product', 'model', 'brand', 'maker', 'price', 'updttm', 'bcateid', 'mcateid', 'scateid', 'dcateid']\n",
    "    data = {\n",
    "        c: h[mode][c] for c in cols\n",
    "    }\n",
    "    df = pd.DataFrame(data)\n",
    "    df = df.sample(frac=1, random_state=2018) # shuffle df\n",
    "\n",
    "    for i in ['pid', 'product', 'model', 'brand', 'maker', 'updttm']:\n",
    "        df[i] = df[i].apply(lambda x: x.decode('utf8'))\n",
    "\n",
    "    df2 = pd.DataFrame(h[mode]['img_feat'][:])\n",
    "    df2 = df2.sample(frac=1, random_state=2018) # shuffle df2\n",
    "    \n",
    "    h.close()\n",
    "    return df, df2, y"
   ]
  },
  {
   "cell_type": "code",
   "execution_count": 44,
   "metadata": {},
   "outputs": [
    {
     "data": {
      "application/vnd.jupyter.widget-view+json": {
       "model_id": "4b900b7b3c64477285c6fb67942b11a5",
       "version_major": 2,
       "version_minor": 0
      },
      "text/plain": [
       "A Jupyter Widget"
      ]
     },
     "metadata": {},
     "output_type": "display_data"
    },
    {
     "name": "stdout",
     "output_type": "stream",
     "text": [
      "\n"
     ]
    },
    {
     "name": "stderr",
     "output_type": "stream",
     "text": [
      "C:\\ProgramData\\Anaconda3\\lib\\site-packages\\ipykernel_launcher.py:26: RuntimeWarning: invalid value encountered in log10\n"
     ]
    }
   ],
   "source": [
    "#밸리데이션용으로\n",
    "df_val, df2_val, Y_val_all = set_val_data()\n",
    "# seq_len=100\n",
    "\n",
    "# df to data - char to token\n",
    "data_x_fw = []\n",
    "data_x_bw = []\n",
    "for i in tqdm(list(zip(df_val['product'], df_val['brand'], df_val['model'], df_val['maker']))):\n",
    "    sentence = ' '.join(i)\n",
    "    sentence = list(sentence)    \n",
    "    # hash --> word to id\n",
    "    word_ids_fw = [x_vocab[k] if k in x_vocab.keys() else 2999 for k in sentence][:seq_len]\n",
    "    word_ids_fw = np.pad(word_ids_fw, (0,seq_len-len(word_ids_fw)), 'constant', constant_values=(2998)) # pad=2998\n",
    "    data_x_fw.append(word_ids_fw)\n",
    "    # revcerse\n",
    "    sentence.reverse()\n",
    "    word_ids_bw = [x_vocab[k] if k in x_vocab.keys() else 2999 for k in sentence][:seq_len]\n",
    "    word_ids_bw = np.pad(word_ids_bw, (0,seq_len-len(word_ids_bw)), 'constant', constant_values=(2998)) # pad=2998\n",
    "    data_x_bw.append(word_ids_bw)\n",
    "    \n",
    "X_fw_val = np.array(data_x_fw)[:2000]\n",
    "X_bw_val = np.array(data_x_bw)[:2000]\n",
    "Xm_val = np.array(df2_val)[:2000]\n",
    "Xp_val = np.array(df_val[['price', 'updttm']])\n",
    "Xp_val = Xp_val.transpose()[0].astype(np.int32)\n",
    "Xp_val = np.array([(1,i) if not np.isnan(i) else (0,0) for i in np.log10(Xp_val)])[:2000]\n",
    "# Xp_val = np.expand_dims(Xp_val, axis=1)\n",
    "Y_val = Y_val_all[:2000]"
   ]
  },
  {
   "cell_type": "code",
   "execution_count": 45,
   "metadata": {},
   "outputs": [
    {
     "name": "stdout",
     "output_type": "stream",
     "text": [
      "(2000, 128) (2000, 128) (2000, 2048) (2000, 2) (2000, 4215)\n"
     ]
    }
   ],
   "source": [
    "print(X_fw_val.shape, X_bw_val.shape, Xm_val.shape, Xp_val.shape, Y_val.shape)"
   ]
  },
  {
   "cell_type": "markdown",
   "metadata": {},
   "source": [
    "# make model"
   ]
  },
  {
   "cell_type": "code",
   "execution_count": 39,
   "metadata": {
    "scrolled": true
   },
   "outputs": [],
   "source": [
    "# make DAG\n",
    "tf.reset_default_graph()\n",
    "tf.set_random_seed(2018)\n",
    "\n",
    "# train Parameters\n",
    "output_dim = 4215 # 1번 트레이닝셋만\n",
    "\n",
    "epoch = 100\n",
    "# seq_len=100\n",
    "vocabulary_size = len(x_vocab) # x_vocab length\n",
    "# embedding_size = 512\n",
    "embedding_size = 256\n",
    "features = 200\n",
    "\n",
    "\n",
    "# =============================================================================\n",
    "is_training = tf.placeholder(tf.bool) # 배치놈 위한 트레이닝/테스트 구분 불리언\n",
    "\n",
    "Y = tf.placeholder(tf.int16, [None, output_dim], name=\"label\")\n",
    "lr = tf.placeholder(tf.float32, [], name='learning_rate')\n",
    "keep_prob = tf.placeholder(tf.float32, [], name=\"keep_prob\"\n",
    "                          )\n",
    "\n",
    "#  embedding\n",
    "X_fw = tf.placeholder(tf.int32, [None, seq_len], name=\"word_tokens_fw\") \n",
    "X_bw = tf.placeholder(tf.int32, [None, seq_len], name=\"word_tokens_bw\") \n",
    "word_embeddings = tf.get_variable(\"word_embeddings\",\n",
    "    [vocabulary_size, embedding_size], initializer=tf.contrib.layers.xavier_initializer())\n",
    "embedded_fw = tf.nn.embedding_lookup(word_embeddings, X_fw) # batch * seq * embeddding\n",
    "embedded_bw = tf.nn.embedding_lookup(word_embeddings, X_bw) # batch * seq * embeddding\n",
    "    \n",
    "# image features\n",
    "Xm = tf.placeholder(tf.float32, [None, 2048], name=\"img_feat\") \n",
    "\n",
    "# price feature\n",
    "Xp = tf.placeholder(tf.float32, [None, 2], name=\"price\") \n",
    "\n",
    "\"\"\"\n",
    "#  dropout layer\n",
    "def _sequence_dropout(step_inputs, keep_prob):\n",
    "        # apply dropout to each input\n",
    "        # input : a list of input tensor which shape is [None, input_dim]\n",
    "        with tf.name_scope('sequence_dropout') as scope:\n",
    "            step_outputs = []\n",
    "            for t, _input in enumerate(step_inputs):\n",
    "                step_outputs.append( tf.nn.dropout(_input, keep_prob) )\n",
    "        return step_outputs\n",
    "\n",
    "embedded_fw = tf.unstack(embedded_fw, axis=1)\n",
    "step_inputs = _sequence_dropout(embedded_fw, keep_prob) # seq * batch * embedding\n",
    "\n",
    "#  FCN layer\n",
    "doc_mean = tf.reduce_mean(step_inputs, axis=0) # batch * embedding (mean)\n",
    "# hint = tf.placeholder(tf.float32, [None, 609], name='hint') # previous category\n",
    "# bf_lenear = tf.concat([doc_mean, hint], axis=1) # batch * (embediing + hint)\n",
    "# bf_lenear = tf.nn.dropout(bf_lenear, keep_prob)\n",
    "\"\"\"\n",
    "\n",
    "embedded_fw = tf.reshape(embedded_fw, [-1, seq_len, embedding_size, 1])\n",
    "embedded_bw = tf.reshape(embedded_bw, [-1, seq_len, embedding_size, 1])\n",
    "# CNN layer\n",
    "def char_cnn(no, embedded, name):\n",
    "  F = tf.get_variable(name, [no, embedding_size, 1, features], \n",
    "                     initializer=tf.contrib.layers.xavier_initializer()) # (row, column, channel, kernels)\n",
    "  L = tf.nn.conv2d(embedded, F, strides=[1, 1, 1, 1], padding='VALID')\n",
    "  L = tf.layers.batch_normalization(L, training=is_training)\n",
    "  L = tf.nn.tanh(L)\n",
    "  return L\n",
    "\n",
    "C2f = char_cnn(2, embedded_fw, name='2gram-filter-fw') # batch, seq-1, 1, filters\n",
    "C2fm = tf.nn.max_pool(C2f, ksize=[1, seq_len-(2-1), 1, 1], strides=[1, 1, 1, 1], padding='VALID')\n",
    "C2b = char_cnn(2, embedded_bw, name='2gram-filter-bw')\n",
    "\n",
    "C3f = char_cnn(3, embedded_fw, name='3gram-filter-fw')\n",
    "C3fm = tf.nn.max_pool(C3f, ksize=[1, seq_len-(3-1), 1, 1], strides=[1, 1, 1, 1], padding='VALID')\n",
    "C3b = char_cnn(3, embedded_bw, name='3gram-filter-bw')\n",
    "\n",
    "C4f = char_cnn(4, embedded_fw, name='4gram-filter-fw')\n",
    "C4fm = tf.nn.max_pool(C4f, ksize=[1, seq_len-(4-1), 1, 1], strides=[1, 1, 1, 1], padding='VALID')\n",
    "C4b = char_cnn(4, embedded_bw, name='4gram-filter-bw')\n",
    "\n",
    "# C5f = char_cnn(5, embedded_fw, name='5gram-filter-fw')\n",
    "# C5fm = tf.nn.max_pool(C5f, ksize=[1, seq_len-(5-1), 1, 1], strides=[1, 1, 1, 1], padding='VALID')\n",
    "# C5b = char_cnn(5, embedded_bw, name='5gram-filter-bw')\n",
    "\n",
    "# 1*1 conv\n",
    "def one_cnn(fw, bw, name):\n",
    "    Concat = tf.concat([fw, bw], 3)\n",
    "    F = tf.get_variable(name, [1, 1, 2*features, 1], \n",
    "                     initializer=tf.contrib.layers.xavier_initializer()) # (row, column, channel, kernels)\n",
    "    L = tf.nn.conv2d(Concat, F, strides=[1, 1, 1, 1], padding='VALID')\n",
    "    L = tf.layers.batch_normalization(L, training=is_training)\n",
    "    L = tf.nn.tanh(L)\n",
    "    return L\n",
    "\n",
    "C2all = one_cnn(C2f, C2b, '2gram-1by1-filter')\n",
    "C3all = one_cnn(C3f, C3b, '3gram-1by1-filter')\n",
    "C4all = one_cnn(C4f, C4b, '4gram-1by1-filter')\n",
    "C_all = tf.concat([C2all, C3all, C4all], 1)\n",
    "C_all = tf.squeeze(C_all, axis=[2,3]) # (?, seq_len*3 - some)\n",
    "\n",
    "conv_list = [C2fm, C3fm, C4fm]\n",
    "C_cat = tf.concat(conv_list, 3) # (?, 1, 1, features*3) --> to attention\n",
    "C_flat = tf.reshape(C_cat, [-1, len(conv_list)*features]) # (?, features*3)\n",
    "C_flat = tf.contrib.layers.fully_connected(C_flat, len(conv_list)*50, activation_fn=tf.nn.elu) #(?, 50*3)\n",
    "\n",
    "# 이미지\n",
    "# Xm = tf.nn.dropout(Xm, keep_prob)\n",
    "Xm2 = tf.contrib.layers.fully_connected(Xm, features, activation_fn=tf.nn.elu) # (?, features*3)\n",
    "\n",
    "# dot product attention\n",
    "Xm2_3d = tf.reshape(Xm2, [-1, features, 1])\n",
    "C_cat_3d = tf.reshape(C_cat, [-1, len(conv_list), features])\n",
    "A = tf.matmul(C_cat_3d, Xm2_3d) # ?, 3, 1\n",
    "A_soft = tf.nn.softmax(A, axis=1)\n",
    "ww = A_soft*C_cat_3d # ?, 3, 200\n",
    "att = tf.reduce_sum(ww, axis=1) # ?, 200\n",
    "\n",
    "C_flat_final = tf.concat([C_flat, C_all, att, Xm2, Xp], axis=1)\n",
    "\n",
    "# 오캄의 면도날... 굳이 없어도 되는 레이어인듯\n",
    "# L_linear = tf.contrib.layers.fully_connected(C_flat_final, 512, activation_fn=tf.nn.relu)\n",
    "# L_linear = tf.nn.dropout(L_linear, keep_prob)\n",
    "L_linear = tf.nn.dropout(C_flat_final, keep_prob)\n",
    "\n",
    "\n",
    "# Y_pred = tf.contrib.layers.fully_connected(bf_lenear, output_dim, activation_fn=tf.nn.relu)  # We use the last cell's output\n",
    "L_linear2 = tf.contrib.layers.fully_connected(L_linear, 1024, activation_fn=tf.nn.elu)  # We use the last cell's output\n",
    "Y_pred = tf.contrib.layers.fully_connected(L_linear2, output_dim, activation_fn=None)  # We use the last cell's output\n",
    "\n",
    "\n",
    "# # image feature\n",
    "# X = tf.placeholder(tf.float32, [None, len(data_x[0])], name=\"img_feat\")\n",
    "# X = tf.nn.dropout(X, keep_prob)\n",
    "# Y_pred = tf.contrib.layers.fully_connected(X, output_dim,\n",
    "#                                            activation_fn=tf.nn.relu, weights_initializer=tf.contrib.layers.xavier_initializer())  # We use the last cell's output\n",
    "\n",
    "# for batch norm\n",
    "update_ops = tf.get_collection(tf.GraphKeys.UPDATE_OPS)\n",
    "\n",
    "# optimize\n",
    "cost =tf.reduce_mean(tf.nn.softmax_cross_entropy_with_logits_v2(\n",
    "    logits=Y_pred, labels=Y, name='cross_entropy'))\n",
    "optimizer = tf.train.AdamOptimizer(lr)\n",
    "with tf.control_dependencies(update_ops):\n",
    "    train_step = optimizer.minimize(cost)\n",
    "\n",
    "# prediction\n",
    "predicted = tf.argmax(Y_pred, 1)\n",
    "accuracy = tf.reduce_mean(tf.cast(tf.equal(predicted, tf.argmax(Y, 1)), dtype=tf.float32))\n",
    "\n",
    "# saver\n",
    "name_to_var_map = {var.op.name: var for var in tf.global_variables()}\n",
    "saver = tf.train.Saver(name_to_var_map, name='my_saver', max_to_keep=30)"
   ]
  },
  {
   "cell_type": "markdown",
   "metadata": {},
   "source": [
    "# train/save"
   ]
  },
  {
   "cell_type": "code",
   "execution_count": null,
   "metadata": {
    "scrolled": true
   },
   "outputs": [
    {
     "name": "stdout",
     "output_type": "stream",
     "text": [
      "total iter is 100 * 793\n",
      "********** 0 epoch started: lr-0.008, chunk_no-0 **********\n"
     ]
    },
    {
     "name": "stderr",
     "output_type": "stream",
     "text": [
      "C:\\ProgramData\\Anaconda3\\lib\\site-packages\\ipykernel_launcher.py:18: RuntimeWarning: invalid value encountered in log10\n"
     ]
    },
    {
     "name": "stdout",
     "output_type": "stream",
     "text": [
      "step 0: acc_tr 0.00977, acc_val 0.00450, cost_val 8.49656, \t//19.004 sec\n",
      "step 50: acc_tr 0.02051, acc_val 0.01100, cost_val 9.69483, \t//27.291 sec\n",
      "step 100: acc_tr 0.05664, acc_val 0.05500, cost_val 7.82277, \t//28.015 sec\n",
      "step 150: acc_tr 0.06543, acc_val 0.06100, cost_val 7.15373, \t//27.466 sec\n",
      "step 200: acc_tr 0.08887, acc_val 0.08400, cost_val 6.56280, \t//27.976 sec\n",
      "step 250: acc_tr 0.10059, acc_val 0.10350, cost_val 6.13702, \t//27.166 sec\n",
      "step 300: acc_tr 0.14062, acc_val 0.11400, cost_val 5.99451, \t//27.914 sec\n",
      "step 350: acc_tr 0.14746, acc_val 0.13650, cost_val 5.79197, \t//27.296 sec\n",
      "step 400: acc_tr 0.16699, acc_val 0.16400, cost_val 5.56242, \t//28.221 sec\n",
      "step 450: acc_tr 0.17090, acc_val 0.17250, cost_val 5.46717, \t//27.230 sec\n",
      "step 500: acc_tr 0.21973, acc_val 0.20350, cost_val 5.15095, \t//27.923 sec\n",
      "step 550: acc_tr 0.25586, acc_val 0.20550, cost_val 4.95821, \t//27.164 sec\n",
      "step 600: acc_tr 0.22754, acc_val 0.22650, cost_val 4.85071, \t//28.094 sec\n",
      "step 650: acc_tr 0.26855, acc_val 0.25250, cost_val 4.61282, \t//27.283 sec\n",
      "step 700: acc_tr 0.28027, acc_val 0.27300, cost_val 4.48539, \t//27.780 sec\n",
      "step 750: acc_tr 0.30078, acc_val 0.28350, cost_val 4.31868, \t//27.325 sec\n",
      "model saved: ./small_model/small-792\n",
      "********** 1 epoch started: lr-0.00462103, chunk_no-0 **********\n",
      "step 0: acc_tr 0.30469, acc_val 0.29550, cost_val 4.34556, \t//25.481 sec\n",
      "step 50: acc_tr 0.33984, acc_val 0.32800, cost_val 4.10245, \t//27.258 sec\n",
      "step 100: acc_tr 0.32031, acc_val 0.32100, cost_val 4.10541, \t//28.048 sec\n",
      "step 150: acc_tr 0.36035, acc_val 0.33750, cost_val 4.17633, \t//27.288 sec\n",
      "step 200: acc_tr 0.34570, acc_val 0.35300, cost_val 4.00134, \t//28.211 sec\n",
      "step 250: acc_tr 0.35938, acc_val 0.34650, cost_val 3.89554, \t//27.299 sec\n",
      "step 300: acc_tr 0.37891, acc_val 0.36550, cost_val 3.97728, \t//28.216 sec\n",
      "step 350: acc_tr 0.38770, acc_val 0.35700, cost_val 4.06140, \t//27.362 sec\n",
      "step 400: acc_tr 0.37500, acc_val 0.37650, cost_val 3.82279, \t//28.462 sec\n",
      "step 450: acc_tr 0.37891, acc_val 0.36600, cost_val 3.94613, \t//27.357 sec\n",
      "step 500: acc_tr 0.40625, acc_val 0.37800, cost_val 3.85113, \t//27.975 sec\n",
      "step 550: acc_tr 0.39941, acc_val 0.37600, cost_val 3.67480, \t//27.410 sec\n",
      "step 600: acc_tr 0.39551, acc_val 0.38400, cost_val 3.71365, \t//27.850 sec\n",
      "step 650: acc_tr 0.40234, acc_val 0.40100, cost_val 3.64385, \t//27.638 sec\n",
      "step 700: acc_tr 0.41406, acc_val 0.40350, cost_val 3.64857, \t//27.800 sec\n",
      "step 750: acc_tr 0.41406, acc_val 0.38950, cost_val 3.76631, \t//27.393 sec\n",
      "model saved: ./small_model/small-1585\n",
      "********** 2 epoch started: lr-0.00447535, chunk_no-1 **********\n",
      "step 0: acc_tr 0.42090, acc_val 0.39900, cost_val 3.60098, \t//55.574 sec\n",
      "step 50: acc_tr 0.42383, acc_val 0.40300, cost_val 3.60260, \t//26.938 sec\n",
      "step 100: acc_tr 0.38184, acc_val 0.37600, cost_val 3.86470, \t//27.031 sec\n",
      "step 150: acc_tr 0.38965, acc_val 0.39550, cost_val 3.69296, \t//28.062 sec\n",
      "step 200: acc_tr 0.40820, acc_val 0.40300, cost_val 3.57362, \t//27.147 sec\n",
      "step 250: acc_tr 0.40918, acc_val 0.40900, cost_val 3.73800, \t//27.800 sec\n",
      "step 300: acc_tr 0.40137, acc_val 0.42300, cost_val 3.58447, \t//27.164 sec\n",
      "step 350: acc_tr 0.42383, acc_val 0.41650, cost_val 3.66352, \t//28.080 sec\n",
      "step 400: acc_tr 0.43945, acc_val 0.41400, cost_val 3.67272, \t//27.325 sec\n",
      "step 450: acc_tr 0.40137, acc_val 0.42350, cost_val 3.54578, \t//27.687 sec\n",
      "step 500: acc_tr 0.41406, acc_val 0.41050, cost_val 3.70408, \t//27.248 sec\n",
      "step 550: acc_tr 0.44824, acc_val 0.41650, cost_val 3.48235, \t//27.809 sec\n",
      "step 600: acc_tr 0.44824, acc_val 0.42600, cost_val 3.55358, \t//27.124 sec\n",
      "step 650: acc_tr 0.47266, acc_val 0.43050, cost_val 3.64558, \t//28.104 sec\n",
      "step 700: acc_tr 0.44629, acc_val 0.44200, cost_val 3.56411, \t//27.190 sec\n",
      "step 750: acc_tr 0.45312, acc_val 0.43200, cost_val 3.48433, \t//27.762 sec\n",
      "model saved: ./small_model/small-2378\n",
      "********** 3 epoch started: lr-0.00433427, chunk_no-1 **********\n",
      "step 0: acc_tr 0.42578, acc_val 0.43300, cost_val 3.82401, \t//25.035 sec\n",
      "step 50: acc_tr 0.45020, acc_val 0.42300, cost_val 3.73619, \t//27.121 sec\n",
      "step 100: acc_tr 0.41992, acc_val 0.42350, cost_val 3.60162, \t//27.799 sec\n",
      "step 150: acc_tr 0.44727, acc_val 0.44800, cost_val 3.36222, \t//27.092 sec\n",
      "step 200: acc_tr 0.48438, acc_val 0.43750, cost_val 3.44530, \t//27.905 sec\n",
      "step 250: acc_tr 0.44629, acc_val 0.42100, cost_val 3.55860, \t//27.575 sec\n",
      "step 300: acc_tr 0.41602, acc_val 0.43750, cost_val 3.61751, \t//27.789 sec\n",
      "step 350: acc_tr 0.46777, acc_val 0.45050, cost_val 3.50259, \t//27.141 sec\n",
      "step 400: acc_tr 0.45508, acc_val 0.43450, cost_val 3.51154, \t//27.830 sec\n",
      "step 450: acc_tr 0.48047, acc_val 0.44700, cost_val 3.43469, \t//27.486 sec\n",
      "step 500: acc_tr 0.42871, acc_val 0.43400, cost_val 3.37684, \t//28.355 sec\n",
      "step 550: acc_tr 0.47656, acc_val 0.43850, cost_val 3.56390, \t//27.163 sec\n",
      "step 600: acc_tr 0.45801, acc_val 0.45600, cost_val 3.40767, \t//27.778 sec\n",
      "step 650: acc_tr 0.48438, acc_val 0.44200, cost_val 3.45599, \t//27.209 sec\n",
      "step 700: acc_tr 0.47363, acc_val 0.44600, cost_val 3.36053, \t//27.883 sec\n",
      "step 750: acc_tr 0.45508, acc_val 0.44300, cost_val 3.44785, \t//27.482 sec\n",
      "model saved: ./small_model/small-3171\n",
      "********** 4 epoch started: lr-0.00419763, chunk_no-2 **********\n",
      "step 0: acc_tr 0.44629, acc_val 0.44500, cost_val 3.46353, \t//55.012 sec\n",
      "step 50: acc_tr 0.45508, acc_val 0.44850, cost_val 3.31479, \t//27.051 sec\n",
      "step 100: acc_tr 0.45508, acc_val 0.46350, cost_val 3.37879, \t//27.136 sec\n",
      "step 150: acc_tr 0.45898, acc_val 0.44650, cost_val 3.39051, \t//28.081 sec\n",
      "step 200: acc_tr 0.47363, acc_val 0.45050, cost_val 3.39789, \t//27.126 sec\n",
      "step 250: acc_tr 0.50781, acc_val 0.45050, cost_val 3.34017, \t//27.942 sec\n",
      "step 300: acc_tr 0.48242, acc_val 0.46200, cost_val 3.40559, \t//27.692 sec\n",
      "step 350: acc_tr 0.47363, acc_val 0.45900, cost_val 3.43244, \t//28.417 sec\n",
      "step 400: acc_tr 0.44629, acc_val 0.45100, cost_val 3.47747, \t//27.922 sec\n",
      "step 450: acc_tr 0.47363, acc_val 0.46000, cost_val 3.37355, \t//28.169 sec\n",
      "step 500: acc_tr 0.50586, acc_val 0.46900, cost_val 3.28137, \t//27.303 sec\n",
      "step 550: acc_tr 0.47754, acc_val 0.47150, cost_val 3.17346, \t//27.961 sec\n",
      "step 600: acc_tr 0.48438, acc_val 0.45550, cost_val 3.32725, \t//27.304 sec\n",
      "step 650: acc_tr 0.48535, acc_val 0.46300, cost_val 3.11666, \t//28.144 sec\n",
      "step 700: acc_tr 0.50488, acc_val 0.47650, cost_val 3.24271, \t//27.259 sec\n",
      "step 750: acc_tr 0.47852, acc_val 0.45000, cost_val 3.48330, \t//27.766 sec\n",
      "model saved: ./small_model/small-3964\n",
      "********** 5 epoch started: lr-0.0040653, chunk_no-2 **********\n",
      "step 0: acc_tr 0.48242, acc_val 0.46900, cost_val 3.30597, \t//25.069 sec\n",
      "step 50: acc_tr 0.50977, acc_val 0.46750, cost_val 3.27766, \t//27.339 sec\n",
      "step 100: acc_tr 0.49902, acc_val 0.46950, cost_val 3.19535, \t//27.832 sec\n",
      "step 150: acc_tr 0.52246, acc_val 0.46950, cost_val 3.26844, \t//27.185 sec\n",
      "step 200: acc_tr 0.51367, acc_val 0.47000, cost_val 3.24770, \t//27.814 sec\n",
      "step 250: acc_tr 0.52734, acc_val 0.48700, cost_val 3.17597, \t//27.498 sec\n",
      "step 300: acc_tr 0.48535, acc_val 0.46450, cost_val 3.27793, \t//27.827 sec\n",
      "step 350: acc_tr 0.48633, acc_val 0.47500, cost_val 3.14950, \t//27.184 sec\n",
      "step 400: acc_tr 0.48926, acc_val 0.47950, cost_val 3.28568, \t//27.947 sec\n",
      "step 450: acc_tr 0.50879, acc_val 0.47150, cost_val 3.30197, \t//27.210 sec\n",
      "step 500: acc_tr 0.49512, acc_val 0.47400, cost_val 3.38664, \t//28.187 sec\n",
      "step 550: acc_tr 0.50586, acc_val 0.49050, cost_val 3.20858, \t//27.421 sec\n",
      "step 600: acc_tr 0.49023, acc_val 0.47450, cost_val 3.29339, \t//28.094 sec\n",
      "step 650: acc_tr 0.52539, acc_val 0.48400, cost_val 3.21596, \t//27.196 sec\n",
      "step 700: acc_tr 0.52344, acc_val 0.46950, cost_val 3.11962, \t//27.886 sec\n",
      "step 750: acc_tr 0.49902, acc_val 0.47400, cost_val 3.34176, \t//27.692 sec\n",
      "model saved: ./small_model/small-4757\n",
      "********** 6 epoch started: lr-0.00393715, chunk_no-3 **********\n",
      "step 0: acc_tr 0.50195, acc_val 0.48800, cost_val 3.21068, \t//55.383 sec\n",
      "step 50: acc_tr 0.49023, acc_val 0.47650, cost_val 3.22808, \t//27.040 sec\n",
      "step 100: acc_tr 0.50781, acc_val 0.48400, cost_val 3.14426, \t//27.157 sec\n",
      "step 150: acc_tr 0.48047, acc_val 0.47300, cost_val 3.26634, \t//28.094 sec\n",
      "step 200: acc_tr 0.50000, acc_val 0.48550, cost_val 3.17477, \t//27.169 sec\n"
     ]
    },
    {
     "name": "stdout",
     "output_type": "stream",
     "text": [
      "step 250: acc_tr 0.48438, acc_val 0.47550, cost_val 3.20845, \t//27.839 sec\n",
      "step 300: acc_tr 0.53320, acc_val 0.47950, cost_val 3.15782, \t//27.101 sec\n",
      "step 350: acc_tr 0.51758, acc_val 0.46950, cost_val 3.17517, \t//27.761 sec\n",
      "step 400: acc_tr 0.48047, acc_val 0.46250, cost_val 3.23013, \t//27.479 sec\n",
      "step 450: acc_tr 0.53418, acc_val 0.49450, cost_val 3.18052, \t//27.792 sec\n",
      "step 500: acc_tr 0.48828, acc_val 0.46950, cost_val 3.27279, \t//27.091 sec\n",
      "step 550: acc_tr 0.50488, acc_val 0.48750, cost_val 3.15543, \t//27.765 sec\n",
      "step 600: acc_tr 0.51855, acc_val 0.49050, cost_val 3.17818, \t//27.081 sec\n",
      "step 650: acc_tr 0.52344, acc_val 0.47550, cost_val 3.27496, \t//28.296 sec\n",
      "step 700: acc_tr 0.51953, acc_val 0.48150, cost_val 3.11380, \t//27.172 sec\n",
      "step 750: acc_tr 0.50977, acc_val 0.48650, cost_val 3.21925, \t//27.844 sec\n",
      "model saved: ./small_model/small-5550\n",
      "********** 7 epoch started: lr-0.00381303, chunk_no-3 **********\n",
      "step 0: acc_tr 0.50586, acc_val 0.51100, cost_val 3.10676, \t//25.024 sec\n",
      "step 50: acc_tr 0.51367, acc_val 0.49400, cost_val 3.16653, \t//27.219 sec\n",
      "step 100: acc_tr 0.52051, acc_val 0.49900, cost_val 3.00216, \t//27.756 sec\n",
      "step 150: acc_tr 0.52344, acc_val 0.47950, cost_val 3.16806, \t//27.180 sec\n",
      "step 200: acc_tr 0.52246, acc_val 0.49000, cost_val 3.08598, \t//27.853 sec\n",
      "step 250: acc_tr 0.53516, acc_val 0.49900, cost_val 3.09188, \t//27.515 sec\n",
      "step 300: acc_tr 0.53320, acc_val 0.48600, cost_val 3.22149, \t//27.781 sec\n",
      "step 350: acc_tr 0.51172, acc_val 0.49700, cost_val 3.10557, \t//27.206 sec\n",
      "step 400: acc_tr 0.50488, acc_val 0.49100, cost_val 3.12689, \t//27.842 sec\n",
      "step 450: acc_tr 0.50391, acc_val 0.49250, cost_val 3.08726, \t//27.173 sec\n",
      "step 500: acc_tr 0.52344, acc_val 0.50600, cost_val 3.11272, \t//28.109 sec\n",
      "step 550: acc_tr 0.53906, acc_val 0.50700, cost_val 3.20804, \t//27.218 sec\n",
      "step 600: acc_tr 0.54590, acc_val 0.49700, cost_val 3.08151, \t//27.850 sec\n",
      "step 650: acc_tr 0.51465, acc_val 0.48950, cost_val 3.19033, \t//27.176 sec\n",
      "step 700: acc_tr 0.54004, acc_val 0.51500, cost_val 3.13744, \t//27.763 sec\n",
      "step 750: acc_tr 0.52441, acc_val 0.49750, cost_val 3.05500, \t//27.492 sec\n",
      "model saved: ./small_model/small-6343\n",
      "********** 8 epoch started: lr-0.00369283, chunk_no-4 **********\n",
      "step 0: acc_tr 0.52441, acc_val 0.49850, cost_val 3.05366, \t//55.349 sec\n",
      "step 50: acc_tr 0.49707, acc_val 0.48750, cost_val 3.00450, \t//27.063 sec\n",
      "step 100: acc_tr 0.48926, acc_val 0.48600, cost_val 3.06912, \t//27.006 sec\n",
      "step 150: acc_tr 0.51465, acc_val 0.49850, cost_val 3.01596, \t//28.134 sec\n",
      "step 200: acc_tr 0.50586, acc_val 0.48950, cost_val 3.13894, \t//27.181 sec\n",
      "step 250: acc_tr 0.50000, acc_val 0.49800, cost_val 3.01010, \t//27.829 sec\n",
      "step 300: acc_tr 0.52734, acc_val 0.50300, cost_val 2.99424, \t//27.328 sec\n",
      "step 350: acc_tr 0.51367, acc_val 0.50800, cost_val 2.90470, \t//27.758 sec\n",
      "step 400: acc_tr 0.55078, acc_val 0.50200, cost_val 3.08095, \t//27.437 sec\n",
      "step 450: acc_tr 0.54199, acc_val 0.50400, cost_val 3.03061, \t//27.734 sec\n",
      "step 500: acc_tr 0.49707, acc_val 0.48500, cost_val 3.07341, \t//27.258 sec\n",
      "step 550: acc_tr 0.52734, acc_val 0.50950, cost_val 3.04988, \t//27.837 sec\n",
      "step 600: acc_tr 0.52832, acc_val 0.50950, cost_val 2.96787, \t//27.131 sec\n",
      "step 650: acc_tr 0.53809, acc_val 0.50250, cost_val 2.99368, \t//28.129 sec\n",
      "step 700: acc_tr 0.53418, acc_val 0.49700, cost_val 3.01399, \t//27.210 sec\n",
      "step 750: acc_tr 0.52832, acc_val 0.49650, cost_val 3.06979, \t//27.819 sec\n",
      "model saved: ./small_model/small-7136\n",
      "********** 9 epoch started: lr-0.00357641, chunk_no-4 **********\n",
      "step 0: acc_tr 0.53125, acc_val 0.49750, cost_val 3.02415, \t//25.001 sec\n",
      "step 50: acc_tr 0.51855, acc_val 0.52150, cost_val 2.97712, \t//27.032 sec\n",
      "step 100: acc_tr 0.49609, acc_val 0.50850, cost_val 2.99361, \t//27.750 sec\n",
      "step 150: acc_tr 0.52246, acc_val 0.52400, cost_val 2.87386, \t//27.103 sec\n",
      "step 200: acc_tr 0.54980, acc_val 0.49850, cost_val 2.98592, \t//27.757 sec\n",
      "step 250: acc_tr 0.55566, acc_val 0.51000, cost_val 2.99436, \t//27.504 sec\n",
      "step 300: acc_tr 0.53027, acc_val 0.52050, cost_val 3.03677, \t//27.745 sec\n",
      "step 350: acc_tr 0.52051, acc_val 0.50600, cost_val 3.00029, \t//27.108 sec\n",
      "step 400: acc_tr 0.55566, acc_val 0.50300, cost_val 3.06356, \t//27.815 sec\n",
      "step 450: acc_tr 0.51660, acc_val 0.51550, cost_val 2.98986, \t//27.190 sec\n",
      "step 500: acc_tr 0.56250, acc_val 0.51150, cost_val 2.92788, \t//28.135 sec\n",
      "step 550: acc_tr 0.54297, acc_val 0.49350, cost_val 3.06098, \t//27.194 sec\n",
      "step 600: acc_tr 0.52051, acc_val 0.51850, cost_val 2.93667, \t//27.806 sec\n",
      "step 650: acc_tr 0.54297, acc_val 0.51150, cost_val 3.00187, \t//27.189 sec\n",
      "step 700: acc_tr 0.55664, acc_val 0.51850, cost_val 3.00465, \t//27.806 sec\n",
      "step 750: acc_tr 0.53223, acc_val 0.51900, cost_val 2.91068, \t//27.530 sec\n",
      "model saved: ./small_model/small-7929\n",
      "********** 10 epoch started: lr-0.00346367, chunk_no-5 **********\n",
      "step 0: acc_tr 0.54004, acc_val 0.51050, cost_val 2.96821, \t//55.611 sec\n",
      "step 50: acc_tr 0.50684, acc_val 0.51150, cost_val 2.91096, \t//26.798 sec\n",
      "step 100: acc_tr 0.48730, acc_val 0.51350, cost_val 3.06729, \t//27.034 sec\n",
      "step 150: acc_tr 0.53223, acc_val 0.49400, cost_val 2.93997, \t//28.091 sec\n",
      "step 200: acc_tr 0.55078, acc_val 0.52250, cost_val 2.78800, \t//27.084 sec\n",
      "step 250: acc_tr 0.54102, acc_val 0.51650, cost_val 2.92836, \t//27.786 sec\n",
      "step 300: acc_tr 0.53711, acc_val 0.51200, cost_val 2.96516, \t//27.184 sec\n",
      "step 350: acc_tr 0.53320, acc_val 0.50700, cost_val 2.99809, \t//27.794 sec\n",
      "step 400: acc_tr 0.52734, acc_val 0.51600, cost_val 2.83338, \t//27.498 sec\n",
      "step 450: acc_tr 0.52930, acc_val 0.50200, cost_val 2.98499, \t//27.842 sec\n",
      "step 500: acc_tr 0.54297, acc_val 0.51300, cost_val 2.98209, \t//27.191 sec\n",
      "step 550: acc_tr 0.56641, acc_val 0.50750, cost_val 3.01558, \t//27.815 sec\n",
      "step 600: acc_tr 0.56641, acc_val 0.51500, cost_val 2.91550, \t//27.139 sec\n",
      "step 650: acc_tr 0.53418, acc_val 0.51500, cost_val 2.88465, \t//28.140 sec\n",
      "step 700: acc_tr 0.53125, acc_val 0.52100, cost_val 2.93751, \t//27.194 sec\n",
      "step 750: acc_tr 0.57715, acc_val 0.52700, cost_val 2.91713, \t//27.790 sec\n",
      "model saved: ./small_model/small-8722\n",
      "********** 11 epoch started: lr-0.00335448, chunk_no-5 **********\n",
      "step 0: acc_tr 0.56738, acc_val 0.52000, cost_val 2.87577, \t//24.977 sec\n",
      "step 50: acc_tr 0.53809, acc_val 0.52200, cost_val 2.84427, \t//27.186 sec\n",
      "step 100: acc_tr 0.53711, acc_val 0.51100, cost_val 2.96083, \t//27.818 sec\n",
      "step 150: acc_tr 0.52832, acc_val 0.50950, cost_val 2.85038, \t//27.192 sec\n",
      "step 200: acc_tr 0.54102, acc_val 0.52250, cost_val 2.88341, \t//27.796 sec\n",
      "step 250: acc_tr 0.55566, acc_val 0.52550, cost_val 2.78984, \t//27.520 sec\n",
      "step 300: acc_tr 0.53906, acc_val 0.52600, cost_val 2.91570, \t//27.938 sec\n",
      "step 350: acc_tr 0.54297, acc_val 0.50800, cost_val 2.91711, \t//27.113 sec\n",
      "step 400: acc_tr 0.53613, acc_val 0.52450, cost_val 2.86584, \t//27.742 sec\n",
      "step 450: acc_tr 0.53516, acc_val 0.53050, cost_val 2.87196, \t//27.109 sec\n",
      "step 500: acc_tr 0.57520, acc_val 0.51050, cost_val 2.94387, \t//28.093 sec\n",
      "step 550: acc_tr 0.54297, acc_val 0.53000, cost_val 2.87940, \t//27.085 sec\n",
      "step 600: acc_tr 0.52734, acc_val 0.52350, cost_val 2.83495, \t//27.745 sec\n",
      "step 650: acc_tr 0.54102, acc_val 0.52600, cost_val 2.77178, \t//27.139 sec\n",
      "step 700: acc_tr 0.55566, acc_val 0.51750, cost_val 2.93198, \t//27.869 sec\n",
      "step 750: acc_tr 0.55762, acc_val 0.51950, cost_val 2.84924, \t//27.955 sec\n",
      "model saved: ./small_model/small-9515\n",
      "********** 12 epoch started: lr-0.00324873, chunk_no-6 **********\n",
      "step 0: acc_tr 0.54688, acc_val 0.52250, cost_val 2.74019, \t//55.266 sec\n",
      "step 50: acc_tr 0.54492, acc_val 0.51050, cost_val 2.87296, \t//26.965 sec\n",
      "step 100: acc_tr 0.52441, acc_val 0.49700, cost_val 2.91995, \t//27.027 sec\n",
      "step 150: acc_tr 0.54883, acc_val 0.51100, cost_val 2.84890, \t//28.081 sec\n",
      "step 200: acc_tr 0.51758, acc_val 0.51850, cost_val 2.78241, \t//27.077 sec\n",
      "step 250: acc_tr 0.54199, acc_val 0.53950, cost_val 2.67888, \t//27.757 sec\n",
      "step 300: acc_tr 0.52148, acc_val 0.51700, cost_val 2.75694, \t//27.145 sec\n",
      "step 350: acc_tr 0.52051, acc_val 0.52700, cost_val 2.74009, \t//27.787 sec\n",
      "step 400: acc_tr 0.57715, acc_val 0.53700, cost_val 2.76545, \t//27.436 sec\n",
      "step 450: acc_tr 0.55371, acc_val 0.53500, cost_val 2.65873, \t//27.784 sec\n"
     ]
    },
    {
     "name": "stdout",
     "output_type": "stream",
     "text": [
      "step 500: acc_tr 0.52832, acc_val 0.52800, cost_val 2.73413, \t//27.129 sec\n",
      "step 550: acc_tr 0.55566, acc_val 0.53400, cost_val 2.84222, \t//27.843 sec\n",
      "step 600: acc_tr 0.55273, acc_val 0.51700, cost_val 2.82151, \t//27.182 sec\n",
      "step 650: acc_tr 0.54492, acc_val 0.53100, cost_val 2.85348, \t//28.130 sec\n",
      "step 700: acc_tr 0.57520, acc_val 0.54050, cost_val 2.77595, \t//27.162 sec\n",
      "step 750: acc_tr 0.54688, acc_val 0.53550, cost_val 2.70865, \t//27.868 sec\n",
      "model saved: ./small_model/small-10308\n",
      "********** 13 epoch started: lr-0.00314632, chunk_no-6 **********\n",
      "step 0: acc_tr 0.54980, acc_val 0.53150, cost_val 2.69495, \t//25.069 sec\n",
      "step 50: acc_tr 0.51074, acc_val 0.52850, cost_val 2.75760, \t//27.138 sec\n",
      "step 100: acc_tr 0.53516, acc_val 0.53700, cost_val 2.75476, \t//27.719 sec\n",
      "step 150: acc_tr 0.54785, acc_val 0.52700, cost_val 2.87181, \t//27.192 sec\n",
      "step 200: acc_tr 0.55859, acc_val 0.53300, cost_val 2.72249, \t//27.826 sec\n",
      "step 250: acc_tr 0.52832, acc_val 0.53450, cost_val 2.63436, \t//27.512 sec\n",
      "step 300: acc_tr 0.57520, acc_val 0.53800, cost_val 2.72646, \t//27.814 sec\n",
      "step 350: acc_tr 0.55273, acc_val 0.53100, cost_val 2.73811, \t//27.220 sec\n",
      "step 400: acc_tr 0.57129, acc_val 0.53350, cost_val 2.77189, \t//27.833 sec\n",
      "step 450: acc_tr 0.56641, acc_val 0.52950, cost_val 2.74065, \t//27.185 sec\n",
      "step 500: acc_tr 0.56445, acc_val 0.53850, cost_val 2.76107, \t//28.140 sec\n",
      "step 550: acc_tr 0.54395, acc_val 0.53350, cost_val 2.63730, \t//27.186 sec\n",
      "step 600: acc_tr 0.56152, acc_val 0.52950, cost_val 2.69775, \t//27.825 sec\n",
      "step 650: acc_tr 0.58203, acc_val 0.53650, cost_val 2.65978, \t//27.166 sec\n",
      "step 700: acc_tr 0.55469, acc_val 0.52950, cost_val 2.76728, \t//27.777 sec\n",
      "step 750: acc_tr 0.56934, acc_val 0.54250, cost_val 2.72978, \t//27.619 sec\n",
      "model saved: ./small_model/small-11101\n",
      "********** 14 epoch started: lr-0.00304713, chunk_no-7 **********\n",
      "step 0: acc_tr 0.53906, acc_val 0.54650, cost_val 2.67495, \t//54.998 sec\n",
      "step 50: acc_tr 0.50977, acc_val 0.52500, cost_val 2.66695, \t//27.193 sec\n",
      "step 100: acc_tr 0.55566, acc_val 0.51300, cost_val 2.75824, \t//27.094 sec\n",
      "step 150: acc_tr 0.54590, acc_val 0.54150, cost_val 2.70073, \t//28.130 sec\n",
      "step 200: acc_tr 0.52051, acc_val 0.52650, cost_val 2.75815, \t//27.100 sec\n",
      "step 250: acc_tr 0.53809, acc_val 0.52550, cost_val 2.67337, \t//27.787 sec\n",
      "step 300: acc_tr 0.54590, acc_val 0.53450, cost_val 2.79635, \t//27.112 sec\n",
      "step 350: acc_tr 0.55859, acc_val 0.55400, cost_val 2.59917, \t//27.722 sec\n",
      "step 400: acc_tr 0.54297, acc_val 0.53150, cost_val 2.70972, \t//27.485 sec\n",
      "step 450: acc_tr 0.54102, acc_val 0.51950, cost_val 2.65796, \t//27.782 sec\n",
      "step 500: acc_tr 0.56152, acc_val 0.52850, cost_val 2.67807, \t//27.096 sec\n",
      "step 550: acc_tr 0.54395, acc_val 0.53650, cost_val 2.58580, \t//27.765 sec\n",
      "step 600: acc_tr 0.53027, acc_val 0.54600, cost_val 2.56898, \t//27.171 sec\n",
      "step 650: acc_tr 0.57129, acc_val 0.53950, cost_val 2.55600, \t//28.078 sec\n",
      "step 700: acc_tr 0.58203, acc_val 0.53700, cost_val 2.59450, \t//27.092 sec\n",
      "step 750: acc_tr 0.55078, acc_val 0.54150, cost_val 2.58360, \t//27.834 sec\n",
      "model saved: ./small_model/small-11894\n",
      "********** 15 epoch started: lr-0.00295107, chunk_no-7 **********\n",
      "step 0: acc_tr 0.56836, acc_val 0.53700, cost_val 2.63274, \t//24.999 sec\n",
      "step 50: acc_tr 0.55762, acc_val 0.53650, cost_val 2.55835, \t//27.154 sec\n",
      "step 100: acc_tr 0.56152, acc_val 0.54250, cost_val 2.59884, \t//27.814 sec\n",
      "step 150: acc_tr 0.57715, acc_val 0.54250, cost_val 2.55783, \t//27.163 sec\n",
      "step 200: acc_tr 0.56641, acc_val 0.54350, cost_val 2.68521, \t//27.789 sec\n",
      "step 250: acc_tr 0.53906, acc_val 0.54900, cost_val 2.62468, \t//27.516 sec\n",
      "step 300: acc_tr 0.54395, acc_val 0.55450, cost_val 2.58042, \t//27.751 sec\n",
      "step 350: acc_tr 0.53320, acc_val 0.55850, cost_val 2.51635, \t//27.132 sec\n",
      "step 400: acc_tr 0.58008, acc_val 0.54950, cost_val 2.58563, \t//27.741 sec\n",
      "step 450: acc_tr 0.57910, acc_val 0.53800, cost_val 2.56661, \t//27.107 sec\n",
      "step 500: acc_tr 0.53320, acc_val 0.54950, cost_val 2.54020, \t//28.164 sec\n",
      "step 550: acc_tr 0.54590, acc_val 0.55700, cost_val 2.55735, \t//27.282 sec\n",
      "step 600: acc_tr 0.56250, acc_val 0.54750, cost_val 2.54903, \t//27.779 sec\n",
      "step 650: acc_tr 0.54980, acc_val 0.53950, cost_val 2.57408, \t//27.230 sec\n",
      "step 700: acc_tr 0.55469, acc_val 0.53900, cost_val 2.60286, \t//27.828 sec\n",
      "step 750: acc_tr 0.56348, acc_val 0.53850, cost_val 2.57321, \t//27.750 sec\n",
      "model saved: ./small_model/small-12687\n",
      "********** 16 epoch started: lr-0.00285804, chunk_no-8 **********\n",
      "step 0: acc_tr 0.55566, acc_val 0.54650, cost_val 2.58036, \t//55.499 sec\n",
      "step 50: acc_tr 0.52637, acc_val 0.53900, cost_val 2.61356, \t//27.003 sec\n",
      "step 100: acc_tr 0.53223, acc_val 0.52700, cost_val 2.64996, \t//27.125 sec\n",
      "step 150: acc_tr 0.54297, acc_val 0.53500, cost_val 2.58375, \t//28.110 sec\n",
      "step 200: acc_tr 0.54492, acc_val 0.54950, cost_val 2.43785, \t//27.212 sec\n",
      "step 250: acc_tr 0.56445, acc_val 0.53400, cost_val 2.45347, \t//27.824 sec\n",
      "step 300: acc_tr 0.54688, acc_val 0.55100, cost_val 2.50576, \t//27.135 sec\n",
      "step 350: acc_tr 0.55566, acc_val 0.55750, cost_val 2.52024, \t//27.798 sec\n",
      "step 400: acc_tr 0.52734, acc_val 0.54700, cost_val 2.58416, \t//27.541 sec\n",
      "step 450: acc_tr 0.56250, acc_val 0.55250, cost_val 2.45928, \t//27.770 sec\n",
      "step 500: acc_tr 0.52344, acc_val 0.54150, cost_val 2.57308, \t//27.109 sec\n",
      "step 550: acc_tr 0.51465, acc_val 0.55000, cost_val 2.45357, \t//27.719 sec\n",
      "step 600: acc_tr 0.56152, acc_val 0.55750, cost_val 2.44682, \t//27.073 sec\n",
      "step 650: acc_tr 0.56445, acc_val 0.54250, cost_val 2.55471, \t//28.101 sec\n",
      "step 700: acc_tr 0.56348, acc_val 0.55750, cost_val 2.42825, \t//27.072 sec\n",
      "step 750: acc_tr 0.57617, acc_val 0.53850, cost_val 2.51077, \t//27.770 sec\n",
      "model saved: ./small_model/small-13480\n",
      "********** 17 epoch started: lr-0.00276794, chunk_no-8 **********\n",
      "step 0: acc_tr 0.54199, acc_val 0.55750, cost_val 2.46243, \t//24.931 sec\n",
      "step 50: acc_tr 0.57812, acc_val 0.55750, cost_val 2.37955, \t//27.061 sec\n",
      "step 100: acc_tr 0.56250, acc_val 0.55250, cost_val 2.44871, \t//27.838 sec\n",
      "step 150: acc_tr 0.54297, acc_val 0.55300, cost_val 2.41369, \t//27.218 sec\n",
      "step 200: acc_tr 0.52539, acc_val 0.55050, cost_val 2.44347, \t//27.780 sec\n",
      "step 250: acc_tr 0.55176, acc_val 0.55350, cost_val 2.52639, \t//27.609 sec\n",
      "step 300: acc_tr 0.56445, acc_val 0.54650, cost_val 2.47884, \t//27.739 sec\n",
      "step 350: acc_tr 0.57227, acc_val 0.55200, cost_val 2.43301, \t//27.092 sec\n",
      "step 400: acc_tr 0.57227, acc_val 0.54750, cost_val 2.48914, \t//27.719 sec\n",
      "step 450: acc_tr 0.57617, acc_val 0.55750, cost_val 2.45738, \t//27.295 sec\n",
      "step 500: acc_tr 0.57129, acc_val 0.55550, cost_val 2.41092, \t//28.126 sec\n",
      "step 550: acc_tr 0.57129, acc_val 0.57300, cost_val 2.37761, \t//27.202 sec\n",
      "step 600: acc_tr 0.56055, acc_val 0.55900, cost_val 2.38900, \t//27.802 sec\n",
      "step 650: acc_tr 0.57129, acc_val 0.53650, cost_val 2.45292, \t//27.188 sec\n",
      "step 700: acc_tr 0.56934, acc_val 0.54950, cost_val 2.44921, \t//27.731 sec\n",
      "step 750: acc_tr 0.55078, acc_val 0.54950, cost_val 2.45552, \t//27.499 sec\n",
      "model saved: ./small_model/small-14273\n",
      "********** 18 epoch started: lr-0.00268068, chunk_no-9 **********\n",
      "step 0: acc_tr 0.54102, acc_val 0.54750, cost_val 2.36199, \t//55.061 sec\n",
      "step 50: acc_tr 0.55957, acc_val 0.54400, cost_val 2.48289, \t//26.868 sec\n",
      "step 100: acc_tr 0.57617, acc_val 0.55850, cost_val 2.38352, \t//26.989 sec\n",
      "step 150: acc_tr 0.53223, acc_val 0.54500, cost_val 2.35636, \t//27.983 sec\n",
      "step 200: acc_tr 0.53906, acc_val 0.55800, cost_val 2.49551, \t//27.035 sec\n",
      "step 250: acc_tr 0.57520, acc_val 0.54300, cost_val 2.46163, \t//27.768 sec\n",
      "step 300: acc_tr 0.54297, acc_val 0.56500, cost_val 2.46201, \t//27.135 sec\n",
      "step 350: acc_tr 0.57324, acc_val 0.54500, cost_val 2.45913, \t//27.770 sec\n",
      "step 400: acc_tr 0.54395, acc_val 0.55950, cost_val 2.36619, \t//27.436 sec\n",
      "step 450: acc_tr 0.58008, acc_val 0.55150, cost_val 2.36369, \t//27.727 sec\n",
      "step 500: acc_tr 0.56934, acc_val 0.55950, cost_val 2.32694, \t//27.163 sec\n",
      "step 550: acc_tr 0.56738, acc_val 0.55900, cost_val 2.31906, \t//27.831 sec\n",
      "step 600: acc_tr 0.54297, acc_val 0.56700, cost_val 2.38480, \t//27.166 sec\n",
      "step 650: acc_tr 0.54395, acc_val 0.56250, cost_val 2.38923, \t//28.091 sec\n",
      "step 700: acc_tr 0.54590, acc_val 0.55200, cost_val 2.40519, \t//27.160 sec\n"
     ]
    },
    {
     "name": "stdout",
     "output_type": "stream",
     "text": [
      "step 750: acc_tr 0.56738, acc_val 0.55250, cost_val 2.41212, \t//27.786 sec\n",
      "model saved: ./small_model/small-15066\n",
      "********** 19 epoch started: lr-0.00259618, chunk_no-9 **********\n",
      "step 0: acc_tr 0.53809, acc_val 0.57250, cost_val 2.31921, \t//25.065 sec\n",
      "step 50: acc_tr 0.55371, acc_val 0.54500, cost_val 2.44001, \t//27.113 sec\n",
      "step 100: acc_tr 0.56152, acc_val 0.55100, cost_val 2.32572, \t//27.736 sec\n",
      "step 150: acc_tr 0.54004, acc_val 0.55000, cost_val 2.33476, \t//27.195 sec\n",
      "step 200: acc_tr 0.54004, acc_val 0.55950, cost_val 2.33626, \t//27.814 sec\n",
      "step 250: acc_tr 0.57324, acc_val 0.55250, cost_val 2.36608, \t//27.702 sec\n",
      "step 300: acc_tr 0.55762, acc_val 0.56550, cost_val 2.35850, \t//27.799 sec\n",
      "step 350: acc_tr 0.55957, acc_val 0.55550, cost_val 2.37054, \t//27.170 sec\n",
      "step 400: acc_tr 0.55664, acc_val 0.55750, cost_val 2.45167, \t//27.720 sec\n",
      "step 450: acc_tr 0.56445, acc_val 0.56300, cost_val 2.42487, \t//27.123 sec\n",
      "step 500: acc_tr 0.58008, acc_val 0.55200, cost_val 2.36045, \t//28.146 sec\n",
      "step 550: acc_tr 0.58691, acc_val 0.57600, cost_val 2.32518, \t//27.261 sec\n",
      "step 600: acc_tr 0.56836, acc_val 0.57100, cost_val 2.33830, \t//28.007 sec\n",
      "step 650: acc_tr 0.58105, acc_val 0.56750, cost_val 2.34968, \t//27.369 sec\n",
      "step 700: acc_tr 0.56445, acc_val 0.57450, cost_val 2.30467, \t//28.169 sec\n",
      "step 750: acc_tr 0.57227, acc_val 0.56700, cost_val 2.39164, \t//27.586 sec\n",
      "model saved: ./small_model/small-15859\n",
      "********** 20 epoch started: lr-0.00251433, chunk_no-0 **********\n",
      "step 0: acc_tr 0.54980, acc_val 0.58000, cost_val 2.24113, \t//55.637 sec\n",
      "step 50: acc_tr 0.56348, acc_val 0.56050, cost_val 2.29377, \t//27.109 sec\n",
      "step 100: acc_tr 0.56152, acc_val 0.54700, cost_val 2.41886, \t//27.927 sec\n",
      "step 150: acc_tr 0.56543, acc_val 0.57250, cost_val 2.29857, \t//27.756 sec\n",
      "step 200: acc_tr 0.58105, acc_val 0.55050, cost_val 2.41490, \t//28.238 sec\n",
      "step 250: acc_tr 0.58008, acc_val 0.55600, cost_val 2.32099, \t//27.412 sec\n",
      "step 300: acc_tr 0.58496, acc_val 0.56200, cost_val 2.41790, \t//27.919 sec\n",
      "step 350: acc_tr 0.56641, acc_val 0.57100, cost_val 2.39127, \t//27.101 sec\n",
      "step 400: acc_tr 0.58887, acc_val 0.57050, cost_val 2.29410, \t//28.156 sec\n",
      "step 450: acc_tr 0.57520, acc_val 0.57100, cost_val 2.30825, \t//27.446 sec\n",
      "step 500: acc_tr 0.59961, acc_val 0.56100, cost_val 2.29715, \t//28.059 sec\n",
      "step 550: acc_tr 0.61035, acc_val 0.57600, cost_val 2.36825, \t//27.329 sec\n",
      "step 600: acc_tr 0.58008, acc_val 0.58250, cost_val 2.29607, \t//28.394 sec\n",
      "step 650: acc_tr 0.54980, acc_val 0.55750, cost_val 2.34980, \t//27.499 sec\n",
      "step 700: acc_tr 0.60938, acc_val 0.56500, cost_val 2.31985, \t//27.972 sec\n",
      "step 750: acc_tr 0.57324, acc_val 0.55950, cost_val 2.29079, \t//27.488 sec\n",
      "model saved: ./small_model/small-16652\n",
      "********** 21 epoch started: lr-0.00243507, chunk_no-0 **********\n",
      "step 0: acc_tr 0.56250, acc_val 0.55900, cost_val 2.39203, \t//25.229 sec\n",
      "step 50: acc_tr 0.56836, acc_val 0.58400, cost_val 2.28454, \t//27.345 sec\n",
      "step 100: acc_tr 0.56445, acc_val 0.56100, cost_val 2.37750, \t//28.051 sec\n",
      "step 150: acc_tr 0.59863, acc_val 0.56900, cost_val 2.30853, \t//27.144 sec\n",
      "step 200: acc_tr 0.59473, acc_val 0.55750, cost_val 2.32708, \t//28.235 sec\n",
      "step 250: acc_tr 0.57617, acc_val 0.58300, cost_val 2.27665, \t//27.664 sec\n",
      "step 300: acc_tr 0.58105, acc_val 0.56950, cost_val 2.35689, \t//28.203 sec\n",
      "step 350: acc_tr 0.59082, acc_val 0.56200, cost_val 2.29940, \t//27.592 sec\n",
      "step 400: acc_tr 0.61133, acc_val 0.55450, cost_val 2.43912, \t//27.992 sec\n",
      "step 450: acc_tr 0.59961, acc_val 0.55250, cost_val 2.38800, \t//27.385 sec\n",
      "step 500: acc_tr 0.59668, acc_val 0.56850, cost_val 2.36339, \t//29.023 sec\n",
      "step 550: acc_tr 0.61523, acc_val 0.56800, cost_val 2.33334, \t//27.721 sec\n",
      "step 600: acc_tr 0.57520, acc_val 0.56200, cost_val 2.36588, \t//28.335 sec\n",
      "step 650: acc_tr 0.55078, acc_val 0.55850, cost_val 2.27879, \t//27.419 sec\n",
      "step 700: acc_tr 0.56250, acc_val 0.55750, cost_val 2.33253, \t//28.729 sec\n",
      "step 750: acc_tr 0.56836, acc_val 0.56350, cost_val 2.31153, \t//27.949 sec\n",
      "model saved: ./small_model/small-17445\n",
      "********** 22 epoch started: lr-0.00235831, chunk_no-1 **********\n",
      "step 0: acc_tr 0.56641, acc_val 0.57850, cost_val 2.32076, \t//55.664 sec\n",
      "step 50: acc_tr 0.60156, acc_val 0.56500, cost_val 2.31133, \t//27.263 sec\n",
      "step 100: acc_tr 0.54688, acc_val 0.56700, cost_val 2.27999, \t//27.652 sec\n",
      "step 150: acc_tr 0.56836, acc_val 0.56100, cost_val 2.34744, \t//28.565 sec\n",
      "step 200: acc_tr 0.58008, acc_val 0.56950, cost_val 2.34173, \t//27.119 sec\n",
      "step 250: acc_tr 0.57031, acc_val 0.56050, cost_val 2.33476, \t//28.022 sec\n",
      "step 300: acc_tr 0.58984, acc_val 0.55700, cost_val 2.25939, \t//27.263 sec\n",
      "step 350: acc_tr 0.60352, acc_val 0.56500, cost_val 2.25769, \t//27.950 sec\n",
      "step 400: acc_tr 0.54980, acc_val 0.56300, cost_val 2.36883, \t//27.626 sec\n"
     ]
    }
   ],
   "source": [
    "%%time \n",
    "gc.collect()\n",
    "\n",
    "if 'sess' in globals(): sess.close()\n",
    "sess = tf.InteractiveSession(config=tf.ConfigProto(log_device_placement=True))\n",
    "sess.run(tf.global_variables_initializer())\n",
    "\n",
    "x_range=[]\n",
    "train_accuracies=[]\n",
    "val_accuracies=[]\n",
    "val_costs=[]\n",
    "ckpt_path = './small_model/small'\n",
    "# lr_start = 0.005\n",
    "lr_start = 0.008\n",
    "batch_size = 1024\n",
    "# iter_per_epoch = int(len(Y_train)/batch_size)\n",
    "iter_per_epoch = int(812650/batch_size)\n",
    "\n",
    "chunk_no = 0\n",
    "chunk_no_pre = -1\n",
    "\n",
    "start = time.time()\n",
    "print('total iter is %d * %d' %(epoch, iter_per_epoch))\n",
    "for e in range(epoch):\n",
    "# 데이터 청크 같으면 다시 로드 안하는 코드 넣기, 청크 순서도 고려해보기\n",
    "    # epoch별 데이터 청크 로드\n",
    "#     chunk_no = int((e+6)/2)%10  # int((e + shift_epoch*2)/2)%chunk_range+1\n",
    "    chunk_no = int(e/2)%10\n",
    "    if chunk_no!=chunk_no_pre:\n",
    "        df, df2, y = set_train_data(chunk_no)\n",
    "        gc.collect()\n",
    "    chunk_no_pre = chunk_no\n",
    "    \n",
    "    print('********** %d epoch started: lr-%g, chunk_no-%d **********'%(e, lr_start, chunk_no))\n",
    "    for i in range(iter_per_epoch):\n",
    "        X_fw_, X_bw_, Xm_, Xp_, Y_ = getMiniBatch3(df[['product', 'brand', 'model', 'maker']], df2,\n",
    "                      df[['price', 'updttm']], y, batch_size)\n",
    "        train_step.run(feed_dict={X_fw:X_fw_, X_bw:X_bw_, Xm:Xm_, Xp:Xp_, Y:Y_, lr:lr_start, keep_prob:0.5, is_training:True})\n",
    "\n",
    "    #   아래에 결과 프린트용\n",
    "        if i % 50 == 0:   \n",
    "            train_accuracy = accuracy.eval(feed_dict={X_fw:X_fw_, X_bw:X_bw_, Xm:Xm_, Xp:Xp_, Y:Y_, lr:lr_start, keep_prob:0.5, is_training:False})\n",
    "            val_accuracy, val_cost = sess.run([accuracy, cost], feed_dict={X_fw:X_fw_val, X_bw:X_bw_val, Xm:Xm_val, Xp:Xp_val, Y:Y_val, keep_prob:1, is_training:False})\n",
    "\n",
    "            if lr_start>0.005: lr_start = lr_start*0.94\n",
    "            elif lr_start>0.0005: lr_start = lr_start*0.998 # lr annealing\n",
    "            else :lr_start = lr_start*0.999\n",
    "            \n",
    "            train_accuracies.append(train_accuracy)\n",
    "            val_accuracies.append(val_accuracy)\n",
    "            val_costs.append(val_cost)\n",
    "            x_range.append(i+ iter_per_epoch*e)\n",
    "            end = time.time()\n",
    "            print('step %d: acc_tr %.5f, acc_val %.5f, cost_val %.5f, \\t//%.3f sec' % (i, train_accuracy, val_accuracy, val_cost, end-start))\n",
    "            start = time.time()\n",
    "            \n",
    "    saver.save(sess, ckpt_path, global_step=i+ iter_per_epoch*e)\n",
    "    print('model saved: %s-%d'%(ckpt_path, i+ iter_per_epoch*e))"
   ]
  },
  {
   "cell_type": "markdown",
   "metadata": {},
   "source": [
    "# get accuracy for dev set"
   ]
  },
  {
   "cell_type": "code",
   "execution_count": 20,
   "metadata": {
    "scrolled": true
   },
   "outputs": [
    {
     "data": {
      "image/png": "[encoded data removed]",
      "text/plain": [
       "<Figure size 1296x360 with 2 Axes>"
      ]
     },
     "metadata": {},
     "output_type": "display_data"
    }
   ],
   "source": [
    "plt.figure(figsize=(18,5))\n",
    "plt.subplot(121)\n",
    "plt.plot(x_range, train_accuracies,'-b', label='Training')\n",
    "plt.plot(x_range, val_accuracies,'-g', label='Validation')\n",
    "plt.legend(loc='lower right', frameon=False)\n",
    "# plt.ylim(ymax = 1.1, ymin = 0.7)\n",
    "plt.ylabel('accuracy')\n",
    "plt.xlabel('step')\n",
    "plt.title('Accuracy')\n",
    "\n",
    "plt.subplot(122)\n",
    "plt.plot(x_range, val_costs,'-r', label='Validatin_cost')\n",
    "plt.legend(loc='lower right', frameon=False)\n",
    "# plt.ylim(ymax = 1.1, ymin = 0.7)\n",
    "plt.ylabel('cost')\n",
    "plt.xlabel('step')\n",
    "plt.title('Validation Cost')\n",
    "plt.show()"
   ]
  },
  {
   "cell_type": "markdown",
   "metadata": {},
   "source": [
    "# test "
   ]
  },
  {
   "cell_type": "code",
   "execution_count": 15,
   "metadata": {},
   "outputs": [
    {
     "name": "stdout",
     "output_type": "stream",
     "text": [
      "INFO:tensorflow:Restoring parameters from ./small_model/small-18215\n"
     ]
    }
   ],
   "source": [
    "# restore model\n",
    "if 'sess' in globals(): sess.close()\n",
    "sess = tf.InteractiveSession()\n",
    "\n",
    "ckpt_path = './small_model/small'\n",
    "saver.restore(sess, ckpt_path+'-18215')"
   ]
  },
  {
   "cell_type": "code",
   "execution_count": 18,
   "metadata": {},
   "outputs": [
    {
     "name": "stdout",
     "output_type": "stream",
     "text": [
      "Wall time: 0 ns\n"
     ]
    }
   ],
   "source": [
    "%%time\n",
    "X_fw_test = X_fw_val\n",
    "X_bw_test = X_bw_val\n",
    "Xm_test = Xm_val\n",
    "Xp_test = Xp_val\n",
    "Y_test = Y_val"
   ]
  },
  {
   "cell_type": "code",
   "execution_count": 19,
   "metadata": {
    "scrolled": true
   },
   "outputs": [
    {
     "name": "stdout",
     "output_type": "stream",
     "text": [
      "Test Accuracy: 0.575379 \tTest cost: 2.37905\n",
      "Total Accuracy: 0.5753787 \tTotal Cost: 2.3790514\n"
     ]
    }
   ],
   "source": [
    "from math import ceil\n",
    "\n",
    "# 여기서도 OOM 날수 있다\n",
    "acc_tot = []\n",
    "cost_tot = []\n",
    "cate_predicted = []\n",
    "chunk_size = 10000 # OOM 방지\n",
    "iter_num = ceil(len(Y_test)/chunk_size)\n",
    "\n",
    "for i in range(iter_num):\n",
    "    test_accuracy, test_cost, tokens = \\\n",
    "        sess.run([accuracy, cost, predicted], feed_dict={X_fw:X_fw_test[chunk_size*i:chunk_size*(i+1)], X_bw:X_bw_test[chunk_size*i:chunk_size*(i+1)], Xm:Xm_test[chunk_size*i:chunk_size*(i+1)], Xp:Xp_test[chunk_size*i:chunk_size*(i+1)], Y:Y_test[chunk_size*i:chunk_size*(i+1)], keep_prob:1, is_training:False})\n",
    "    acc_tot.append(test_accuracy)\n",
    "    cost_tot.append(test_cost)\n",
    "    \n",
    "    for tok in tokens:\n",
    "        cate_predicted.append(token_to_cate[tok].split('>'))\n",
    "    print('Test Accuracy: %g \\tTest cost: %g' %(test_accuracy, test_cost))\n",
    "    \n",
    "print('Total Accuracy:', np.array(acc_tot).mean(), '\\tTotal Cost:', np.array(cost_tot).mean())"
   ]
  },
  {
   "cell_type": "code",
   "execution_count": 20,
   "metadata": {},
   "outputs": [
    {
     "name": "stdout",
     "output_type": "stream",
     "text": [
      "bcateid: 0.843111 \t 7013/8318\n",
      "mcateid: 0.771219 \t 6415/8318\n",
      "scateid: 0.621063 \t 5166/8318\n",
      "dcateid: 0.950589 \t 7907/8318\n",
      "final score: 0.976695119018995\n",
      "아직 결측치 보정은 안함\n"
     ]
    }
   ],
   "source": [
    "# 분류 계층별 정확도 보기\n",
    "\n",
    "# 나누기\n",
    "cate_ans = []\n",
    "for i in np.argmax(Y_test, axis=1):\n",
    "    cate_ans.append(token_to_cate[i].split('>'))\n",
    "\n",
    "\n",
    "cate_predicted = np.array(cate_predicted)\n",
    "cate_ans = np.array(cate_ans)\n",
    "\n",
    "# df_cate = pd.DataFrame(cate_predicted, columns=['bcateid', 'mcateid', 'scateid', 'dcateid'])\n",
    "# 계산하기\n",
    "cols=['bcateid', 'mcateid', 'scateid', 'dcateid']\n",
    "aws_list = cate_ans.transpose([1,0]) == cate_predicted.transpose([1,0])\n",
    "accs = []\n",
    "\n",
    "for i, aws in enumerate(aws_list):\n",
    "    _sum = np.sum(aws)\n",
    "    acc = _sum/len(aws)\n",
    "    accs.append(acc)\n",
    "    print('%s: %g \\t %d/%d' %(cols[i], acc, _sum, len(aws)))\n",
    "    \n",
    "print('final score:', (accs[0]+accs[1]*1.2+accs[2]*1.3+accs[3]*1.4)/4) \n",
    "print('아직 결측치 보정은 안함')"
   ]
  },
  {
   "cell_type": "code",
   "execution_count": 62,
   "metadata": {},
   "outputs": [
    {
     "data": {
      "text/plain": [
       "0.7073726530058878"
      ]
     },
     "execution_count": 62,
     "metadata": {},
     "output_type": "execute_result"
    }
   ],
   "source": [
    "# 결측치 보정\n",
    "sid = Counter(df['scateid'])\n",
    "sratio = (len(df['scateid']) - sid.get(-1))/len(df['scateid'])\n",
    "np.array(acc_tot).mean()/sratio"
   ]
  },
  {
   "cell_type": "markdown",
   "metadata": {},
   "source": [
    "---\n",
    "0.002 --> 0.86 어닐링 없이\n",
    " - 최고 정확도\n",
    "\n",
    "### 할일\n",
    "- 텐서보드 붙이기\n",
    "- ~~모델 저장하기~~\n",
    "- ~~이니셜라이저 사용~~\n",
    "- 4가지 레이블 맞추기\n",
    "    - 점수 제작 코드\n",
    "- ~~대분류당 중분류 중복 안되는지~~\n",
    "    - 패턴먼저 파악하기\n",
    "    - 중복 안되면 강제로 CRF적용가능\n",
    "    - 중복 안됨\n",
    "- 모듈화\n",
    "    - myUtils.py 에 정리하기\n",
    "    \n",
    "---\n",
    "데이터가 1,2와 3이 많이 다르네\n",
    " - 훈련 지속할 파이프라인 구축이 우선\n",
    " - 배치놈 반드시 필요할듯\n",
    "    "
   ]
  },
  {
   "cell_type": "code",
   "execution_count": null,
   "metadata": {
    "collapsed": true
   },
   "outputs": [],
   "source": []
  }
 ],
 "metadata": {
  "kernelspec": {
   "display_name": "Python 3",
   "language": "python",
   "name": "python3"
  },
  "language_info": {
   "codemirror_mode": {
    "name": "ipython",
    "version": 3
   },
   "file_extension": ".py",
   "mimetype": "text/x-python",
   "name": "python",
   "nbconvert_exporter": "python",
   "pygments_lexer": "ipython3",
   "version": "3.6.2"
  }
 },
 "nbformat": 4,
 "nbformat_minor": 2
}
