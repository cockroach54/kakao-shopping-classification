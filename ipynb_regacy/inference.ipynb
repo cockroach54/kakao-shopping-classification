{
 "cells": [
  {
   "cell_type": "markdown",
   "metadata": {},
   "source": [
    "# Only for inference"
   ]
  },
  {
   "cell_type": "code",
   "execution_count": 1,
   "metadata": {},
   "outputs": [
    {
     "name": "stderr",
     "output_type": "stream",
     "text": [
      "C:\\ProgramData\\Anaconda3\\lib\\site-packages\\h5py\\__init__.py:36: FutureWarning: Conversion of the second argument of issubdtype from `float` to `np.floating` is deprecated. In future, it will be treated as `np.float64 == np.dtype(float).type`.\n",
      "  from ._conv import register_converters as _register_converters\n"
     ]
    }
   ],
   "source": [
    "import h5py\n",
    "import pandas as pd\n",
    "import numpy as np\n",
    "from tqdm import tqdm_notebook as tqdm"
   ]
  },
  {
   "cell_type": "code",
   "execution_count": 2,
   "metadata": {},
   "outputs": [
    {
     "name": "stdout",
     "output_type": "stream",
     "text": [
      "4215\n"
     ]
    }
   ],
   "source": [
    "import _pickle\n",
    "y_vocab = _pickle.load(open('./data/y_vocab.py3.cPickle', 'rb'))\n",
    "y_vocab['43>109>1576>-1']\n",
    "print(len(y_vocab))"
   ]
  },
  {
   "cell_type": "code",
   "execution_count": 3,
   "metadata": {
    "collapsed": true
   },
   "outputs": [],
   "source": [
    "token_to_cate = {}\n",
    "for it in y_vocab.items():\n",
    "     token_to_cate[it[1]] = it[0]"
   ]
  },
  {
   "cell_type": "markdown",
   "metadata": {},
   "source": [
    "## import utils"
   ]
  },
  {
   "cell_type": "code",
   "execution_count": 4,
   "metadata": {
    "collapsed": true
   },
   "outputs": [],
   "source": [
    "from myUtils.myUtils import *"
   ]
  },
  {
   "cell_type": "code",
   "execution_count": 5,
   "metadata": {},
   "outputs": [
    {
     "data": {
      "text/plain": [
       "['GIGABYTE 미니PC GB-BACE-3160 (램 4G+HDD 500GB) w',\n",
       " '와코루 [WACOAL]와코루 튤레이스 홑겹 B컵브라 2칼라 (NB.SP)-DBR0156',\n",
       " '카렉스  블랙스2 핸들커버(실버) 아반떼XD',\n",
       " '[뉴에라]MLB 도트 프린트 뉴욕 양키스 티셔츠 화이트(11502825)',\n",
       " '[플러그피트니스] 네오플랜 삼각아령5kg/아령/여자아령/여성아령/팔운동/여성덤벨 [FROG]',\n",
       " '[보리보리] 아트박스 POOM(문구,팬시)# (스켓쥐) (옵티머스G PRO) Eunme-Woolf 디자인 하드케이스',\n",
       " '[신한 6% 청구할인][ 더 큰 할인] 스타일엔터 베지터블워싱 포켓시스템 남자라이더자켓 가죽자켓 가죽점퍼 (핸드메이드 맞춤제작)',\n",
       " '블루독베이비[롯데백화점]도트BI내의[47A70-054-130]',\n",
       " '머레이 음표 블루투스 스피커 QP-1002',\n",
       " '타라바 루퍼스-103 스키/스노우보드 고글']"
      ]
     },
     "execution_count": 5,
     "metadata": {},
     "output_type": "execute_result"
    }
   ],
   "source": [
    "# for validation\n",
    "path = './data_org/dev.chunk.01'\n",
    "h = h5py.File(path,'r')\n",
    "\n",
    "[i.decode('utf8') for i in h['dev']['product'][:10] ]"
   ]
  },
  {
   "cell_type": "code",
   "execution_count": 6,
   "metadata": {},
   "outputs": [
    {
     "name": "stdout",
     "output_type": "stream",
     "text": [
      "Wall time: 10.4 s\n"
     ]
    }
   ],
   "source": [
    "%%time\n",
    "ht = Reader(path)\n",
    "df = ht.makeDF(0,len(h['dev']['pid']), mode='dev')\n",
    "df.head()"
   ]
  },
  {
   "cell_type": "code",
   "execution_count": 7,
   "metadata": {},
   "outputs": [
    {
     "data": {
      "text/plain": [
       "664848"
      ]
     },
     "execution_count": 7,
     "metadata": {},
     "output_type": "execute_result"
    }
   ],
   "source": [
    "# 664848\n",
    "# 일단 트레이닝 단어 갯수에 맞춰야 모델이 안변함\n",
    "vocab = np.zeros(664848)\n",
    "len(vocab) "
   ]
  },
  {
   "cell_type": "code",
   "execution_count": 8,
   "metadata": {
    "collapsed": true
   },
   "outputs": [],
   "source": [
    "from collections import Counter\n",
    "import tensorflow as tf\n",
    "import matplotlib.pyplot as plt\n",
    "import mmh3\n",
    "import re"
   ]
  },
  {
   "cell_type": "code",
   "execution_count": 9,
   "metadata": {},
   "outputs": [
    {
     "data": {
      "application/vnd.jupyter.widget-view+json": {
       "model_id": "07c34b909c1342c483aa65e2e4f27960",
       "version_major": 2,
       "version_minor": 0
      },
      "text/plain": [
       "A Jupyter Widget"
      ]
     },
     "metadata": {},
     "output_type": "display_data"
    },
    {
     "name": "stdout",
     "output_type": "stream",
     "text": [
      "\n"
     ]
    },
    {
     "data": {
      "text/plain": [
       "(507783, 30)"
      ]
     },
     "execution_count": 9,
     "metadata": {},
     "output_type": "execute_result"
    }
   ],
   "source": [
    "# word to id\n",
    "seq_len = 30\n",
    "\n",
    "data_x = []\n",
    "for i in tqdm(list(zip(df['product'], df['model'], df['brand'], df['maker']))):\n",
    "    sentence = re.sub(r'[^\\w]', ' ', str.join(' ', i)).split(' ')\n",
    "    sentence = set(filter(None, sentence))\n",
    "    # hash --> word to id\n",
    "    word_ids = [mmh3.hash(word, seed=2018)%(len(vocab)+1) for word in sentence][:seq_len]\n",
    "    word_ids = np.pad(word_ids, (0,seq_len-len(word_ids)), 'constant', constant_values=(0))\n",
    "    data_x.append(word_ids)\n",
    "  \n",
    "data_x = np.array(data_x, dtype=np.int32)\n",
    "data_x.shape"
   ]
  },
  {
   "cell_type": "markdown",
   "metadata": {},
   "source": [
    "## build model"
   ]
  },
  {
   "cell_type": "code",
   "execution_count": 10,
   "metadata": {
    "collapsed": true
   },
   "outputs": [],
   "source": [
    "# make DAG\n",
    "tf.reset_default_graph()\n",
    "tf.set_random_seed(777)\n",
    "\n",
    "# train Parameters\n",
    "# seq_len = 35\n",
    "output_dim = 4215 # 1번 트레이닝셋만\n",
    "\n",
    "epoch = 70\n",
    "batch_size = 1024\n",
    "vocabulary_size = len(vocab)\n",
    "embedding_size = 256\n",
    "\n",
    "\n",
    "Y = tf.placeholder(tf.int16, [None, output_dim], name=\"label\")\n",
    "lr = tf.placeholder(tf.float32, [], name='learning_rate')\n",
    "keep_prob = tf.placeholder(tf.float32, [], name=\"keep_prob\")\n",
    "\n",
    "#  embedding\n",
    "X = tf.placeholder(tf.int32, [None, seq_len], name=\"word_tokens\") \n",
    "word_embeddings = tf.get_variable(\"word_embeddings\",\n",
    "    [vocabulary_size, embedding_size], initializer=tf.contrib.layers.xavier_initializer())\n",
    "embedded_word_ids = tf.nn.embedding_lookup(word_embeddings, X) # batch * seq * embeddding\n",
    "\n",
    "#  dropout layer\n",
    "def _sequence_dropout(step_inputs, keep_prob):\n",
    "        # apply dropout to each input\n",
    "        # input : a list of input tensor which shape is [None, input_dim]\n",
    "        with tf.name_scope('sequence_dropout') as scope:\n",
    "            step_outputs = []\n",
    "            for t, _input in enumerate(step_inputs):\n",
    "                step_outputs.append( tf.nn.dropout(_input, keep_prob) )\n",
    "        return step_outputs\n",
    "\n",
    "embedded_word_ids = tf.unstack(embedded_word_ids, axis=1)\n",
    "step_inputs = _sequence_dropout(embedded_word_ids, keep_prob) # seq * batch * embedding\n",
    "\n",
    "\n",
    "#  FCN layer\n",
    "doc_mean = tf.reduce_mean(step_inputs, axis=0) # batch * embedding (mean)\n",
    "# hint = tf.placeholder(tf.float32, [None, 609], name='hint') # previous category\n",
    "# bf_lenear = tf.concat([doc_mean, hint], axis=1) # batch * (embediing + hint)\n",
    "# bf_lenear = tf.nn.dropout(bf_lenear, keep_prob)\n",
    "\n",
    "# Y_pred = tf.contrib.layers.fully_connected(bf_lenear, output_dim, activation_fn=tf.nn.relu)  # We use the last cell's output\n",
    "Y_pred = tf.contrib.layers.fully_connected(doc_mean, output_dim, activation_fn=None)  # We use the last cell's output\n",
    "\n",
    "# # image feature\n",
    "# X = tf.placeholder(tf.float32, [None, len(data_x[0])], name=\"img_feat\")\n",
    "# X = tf.nn.dropout(X, keep_prob)\n",
    "# Y_pred = tf.contrib.layers.fully_connected(X, output_dim,\n",
    "#                                            activation_fn=tf.nn.relu, weights_initializer=tf.contrib.layers.xavier_initializer())  # We use the last cell's output\n",
    "\n",
    "# optimize\n",
    "cost =tf.reduce_mean(tf.nn.softmax_cross_entropy_with_logits_v2(\n",
    "    logits=Y_pred, labels=Y, name='cross_entropy'))\n",
    "optimizer = tf.train.AdamOptimizer(lr)\n",
    "train_step = optimizer.minimize(cost)\n",
    "\n",
    "# prediction\n",
    "predicted = tf.argmax(Y_pred, 1)\n",
    "accuracy = tf.reduce_mean(tf.cast(tf.equal(predicted, tf.argmax(Y, 1)), dtype=tf.float32))\n",
    "\n",
    "# saver\n",
    "name_to_var_map = {var.op.name: var for var in tf.global_variables()}\n",
    "saver = tf.train.Saver(name_to_var_map, name='my_saver')"
   ]
  },
  {
   "cell_type": "code",
   "execution_count": 11,
   "metadata": {},
   "outputs": [
    {
     "name": "stdout",
     "output_type": "stream",
     "text": [
      "INFO:tensorflow:Restoring parameters from ./small_model/small-785\n"
     ]
    }
   ],
   "source": [
    "# restore model\n",
    "if 'sess' in globals(): sess.close()\n",
    "sess = tf.InteractiveSession()\n",
    "\n",
    "ckpt_path = './small_model/small'\n",
    "saver.restore(sess, ckpt_path+'-785')"
   ]
  },
  {
   "cell_type": "markdown",
   "metadata": {},
   "source": [
    "## Make .tsv file"
   ]
  },
  {
   "cell_type": "code",
   "execution_count": 12,
   "metadata": {
    "collapsed": true
   },
   "outputs": [],
   "source": [
    "from math import ceil\n",
    "\n",
    "chunk_size = 10000\n",
    "iter_num = ceil(len(data_x)/chunk_size)\n",
    "cate_predicted = []\n",
    "\n",
    "for cnt in range(iter_num):\n",
    "    dev = sess.run([predicted], feed_dict={X:data_x[chunk_size*cnt:chunk_size*(cnt+1)], keep_prob:1})\n",
    "    for i in dev[0]:\n",
    "        tmp = token_to_cate[i]\n",
    "        cate_predicted.append(tmp.replace('>', '\\t'))\n",
    "    \n",
    "assert len(cate_predicted) == len(df['pid'])\n",
    "with open(\"baseline.predict.tsv\", \"w\") as f:\n",
    "    for el in zip(df['pid'], cate_predicted):\n",
    "#         print(el)\n",
    "        tmp = '\\t'.join(el)      \n",
    "        f.write(tmp+'\\n')"
   ]
  }
 ],
 "metadata": {
  "kernelspec": {
   "display_name": "Python 3",
   "language": "python",
   "name": "python3"
  },
  "language_info": {
   "codemirror_mode": {
    "name": "ipython",
    "version": 3
   },
   "file_extension": ".py",
   "mimetype": "text/x-python",
   "name": "python",
   "nbconvert_exporter": "python",
   "pygments_lexer": "ipython3",
   "version": "3.6.2"
  }
 },
 "nbformat": 4,
 "nbformat_minor": 2
}
