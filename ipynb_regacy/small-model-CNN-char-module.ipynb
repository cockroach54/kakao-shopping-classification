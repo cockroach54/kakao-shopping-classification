{
 "cells": [
  {
   "cell_type": "code",
   "execution_count": 1,
   "metadata": {},
   "outputs": [
    {
     "name": "stderr",
     "output_type": "stream",
     "text": [
      "C:\\ProgramData\\Anaconda3\\lib\\site-packages\\h5py\\__init__.py:36: FutureWarning: Conversion of the second argument of issubdtype from `float` to `np.floating` is deprecated. In future, it will be treated as `np.float64 == np.dtype(float).type`.\n",
      "  from ._conv import register_converters as _register_converters\n"
     ]
    }
   ],
   "source": [
    "import h5py\n",
    "import pandas as pd\n",
    "import numpy as np\n",
    "import tensorflow as tf\n",
    "import matplotlib.pyplot as plt\n",
    "from tqdm import tqdm_notebook as tqdm"
   ]
  },
  {
   "cell_type": "markdown",
   "metadata": {},
   "source": [
    "# y_vocab preprocess"
   ]
  },
  {
   "cell_type": "code",
   "execution_count": 2,
   "metadata": {},
   "outputs": [
    {
     "name": "stdout",
     "output_type": "stream",
     "text": [
      "4215\n"
     ]
    }
   ],
   "source": [
    "import _pickle\n",
    "y_vocab = _pickle.load(open('./data/y_vocab.py3.cPickle', 'rb'))\n",
    "y_vocab['43>109>1576>-1']\n",
    "print(len(y_vocab))\n",
    "\n",
    "token_to_cate = {}\n",
    "for it in y_vocab.items():\n",
    "     token_to_cate[it[1]] = it[0]"
   ]
  },
  {
   "cell_type": "markdown",
   "metadata": {},
   "source": [
    "# word preprocess"
   ]
  },
  {
   "cell_type": "code",
   "execution_count": 3,
   "metadata": {
    "collapsed": true
   },
   "outputs": [],
   "source": [
    "from myUtils.myUtils import *"
   ]
  },
  {
   "cell_type": "code",
   "execution_count": 4,
   "metadata": {
    "collapsed": true
   },
   "outputs": [],
   "source": [
    "helper = Helper()\n",
    "seq_len=100\n",
    "hash_size=4000"
   ]
  },
  {
   "cell_type": "code",
   "execution_count": 5,
   "metadata": {
    "scrolled": true
   },
   "outputs": [
    {
     "name": "stdout",
     "output_type": "stream",
     "text": [
      "------------./data_org/train.chunk.01-----------\n"
     ]
    },
    {
     "data": {
      "application/vnd.jupyter.widget-view+json": {
       "model_id": "e36120f947ae4c74937d6e1ade730911",
       "version_major": 2,
       "version_minor": 0
      },
      "text/plain": [
       "A Jupyter Widget"
      ]
     },
     "metadata": {},
     "output_type": "display_data"
    },
    {
     "name": "stdout",
     "output_type": "stream",
     "text": [
      "\n"
     ]
    },
    {
     "data": {
      "application/vnd.jupyter.widget-view+json": {
       "model_id": "07437159325a466dbbc65bd1f30ce5e4",
       "version_major": 2,
       "version_minor": 0
      },
      "text/plain": [
       "A Jupyter Widget"
      ]
     },
     "metadata": {},
     "output_type": "display_data"
    },
    {
     "name": "stdout",
     "output_type": "stream",
     "text": [
      "\n",
      "Wall time: 2min 27s\n"
     ]
    }
   ],
   "source": [
    "%%time\n",
    "for i in range(1,10):\n",
    "    helper.chunk_no = i\n",
    "    helper.path = './data_org/train.chunk.0'+str(helper.chunk_no)\n",
    "    print('------------%s-----------'%(helper.path))    \n",
    "#     helper.makeDF(0, 10000, mode=\"train\")\n",
    "    helper.makeDF(0, 1000000, mode=\"train\")    \n",
    "    \n",
    "    tmp_path_x = 'tmp/data_x_%d.csv' %(helper.chunk_no)\n",
    "    tmp_path_y = 'tmp/data_y_%d.csv' %(helper.chunk_no)\n",
    "    data_x = helper.df2data(tmp_path_x, seq_len=seq_len, hash_size=hash_size)\n",
    "    data_y = helper.cate2token(tmp_path_y , y_vocab)"
   ]
  },
  {
   "cell_type": "markdown",
   "metadata": {},
   "source": [
    "---\n",
    "# data shuffle/sampling"
   ]
  },
  {
   "cell_type": "code",
   "execution_count": 38,
   "metadata": {},
   "outputs": [
    {
     "name": "stdout",
     "output_type": "stream",
     "text": [
      "Wall time: 27.1 s\n"
     ]
    }
   ],
   "source": [
    "\"\"\"%%time\n",
    "# data io 는 판다스가 넘파이보다 훨씬 낫다\n",
    "df2 = pd.read_csv('tmp/data_x_%d.csv'%(2), header=None)\n",
    "data_x = df2.as_matrix()\n",
    "\n",
    "np.savetxt('data/data_x_%d.csv'%(2), data_x, delimiter=',')\n",
    "\n",
    "data_y = np.genfromtxt('tmp/data_y_%d.csv'%(1), delimiter=',', dtype=np.int16)\"\"\""
   ]
  },
  {
   "cell_type": "code",
   "execution_count": 82,
   "metadata": {},
   "outputs": [
    {
     "name": "stdout",
     "output_type": "stream",
     "text": [
      "899000 100000 1000 =====================================\n",
      "1798000 200000 2000 =====================================\n",
      "2697000 300000 3000 =====================================\n",
      "3596000 400000 4000 =====================================\n",
      "4495000 500000 5000 =====================================\n",
      "5394000 600000 6000 =====================================\n",
      "6293000 700000 7000 =====================================\n",
      "7192000 800000 8000 =====================================\n",
      "7313201 813482 8135 =====================================\n"
     ]
    }
   ],
   "source": [
    "# split data set\n",
    "test_ratio = 0.1\n",
    "val_ratio = 0.001\n",
    "train_ratio = 1-test_ratio-val_ratio\n",
    "\n",
    "# data_x_val_all = []\n",
    "# data_x_test_all = []\n",
    "# data_y_val_all = []\n",
    "# data_y_test_all = []\n",
    "\n",
    "train_len = 0\n",
    "val_len = 0\n",
    "test_len = 0\n",
    "\n",
    "for i,e in enumerate(range(1,10)):\n",
    "    # read data x,y\n",
    "    df_tmp = pd.read_csv('tmp/data_x_%d.csv'%(e), header=None)\n",
    "    data_x = df_tmp.as_matrix()\n",
    "    data_y = np.genfromtxt('tmp/data_y_%d.csv'%(e), delimiter=',', dtype=np.int16)\n",
    "    \n",
    "    assert len(data_x) == len(data_y)\n",
    "    d_len = len(data_x)\n",
    "    train_end = int(d_len*train_ratio)\n",
    "    test_end = int(d_len*(train_ratio+test_ratio))\n",
    "\n",
    "    X_train = data_x[:train_end]\n",
    "    Y_train = data_y[:train_end]\n",
    "    np.savetxt('data/data_x_%d.csv'%(e), X_train, delimiter=',')\n",
    "    np.savetxt('data/data_y_%d.csv'%(e), Y_train, delimiter=',')\n",
    "\n",
    "    X_test = data_x[train_end:test_end]\n",
    "    Y_test = data_y[train_end:test_end]\n",
    "    if i==0:\n",
    "        data_x_test_all = X_test\n",
    "        data_y_test_all = Y_test\n",
    "    else:\n",
    "        data_x_test_all = np.concatenate((data_x_test_all, X_test), axis=0)\n",
    "        data_y_test_all = np.concatenate((data_y_test_all, Y_test), axis=0)\n",
    "\n",
    "    X_val = data_x[test_end:]\n",
    "    Y_val = data_y[test_end:]\n",
    "    if i==0:\n",
    "        data_x_val_all = X_val\n",
    "        data_y_val_all = Y_val\n",
    "    else:\n",
    "        data_x_val_all = np.concatenate((data_x_val_all, X_val), axis=0)\n",
    "        data_y_val_all = np.concatenate((data_y_val_all, Y_val), axis=0)\n",
    "        \n",
    "    train_len += len(X_train)\n",
    "    test_len += len(X_test)\n",
    "    val_len += len(X_val)\n",
    "    print(train_len, test_len, val_len, '=====================================')\n",
    "    \n",
    "# write val, test set\n",
    "np.savetxt('data/data_x_val.csv', data_x_val_all, delimiter=',')\n",
    "np.savetxt('data/data_x_test.csv', data_x_test_all, delimiter=',')\n",
    "\n",
    "np.savetxt('data/data_y_val.csv', data_y_val_all, delimiter=',')\n",
    "np.savetxt('data/data_y_test.csv', data_y_test_all, delimiter=',')\n"
   ]
  },
  {
   "cell_type": "markdown",
   "metadata": {},
   "source": [
    "# read val data"
   ]
  },
  {
   "cell_type": "code",
   "execution_count": 5,
   "metadata": {
    "collapsed": true
   },
   "outputs": [],
   "source": [
    "def set_train_data(no): # no 1-9\n",
    "    assert no>=0 and no<=9\n",
    "    df_tmp = pd.read_csv('data/data_x_%d.csv'%(no), header=None)\n",
    "    X_train = df_tmp.as_matrix()\n",
    "    Y_train = np.genfromtxt('data/data_y_%d.csv'%(no), delimiter=',', dtype=np.int16)\n",
    "    Y_train = helper.onehot(Y_train)\n",
    "    return (X_train, Y_train)"
   ]
  },
  {
   "cell_type": "code",
   "execution_count": 6,
   "metadata": {
    "collapsed": true
   },
   "outputs": [],
   "source": [
    "df_tmp = pd.read_csv('data/data_x_val.csv', header=None)\n",
    "X_val = df_tmp.as_matrix()\n",
    "Y_val = np.genfromtxt('data/data_y_val.csv', delimiter=',', dtype=np.int16)\n",
    "Y_val = helper.onehot(Y_val)"
   ]
  },
  {
   "cell_type": "code",
   "execution_count": 7,
   "metadata": {},
   "outputs": [
    {
     "name": "stdout",
     "output_type": "stream",
     "text": [
      "(8135, 100) (8135, 4215)\n"
     ]
    }
   ],
   "source": [
    "print(X_val.shape, Y_val.shape)"
   ]
  },
  {
   "cell_type": "code",
   "execution_count": 8,
   "metadata": {
    "collapsed": true
   },
   "outputs": [],
   "source": [
    "# 피처 데이터, 레이블, 미니배치 갯수, random sampling\n",
    "import random\n",
    "random.seed(2018)\n",
    "def getMiniBatch2(x, y, n):\n",
    "    if len(x) != len(y):\n",
    "        print('Feature and label num is not equal.')\n",
    "        return\n",
    "    rand_idx = random.sample(list(range(len(x))), n)\n",
    "    x_ = [x[i] for i in rand_idx]\n",
    "    y_ = [y[i] for i in rand_idx]\n",
    "    return np.array(x_), np.array(y_)"
   ]
  },
  {
   "cell_type": "code",
   "execution_count": 9,
   "metadata": {},
   "outputs": [
    {
     "data": {
      "text/plain": [
       "(array([[3760.,  771., 3083., 2832., 3153., 2903., 1521., 3400., 3705.,\n",
       "         3184., 1681., 3737., 1835., 3805., 2555., 3545., 2814., 1835.,\n",
       "         3708., 1835., 2903.,  536., 2814., 1960., 3545., 1536., 1835.,\n",
       "         3805., 3184.,  350., 3519., 1835.,  321.,  363., 1711., 2814.,\n",
       "         1960., 1835.,  321., 2814., 1536., 1711., 3117., 3519., 3035.,\n",
       "         3519.,   19., 3035.,   19., 1576.,  471., 1835., 2903., 1521.,\n",
       "         3400., 3705., 3184., 1681., 1835., 3117., 1807.,  471., 3784.,\n",
       "         1870., 3036., 1374., 2832., 1835.,  186.,  350., 2851.,   19.,\n",
       "         3534., 1388.,    0.,    0.,    0.,    0.,    0.,    0.,    0.,\n",
       "            0.,    0.,    0.,    0.,    0.,    0.,    0.,    0.,    0.,\n",
       "            0.,    0.,    0.,    0.,    0.,    0.,    0.,    0.,    0.,\n",
       "            0.],\n",
       "        [3760., 2853., 3837., 1835., 1576., 3951.,  349., 1835., 1437.,\n",
       "         2913., 3737., 3760., 2375., 1870., 2375., 3666., 3737., 2003.,\n",
       "          196.,  435., 3573., 3737., 3760., 2512., 1154.,  401., 3737.,\n",
       "         2045., 2814., 2555.,  363., 2480., 1711., 2814., 1446., 1835.,\n",
       "         3130., 1803., 1803.,  363., 1835., 1042., 2814., 2761., 1536.,\n",
       "         1711.,  759., 1803., 1803., 1960., 1429., 1835.,  596., 2814.,\n",
       "         3490., 3545., 1711., 1429., 1835., 1835., 2819., 3481., 1835.,\n",
       "         2819., 3481.,    0.,    0.,    0.,    0.,    0.,    0.,    0.,\n",
       "            0.,    0.,    0.,    0.,    0.,    0.,    0.,    0.,    0.,\n",
       "            0.,    0.,    0.,    0.,    0.,    0.,    0.,    0.,    0.,\n",
       "            0.,    0.,    0.,    0.,    0.,    0.,    0.,    0.,    0.,\n",
       "            0.],\n",
       "        [ 999.,  618., 1835., 1388.,   43., 3117.,  186.,  350., 3490.,\n",
       "         2110.,  471., 1835., 2198.,  943., 1772., 1835., 1018.,  771.,\n",
       "           43., 1835., 3296., 2661., 2819., 1835., 1142., 1746., 3805.,\n",
       "          947., 2855., 3519., 1302.,  350.,  350., 1835., 2003.,  158.,\n",
       "         1835., 1835.,  999.,  618., 1835., 1142., 1746., 3805.,  947.,\n",
       "         2855., 3519., 1302.,  350.,  350., 3760.,  186.,  544., 3737.,\n",
       "            0.,    0.,    0.,    0.,    0.,    0.,    0.,    0.,    0.,\n",
       "            0.,    0.,    0.,    0.,    0.,    0.,    0.,    0.,    0.,\n",
       "            0.,    0.,    0.,    0.,    0.,    0.,    0.,    0.,    0.,\n",
       "            0.,    0.,    0.,    0.,    0.,    0.,    0.,    0.,    0.,\n",
       "            0.,    0.,    0.,    0.,    0.,    0.,    0.,    0.,    0.,\n",
       "            0.],\n",
       "        [3760.,  158., 1351., 2236., 3666., 3737., 1835., 3760.,  158.,\n",
       "         1351., 2236., 3666., 3737., 1835., 1805., 2242., 1208., 3025.,\n",
       "         3456., 1948., 3456., 1981., 3224.,  755., 1835., 3760., 1805.,\n",
       "         2242., 1208., 3025., 3456., 1948., 3456., 1981., 3224.,  755.,\n",
       "         3737., 1835.,  158., 1351., 2236., 3666., 1835.,  158., 1351.,\n",
       "         2236., 3666., 1835., 1805., 2242., 1208., 3025., 3456., 1948.,\n",
       "         3456., 1981., 3224.,  755.,    0.,    0.,    0.,    0.,    0.,\n",
       "            0.,    0.,    0.,    0.,    0.,    0.,    0.,    0.,    0.,\n",
       "            0.,    0.,    0.,    0.,    0.,    0.,    0.,    0.,    0.,\n",
       "            0.,    0.,    0.,    0.,    0.,    0.,    0.,    0.,    0.,\n",
       "            0.,    0.,    0.,    0.,    0.,    0.,    0.,    0.,    0.,\n",
       "            0.],\n",
       "        [3760., 3513., 1501.,  491., 2880., 3737., 1835.,  939.,  167.,\n",
       "         1835., 3513., 2832.,   91., 1835.,  167.,  968., 2855.,  765.,\n",
       "         2832.,  765., 3513., 3760., 1668., 3862., 2520., 2461., 3737.,\n",
       "         1835., 3513., 1501.,  491., 2880., 1835., 3117., 1807.,  471.,\n",
       "          765., 2832.,  765., 3513., 2913., 1415., 2669., 3224.,  425.,\n",
       "         1835.,    0.,    0.,    0.,    0.,    0.,    0.,    0.,    0.,\n",
       "            0.,    0.,    0.,    0.,    0.,    0.,    0.,    0.,    0.,\n",
       "            0.,    0.,    0.,    0.,    0.,    0.,    0.,    0.,    0.,\n",
       "            0.,    0.,    0.,    0.,    0.,    0.,    0.,    0.,    0.,\n",
       "            0.,    0.,    0.,    0.,    0.,    0.,    0.,    0.,    0.,\n",
       "            0.,    0.,    0.,    0.,    0.,    0.,    0.,    0.,    0.,\n",
       "            0.],\n",
       "        [3760., 3184., 2835., 1835., 3519.,  297., 1835., 2321., 2665.,\n",
       "         1437., 2913., 3737., 2045., 2903., 1835., 1302.,  350.,  350.,\n",
       "         1835., 1576.,  225.,  350., 3490., 2110., 1835.,  779.,  637.,\n",
       "         1606., 1534.,  771., 1835., 2589.,  114.,  840., 1418., 1835.,\n",
       "         2589.,  114.,  840., 1418., 1835., 2913., 1415., 1259., 3252.,\n",
       "         3153., 2589.,  114.,  840., 1418., 3153., 3713., 1807., 2127.,\n",
       "         1730., 3153., 3292.,  559., 1730., 3153.,  652.,  887., 3292.,\n",
       "          559., 1730.,    0.,    0.,    0.,    0.,    0.,    0.,    0.,\n",
       "            0.,    0.,    0.,    0.,    0.,    0.,    0.,    0.,    0.,\n",
       "            0.,    0.,    0.,    0.,    0.,    0.,    0.,    0.,    0.,\n",
       "            0.,    0.,    0.,    0.,    0.,    0.,    0.,    0.,    0.,\n",
       "            0.],\n",
       "        [3760., 3113., 3183., 3737., 3760., 2390., 1378.,  694., 3513.,\n",
       "          435., 3737., 1835., 3113., 3183., 1835.,   71., 1519., 3153.,\n",
       "         3519., 1681., 2835., 1835., 2414., 3399.,  536., 1711., 1835.,\n",
       "          321., 1835., 3805., 2814.,  363., 1711., 1835., 1429., 1803.,\n",
       "         1835., 3519., 1681., 2835., 1835.,   19.,  225.,  350., 1835.,\n",
       "          321., 2814., 1519.,  363., 1711., 1835., 2462., 1446., 2814.,\n",
       "          536., 1429., 1711., 1960., 1835., 1477., 2414., 1042., 1835.,\n",
       "         2903., 2814., 1429., 2814., 1835., 1681., 3399., 2761., 3490.,\n",
       "         1835.,  737., 2480., 2814., 1960., 1656., 1711., 1960., 1835.,\n",
       "         3153., 1042., 3519., 2851., 3519., 3534., 3035., 3519., 1388.,\n",
       "         1835.,  578.,  349.,  365.,  115., 1835., 2523., 2159., 2523.,\n",
       "         2881.],\n",
       "        [3760., 3113., 3183., 3737.,  321., 2814., 2110., 1711., 1960.,\n",
       "         2814., 1835., 3705., 1711.,  536., 2814., 2555., 1960., 1835.,\n",
       "         3705., 1711.,  536.,  363., 2814., 3490., 1711., 2110., 1711.,\n",
       "         2761., 1429., 1835., 1521., 2814., 1960., 1429., 1536., 1835.,\n",
       "         2903., 2851.,  350.,  350.,  350., 1835., 1960., 1711., 3061.,\n",
       "          363., 1711., 3490., 1429., 2555.,  759., 1711., 1835.,  536.,\n",
       "         2814., 2761., 1711.,  363., 1536., 1835., 1446., 1960., 2555.,\n",
       "          759., 1711., 1835., 2110., 1803., 1429., 1803., 1960., 1835.,\n",
       "         3061., 1803., 1960., 1835., 2045., 2555., 3545., 1803., 2761.,\n",
       "         1835.,  167.,  463.,  486., 1835., 2087., 1870., 1835., 1835.,\n",
       "         1835.,    0.,    0.,    0.,    0.,    0.,    0.,    0.,    0.,\n",
       "            0.],\n",
       "        [3760., 2935.,  968., 3501., 2832., 3737., 1835., 3805., 3363.,\n",
       "         2819.,  566., 1835., 2855., 1835.,  771., 1870., 3441., 1835.,\n",
       "         1388., 2366., 2832., 1835., 1807., 3441., 1154., 1835.,  765.,\n",
       "         1351., 3441., 1835., 2903., 1681., 2855.,  350., 1302.,  350.,\n",
       "           19., 1835., 1686.,  435.,  765., 1835.,  771., 1870., 3441.,\n",
       "         1835.,  394., 2819., 1154., 3666., 2177., 2818., 1835.,  771.,\n",
       "         1870., 3441., 1835., 2903., 1681., 1835.,  350., 1302.,  350.,\n",
       "           19., 1835.,  765., 1351., 3441.,    0.,    0.,    0.,    0.,\n",
       "            0.,    0.,    0.,    0.,    0.,    0.,    0.,    0.,    0.,\n",
       "            0.,    0.,    0.,    0.,    0.,    0.,    0.,    0.,    0.,\n",
       "            0.,    0.,    0.,    0.,    0.,    0.,    0.,    0.,    0.,\n",
       "            0.],\n",
       "        [3400.,  321., 2414., 2414., 1477., 1835., 2494., 3987., 1835.,\n",
       "         1477., 2414., 1042., 1835.,  167., 3666.,  401., 1116., 2819.,\n",
       "         1835., 1477., 2414., 1042., 2855.,  350., 1388., 1835., 2494.,\n",
       "         3987., 1835., 2523., 2159., 2523., 2881., 1268., 3452., 1835.,\n",
       "         3394., 3791., 1835., 2494., 3987., 1835., 1477., 2414., 1042.,\n",
       "         2855.,  350., 1388., 1835.,  167., 3666.,  401., 1116., 2819.,\n",
       "            0.,    0.,    0.,    0.,    0.,    0.,    0.,    0.,    0.,\n",
       "            0.,    0.,    0.,    0.,    0.,    0.,    0.,    0.,    0.,\n",
       "            0.,    0.,    0.,    0.,    0.,    0.,    0.,    0.,    0.,\n",
       "            0.,    0.,    0.,    0.,    0.,    0.,    0.,    0.,    0.,\n",
       "            0.,    0.,    0.,    0.,    0.,    0.,    0.,    0.,    0.,\n",
       "            0.]]), array([[0, 0, 0, ..., 0, 0, 0],\n",
       "        [0, 0, 0, ..., 0, 0, 0],\n",
       "        [0, 0, 0, ..., 0, 0, 0],\n",
       "        ...,\n",
       "        [0, 0, 0, ..., 0, 0, 0],\n",
       "        [0, 0, 0, ..., 0, 0, 0],\n",
       "        [0, 0, 0, ..., 0, 0, 0]], dtype=int8))"
      ]
     },
     "execution_count": 9,
     "metadata": {},
     "output_type": "execute_result"
    }
   ],
   "source": [
    "getMiniBatch2(X_val, Y_val, 10)"
   ]
  },
  {
   "cell_type": "markdown",
   "metadata": {},
   "source": [
    "# make model"
   ]
  },
  {
   "cell_type": "code",
   "execution_count": 10,
   "metadata": {
    "collapsed": true
   },
   "outputs": [],
   "source": [
    "# make DAG\n",
    "tf.reset_default_graph()\n",
    "tf.set_random_seed(2018)\n",
    "\n",
    "# train Parameters\n",
    "# seq_len = 35\n",
    "output_dim = 4215 # 1번 트레이닝셋만\n",
    "\n",
    "epoch = 80\n",
    "batch_size = 1024\n",
    "# vocabulary_size = len(vocab)\n",
    "vocabulary_size = hash_size\n",
    "embedding_size = 300\n",
    "# embedding_size = 256\n",
    "features = 300\n",
    "\n",
    "\n",
    "# =============================================================================\n",
    "\n",
    "Y = tf.placeholder(tf.int16, [None, output_dim], name=\"label\")\n",
    "lr = tf.placeholder(tf.float32, [], name='learning_rate')\n",
    "keep_prob = tf.placeholder(tf.float32, [], name=\"keep_prob\")\n",
    "\n",
    "#  embedding\n",
    "X = tf.placeholder(tf.int32, [None, seq_len], name=\"word_tokens\") \n",
    "word_embeddings = tf.get_variable(\"word_embeddings\",\n",
    "    [vocabulary_size, embedding_size], initializer=tf.contrib.layers.xavier_initializer())\n",
    "embedded_word_ids = tf.nn.embedding_lookup(word_embeddings, X) # batch * seq * embeddding\n",
    "\n",
    "\"\"\"\n",
    "#  dropout layer\n",
    "def _sequence_dropout(step_inputs, keep_prob):\n",
    "        # apply dropout to each input\n",
    "        # input : a list of input tensor which shape is [None, input_dim]\n",
    "        with tf.name_scope('sequence_dropout') as scope:\n",
    "            step_outputs = []\n",
    "            for t, _input in enumerate(step_inputs):\n",
    "                step_outputs.append( tf.nn.dropout(_input, keep_prob) )\n",
    "        return step_outputs\n",
    "\n",
    "embedded_word_ids = tf.unstack(embedded_word_ids, axis=1)\n",
    "step_inputs = _sequence_dropout(embedded_word_ids, keep_prob) # seq * batch * embedding\n",
    "\n",
    "#  FCN layer\n",
    "doc_mean = tf.reduce_mean(step_inputs, axis=0) # batch * embedding (mean)\n",
    "# hint = tf.placeholder(tf.float32, [None, 609], name='hint') # previous category\n",
    "# bf_lenear = tf.concat([doc_mean, hint], axis=1) # batch * (embediing + hint)\n",
    "# bf_lenear = tf.nn.dropout(bf_lenear, keep_prob)\n",
    "\"\"\"\n",
    "\n",
    "embedded_word_ids = tf.reshape(embedded_word_ids, [-1, seq_len, embedding_size, 1])\n",
    "# CNN layer\n",
    "# kernel size 3\n",
    "F1 = tf.get_variable('3gram-filter', [3, embedding_size, 1, features], \n",
    "                     initializer=tf.contrib.layers.xavier_initializer()) # (row, column, channel, kernels)\n",
    "L1 = tf.nn.conv2d(embedded_word_ids, F1, strides=[1, 1, 1, 1], padding='VALID')\n",
    "L1 = tf.nn.tanh(L1)\n",
    "L1 = tf.nn.max_pool(L1, ksize=[1, seq_len-2, 1, 1],\n",
    "                    strides=[1, 1, 1, 1], padding='VALID')\n",
    "\n",
    "# kernel size 4\n",
    "F2 = tf.get_variable('4gram-filter', [4, embedding_size, 1, features], \n",
    "                     initializer=tf.contrib.layers.xavier_initializer()) # (row, column, channel, kernels)\n",
    "L2 = tf.nn.conv2d(embedded_word_ids, F2, strides=[1, 1, 1, 1], padding='VALID')\n",
    "L2 = tf.nn.tanh(L2)\n",
    "L2 = tf.nn.max_pool(L2, ksize=[1, seq_len-3, 1, 1],\n",
    "                    strides=[1, 1, 1, 1], padding='VALID')\n",
    "\n",
    "# kernel size 5\n",
    "F3 = tf.get_variable('5gram-filter', [5, embedding_size, 1, features], \n",
    "                     initializer=tf.contrib.layers.xavier_initializer()) # (row, column, channel, kernels)\n",
    "L3 = tf.nn.conv2d(embedded_word_ids, F3, strides=[1, 1, 1, 1], padding='VALID')\n",
    "L3 = tf.nn.tanh(L3)\n",
    "L3 = tf.nn.max_pool(L3, ksize=[1, seq_len-4, 1, 1],\n",
    "                    strides=[1, 1, 1, 1], padding='VALID')\n",
    "\n",
    "L_flat = tf.concat([L1, L2, L3], 3) # (?, 1, 1, features*3)\n",
    "L_flat = tf.reshape(L_flat, [-1, 3 * features]) # (?, features*3)\n",
    "\n",
    "# 오캄의 면도날... 굳이 없어도 되는 레이어인듯\n",
    "# L_linear = tf.contrib.layers.fully_connected(L_flat, 512, activation_fn=tf.nn.relu)\n",
    "# L_linear = tf.nn.dropout(L_linear, keep_prob)\n",
    "L_linear = tf.nn.dropout(L_flat, keep_prob)\n",
    "\n",
    "\n",
    "# Y_pred = tf.contrib.layers.fully_connected(bf_lenear, output_dim, activation_fn=tf.nn.relu)  # We use the last cell's output\n",
    "Y_pred = tf.contrib.layers.fully_connected(L_linear, output_dim, activation_fn=None)  # We use the last cell's output\n",
    "\n",
    "# # image feature\n",
    "# X = tf.placeholder(tf.float32, [None, len(data_x[0])], name=\"img_feat\")\n",
    "# X = tf.nn.dropout(X, keep_prob)\n",
    "# Y_pred = tf.contrib.layers.fully_connected(X, output_dim,\n",
    "#                                            activation_fn=tf.nn.relu, weights_initializer=tf.contrib.layers.xavier_initializer())  # We use the last cell's output\n",
    "\n",
    "# optimize\n",
    "cost =tf.reduce_mean(tf.nn.softmax_cross_entropy_with_logits_v2(\n",
    "    logits=Y_pred, labels=Y, name='cross_entropy'))\n",
    "optimizer = tf.train.AdamOptimizer(lr)\n",
    "train_step = optimizer.minimize(cost)\n",
    "\n",
    "# prediction\n",
    "predicted = tf.argmax(Y_pred, 1)\n",
    "accuracy = tf.reduce_mean(tf.cast(tf.equal(predicted, tf.argmax(Y, 1)), dtype=tf.float32))\n",
    "\n",
    "# saver\n",
    "name_to_var_map = {var.op.name: var for var in tf.global_variables()}\n",
    "saver = tf.train.Saver(name_to_var_map, name='my_saver')"
   ]
  },
  {
   "cell_type": "markdown",
   "metadata": {},
   "source": [
    "# train/save"
   ]
  },
  {
   "cell_type": "code",
   "execution_count": 14,
   "metadata": {
    "scrolled": true
   },
   "outputs": [
    {
     "name": "stdout",
     "output_type": "stream",
     "text": [
      "total iter is 80 * 877\n",
      "********** 0 epoch started: lr-0.002, chunk_no-3 **********\n",
      "step 0: acc_tr 0.709961, acc_val 0.701291, cost_val 1.26244\n",
      "step 100: acc_tr 0.671875, acc_val 0.68531, cost_val 1.329\n",
      "step 200: acc_tr 0.686523, acc_val 0.680639, cost_val 1.32707\n",
      "step 300: acc_tr 0.68457, acc_val 0.677935, cost_val 1.35641\n",
      "step 400: acc_tr 0.674805, acc_val 0.67646, cost_val 1.37851\n",
      "step 500: acc_tr 0.681641, acc_val 0.675845, cost_val 1.36709\n",
      "step 600: acc_tr 0.702148, acc_val 0.672895, cost_val 1.3907\n",
      "step 700: acc_tr 0.666992, acc_val 0.67351, cost_val 1.3849\n",
      "step 800: acc_tr 0.682617, acc_val 0.672403, cost_val 1.40626\n",
      "********** 1 epoch started: lr-0.00196429, chunk_no-3 **********\n",
      "step 0: acc_tr 0.68457, acc_val 0.676829, cost_val 1.40741\n",
      "step 100: acc_tr 0.669922, acc_val 0.673387, cost_val 1.40362\n",
      "step 200: acc_tr 0.686523, acc_val 0.676337, cost_val 1.41041\n",
      "step 300: acc_tr 0.698242, acc_val 0.669822, cost_val 1.42315\n",
      "step 400: acc_tr 0.701172, acc_val 0.675968, cost_val 1.42783\n",
      "step 500: acc_tr 0.698242, acc_val 0.673387, cost_val 1.42629\n",
      "step 600: acc_tr 0.693359, acc_val 0.66847, cost_val 1.42595\n",
      "step 700: acc_tr 0.681641, acc_val 0.672649, cost_val 1.42678\n",
      "step 800: acc_tr 0.68457, acc_val 0.670559, cost_val 1.44398\n",
      "********** 2 epoch started: lr-0.00192921, chunk_no-4 **********\n",
      "step 0: acc_tr 0.642578, acc_val 0.66847, cost_val 1.42873\n",
      "step 100: acc_tr 0.625977, acc_val 0.671174, cost_val 1.42372\n",
      "step 200: acc_tr 0.646484, acc_val 0.672034, cost_val 1.43314\n",
      "step 300: acc_tr 0.643555, acc_val 0.664659, cost_val 1.43435\n",
      "step 400: acc_tr 0.669922, acc_val 0.669576, cost_val 1.43697\n",
      "step 500: acc_tr 0.663086, acc_val 0.66933, cost_val 1.44367\n",
      "step 600: acc_tr 0.664062, acc_val 0.668715, cost_val 1.43954\n",
      "step 700: acc_tr 0.693359, acc_val 0.669576, cost_val 1.44737\n",
      "step 800: acc_tr 0.677734, acc_val 0.66933, cost_val 1.45522\n",
      "********** 3 epoch started: lr-0.00189476, chunk_no-4 **********\n",
      "step 0: acc_tr 0.673828, acc_val 0.670068, cost_val 1.43814\n",
      "step 100: acc_tr 0.676758, acc_val 0.671543, cost_val 1.43658\n",
      "step 200: acc_tr 0.673828, acc_val 0.67228, cost_val 1.44288\n",
      "step 300: acc_tr 0.698242, acc_val 0.669699, cost_val 1.43366\n",
      "step 400: acc_tr 0.710938, acc_val 0.673878, cost_val 1.44828\n",
      "step 500: acc_tr 0.657227, acc_val 0.678181, cost_val 1.45039\n",
      "step 600: acc_tr 0.670898, acc_val 0.675476, cost_val 1.45941\n",
      "step 700: acc_tr 0.677734, acc_val 0.669822, cost_val 1.46975\n",
      "step 800: acc_tr 0.695312, acc_val 0.672403, cost_val 1.45125\n",
      "********** 4 epoch started: lr-0.00186093, chunk_no-5 **********\n",
      "step 0: acc_tr 0.644531, acc_val 0.665519, cost_val 1.46594\n",
      "step 100: acc_tr 0.642578, acc_val 0.664905, cost_val 1.45489\n",
      "step 200: acc_tr 0.644531, acc_val 0.669084, cost_val 1.46029\n",
      "step 300: acc_tr 0.631836, acc_val 0.669822, cost_val 1.45851\n",
      "step 400: acc_tr 0.640625, acc_val 0.670436, cost_val 1.4699\n",
      "step 500: acc_tr 0.655273, acc_val 0.668838, cost_val 1.45657\n",
      "step 600: acc_tr 0.681641, acc_val 0.667732, cost_val 1.47495\n",
      "step 700: acc_tr 0.662109, acc_val 0.673141, cost_val 1.46983\n",
      "step 800: acc_tr 0.670898, acc_val 0.671051, cost_val 1.45629\n",
      "********** 5 epoch started: lr-0.0018277, chunk_no-5 **********\n",
      "step 0: acc_tr 0.654297, acc_val 0.67228, cost_val 1.46459\n",
      "step 100: acc_tr 0.701172, acc_val 0.669822, cost_val 1.46988\n",
      "step 200: acc_tr 0.661133, acc_val 0.666872, cost_val 1.46292\n",
      "step 300: acc_tr 0.678711, acc_val 0.668593, cost_val 1.4798\n",
      "step 400: acc_tr 0.634766, acc_val 0.670191, cost_val 1.46678\n",
      "step 500: acc_tr 0.670898, acc_val 0.666872, cost_val 1.47428\n",
      "step 600: acc_tr 0.676758, acc_val 0.670436, cost_val 1.47171\n",
      "step 700: acc_tr 0.702148, acc_val 0.669945, cost_val 1.47461\n",
      "step 800: acc_tr 0.68457, acc_val 0.667486, cost_val 1.49253\n",
      "********** 6 epoch started: lr-0.00179506, chunk_no-6 **********\n",
      "step 0: acc_tr 0.610352, acc_val 0.66724, cost_val 1.47891\n",
      "step 100: acc_tr 0.661133, acc_val 0.666749, cost_val 1.46168\n",
      "step 200: acc_tr 0.614258, acc_val 0.669207, cost_val 1.47163\n",
      "step 300: acc_tr 0.664062, acc_val 0.669945, cost_val 1.45565\n",
      "step 400: acc_tr 0.665039, acc_val 0.667363, cost_val 1.45462\n",
      "step 500: acc_tr 0.65332, acc_val 0.666257, cost_val 1.46209\n",
      "step 600: acc_tr 0.658203, acc_val 0.666134, cost_val 1.46912\n",
      "step 700: acc_tr 0.666992, acc_val 0.666257, cost_val 1.45811\n",
      "step 800: acc_tr 0.652344, acc_val 0.664167, cost_val 1.48261\n",
      "********** 7 epoch started: lr-0.00176301, chunk_no-6 **********\n",
      "step 0: acc_tr 0.668945, acc_val 0.666134, cost_val 1.46583\n",
      "step 100: acc_tr 0.658203, acc_val 0.667486, cost_val 1.4664\n",
      "step 200: acc_tr 0.671875, acc_val 0.663798, cost_val 1.4714\n",
      "step 300: acc_tr 0.672852, acc_val 0.668715, cost_val 1.47062\n",
      "step 400: acc_tr 0.651367, acc_val 0.670559, cost_val 1.45311\n",
      "step 500: acc_tr 0.665039, acc_val 0.671543, cost_val 1.47371\n",
      "step 600: acc_tr 0.689453, acc_val 0.669453, cost_val 1.47244\n",
      "step 700: acc_tr 0.692383, acc_val 0.670559, cost_val 1.48116\n",
      "step 800: acc_tr 0.694336, acc_val 0.663184, cost_val 1.48715\n",
      "********** 8 epoch started: lr-0.00173153, chunk_no-7 **********\n",
      "step 0: acc_tr 0.619141, acc_val 0.672403, cost_val 1.47427\n",
      "step 100: acc_tr 0.611328, acc_val 0.667732, cost_val 1.46785\n",
      "step 200: acc_tr 0.651367, acc_val 0.671297, cost_val 1.45193\n",
      "step 300: acc_tr 0.679688, acc_val 0.669945, cost_val 1.45525\n",
      "step 400: acc_tr 0.644531, acc_val 0.672526, cost_val 1.46324\n",
      "step 500: acc_tr 0.65918, acc_val 0.667486, cost_val 1.45916\n",
      "step 600: acc_tr 0.643555, acc_val 0.66724, cost_val 1.46944\n",
      "step 700: acc_tr 0.635742, acc_val 0.671051, cost_val 1.48318\n",
      "step 800: acc_tr 0.672852, acc_val 0.668593, cost_val 1.46069\n",
      "********** 9 epoch started: lr-0.00170061, chunk_no-7 **********\n",
      "step 0: acc_tr 0.65918, acc_val 0.667486, cost_val 1.45706\n",
      "step 100: acc_tr 0.65918, acc_val 0.670068, cost_val 1.44803\n",
      "step 200: acc_tr 0.652344, acc_val 0.670682, cost_val 1.47759\n",
      "step 300: acc_tr 0.674805, acc_val 0.671666, cost_val 1.46182\n",
      "step 400: acc_tr 0.696289, acc_val 0.667609, cost_val 1.47165\n",
      "step 500: acc_tr 0.682617, acc_val 0.674124, cost_val 1.46899\n",
      "step 600: acc_tr 0.681641, acc_val 0.669207, cost_val 1.48823\n",
      "step 700: acc_tr 0.672852, acc_val 0.667486, cost_val 1.48208\n",
      "step 800: acc_tr 0.662109, acc_val 0.669576, cost_val 1.4858\n",
      "********** 10 epoch started: lr-0.00167024, chunk_no-8 **********\n",
      "step 0: acc_tr 0.636719, acc_val 0.66933, cost_val 1.4888\n",
      "step 100: acc_tr 0.62793, acc_val 0.67437, cost_val 1.47095\n",
      "step 200: acc_tr 0.62207, acc_val 0.669822, cost_val 1.46374\n",
      "step 300: acc_tr 0.634766, acc_val 0.669576, cost_val 1.46098\n",
      "step 400: acc_tr 0.658203, acc_val 0.667978, cost_val 1.45789\n",
      "step 500: acc_tr 0.636719, acc_val 0.66933, cost_val 1.47034\n",
      "step 600: acc_tr 0.658203, acc_val 0.670068, cost_val 1.46211\n",
      "step 700: acc_tr 0.654297, acc_val 0.671543, cost_val 1.46092\n",
      "step 800: acc_tr 0.644531, acc_val 0.668101, cost_val 1.48364\n",
      "********** 11 epoch started: lr-0.00164041, chunk_no-8 **********\n",
      "step 0: acc_tr 0.65332, acc_val 0.671789, cost_val 1.464\n",
      "step 100: acc_tr 0.664062, acc_val 0.675845, cost_val 1.46034\n",
      "step 200: acc_tr 0.669922, acc_val 0.669699, cost_val 1.46005\n",
      "step 300: acc_tr 0.660156, acc_val 0.669822, cost_val 1.46137\n",
      "step 400: acc_tr 0.693359, acc_val 0.668715, cost_val 1.47682\n",
      "step 500: acc_tr 0.663086, acc_val 0.674616, cost_val 1.44624\n",
      "step 600: acc_tr 0.705078, acc_val 0.67437, cost_val 1.46272\n",
      "step 700: acc_tr 0.665039, acc_val 0.672034, cost_val 1.47609\n",
      "step 800: acc_tr 0.665039, acc_val 0.666011, cost_val 1.47081\n",
      "********** 12 epoch started: lr-0.00161112, chunk_no-9 **********\n",
      "step 0: acc_tr 0.670898, acc_val 0.670559, cost_val 1.45726\n",
      "step 100: acc_tr 0.702148, acc_val 0.669576, cost_val 1.4866\n",
      "step 200: acc_tr 0.746094, acc_val 0.67142, cost_val 1.5091\n",
      "step 300: acc_tr 0.768555, acc_val 0.672772, cost_val 1.51017\n",
      "step 400: acc_tr 0.776367, acc_val 0.666257, cost_val 1.5473\n",
      "step 500: acc_tr 0.805664, acc_val 0.665765, cost_val 1.58046\n",
      "step 600: acc_tr 0.818359, acc_val 0.663553, cost_val 1.58106\n",
      "step 700: acc_tr 0.828125, acc_val 0.660356, cost_val 1.61567\n",
      "step 800: acc_tr 0.835938, acc_val 0.661832, cost_val 1.63988\n",
      "********** 13 epoch started: lr-0.00158235, chunk_no-9 **********\n",
      "step 0: acc_tr 0.855469, acc_val 0.659619, cost_val 1.63801\n",
      "step 100: acc_tr 0.855469, acc_val 0.659988, cost_val 1.66772\n",
      "step 200: acc_tr 0.883789, acc_val 0.661955, cost_val 1.6919\n",
      "step 300: acc_tr 0.879883, acc_val 0.660602, cost_val 1.69675\n",
      "step 400: acc_tr 0.875, acc_val 0.655808, cost_val 1.71621\n",
      "step 500: acc_tr 0.878906, acc_val 0.656054, cost_val 1.71945\n",
      "step 600: acc_tr 0.888672, acc_val 0.651014, cost_val 1.76686\n",
      "step 700: acc_tr 0.898438, acc_val 0.652243, cost_val 1.76476\n",
      "step 800: acc_tr 0.890625, acc_val 0.654333, cost_val 1.78584\n",
      "********** 14 epoch started: lr-0.0015541, chunk_no-3 **********\n",
      "step 0: acc_tr 0.623047, acc_val 0.653104, cost_val 1.75824\n",
      "step 100: acc_tr 0.621094, acc_val 0.652735, cost_val 1.59326\n",
      "step 200: acc_tr 0.625, acc_val 0.661217, cost_val 1.56575\n",
      "step 300: acc_tr 0.634766, acc_val 0.661709, cost_val 1.53572\n",
      "step 400: acc_tr 0.655273, acc_val 0.659742, cost_val 1.53533\n",
      "step 500: acc_tr 0.628906, acc_val 0.667609, cost_val 1.52808\n",
      "step 600: acc_tr 0.621094, acc_val 0.665273, cost_val 1.54138\n",
      "step 700: acc_tr 0.664062, acc_val 0.671543, cost_val 1.52009\n",
      "step 800: acc_tr 0.672852, acc_val 0.668715, cost_val 1.52842\n",
      "********** 15 epoch started: lr-0.00152635, chunk_no-3 **********\n",
      "step 0: acc_tr 0.68457, acc_val 0.670805, cost_val 1.51376\n",
      "step 100: acc_tr 0.668945, acc_val 0.672526, cost_val 1.51193\n",
      "step 200: acc_tr 0.657227, acc_val 0.673632, cost_val 1.51228\n",
      "step 300: acc_tr 0.661133, acc_val 0.67646, cost_val 1.50765\n",
      "step 400: acc_tr 0.675781, acc_val 0.67142, cost_val 1.50529\n",
      "step 500: acc_tr 0.683594, acc_val 0.672526, cost_val 1.51792\n",
      "step 600: acc_tr 0.673828, acc_val 0.67351, cost_val 1.50454\n",
      "step 700: acc_tr 0.673828, acc_val 0.670436, cost_val 1.50299\n",
      "step 800: acc_tr 0.689453, acc_val 0.677074, cost_val 1.48859\n",
      "********** 16 epoch started: lr-0.00149909, chunk_no-4 **********\n",
      "step 0: acc_tr 0.642578, acc_val 0.672772, cost_val 1.50355\n",
      "step 100: acc_tr 0.640625, acc_val 0.672772, cost_val 1.50076\n",
      "step 200: acc_tr 0.658203, acc_val 0.674862, cost_val 1.48939\n",
      "step 300: acc_tr 0.639648, acc_val 0.67646, cost_val 1.49359\n",
      "step 400: acc_tr 0.672852, acc_val 0.673632, cost_val 1.49004\n",
      "step 500: acc_tr 0.65625, acc_val 0.674124, cost_val 1.48993\n",
      "step 600: acc_tr 0.662109, acc_val 0.674493, cost_val 1.4785\n",
      "step 700: acc_tr 0.655273, acc_val 0.672157, cost_val 1.48275\n",
      "step 800: acc_tr 0.666016, acc_val 0.674247, cost_val 1.49264\n",
      "********** 17 epoch started: lr-0.00147232, chunk_no-4 **********\n",
      "step 0: acc_tr 0.672852, acc_val 0.675845, cost_val 1.46843\n",
      "step 100: acc_tr 0.670898, acc_val 0.673632, cost_val 1.467\n",
      "step 200: acc_tr 0.680664, acc_val 0.67646, cost_val 1.47308\n",
      "step 300: acc_tr 0.68457, acc_val 0.678672, cost_val 1.48257\n",
      "step 400: acc_tr 0.664062, acc_val 0.675108, cost_val 1.47543\n",
      "step 500: acc_tr 0.682617, acc_val 0.677689, cost_val 1.4925\n",
      "step 600: acc_tr 0.682617, acc_val 0.678918, cost_val 1.49972\n",
      "step 700: acc_tr 0.668945, acc_val 0.676583, cost_val 1.49885\n",
      "step 800: acc_tr 0.689453, acc_val 0.675108, cost_val 1.48894\n",
      "********** 18 epoch started: lr-0.00144603, chunk_no-5 **********\n",
      "step 0: acc_tr 0.643555, acc_val 0.678304, cost_val 1.47704\n",
      "step 100: acc_tr 0.645508, acc_val 0.674616, cost_val 1.47889\n",
      "step 200: acc_tr 0.65918, acc_val 0.67351, cost_val 1.4839\n",
      "step 300: acc_tr 0.650391, acc_val 0.675353, cost_val 1.49177\n",
      "step 400: acc_tr 0.644531, acc_val 0.676829, cost_val 1.47349\n",
      "step 500: acc_tr 0.661133, acc_val 0.681991, cost_val 1.46995\n",
      "step 600: acc_tr 0.650391, acc_val 0.680393, cost_val 1.47202\n",
      "step 700: acc_tr 0.667969, acc_val 0.677689, cost_val 1.4776\n",
      "step 800: acc_tr 0.664062, acc_val 0.677812, cost_val 1.48307\n",
      "********** 19 epoch started: lr-0.00142021, chunk_no-5 **********\n",
      "step 0: acc_tr 0.685547, acc_val 0.67941, cost_val 1.47509\n",
      "step 100: acc_tr 0.675781, acc_val 0.67646, cost_val 1.47526\n"
     ]
    },
    {
     "ename": "KeyboardInterrupt",
     "evalue": "",
     "output_type": "error",
     "traceback": [
      "\u001b[1;31m---------------------------------------------------------------------------\u001b[0m",
      "\u001b[1;31mKeyboardInterrupt\u001b[0m                         Traceback (most recent call last)",
      "\u001b[1;32m<timed exec>\u001b[0m in \u001b[0;36m<module>\u001b[1;34m()\u001b[0m\n",
      "\u001b[1;32mC:\\ProgramData\\Anaconda3\\lib\\site-packages\\tensorflow\\python\\framework\\ops.py\u001b[0m in \u001b[0;36mrun\u001b[1;34m(self, feed_dict, session)\u001b[0m\n\u001b[0;32m   2366\u001b[0m         \u001b[0mnone\u001b[0m\u001b[1;33m,\u001b[0m \u001b[0mthe\u001b[0m \u001b[0mdefault\u001b[0m \u001b[0msession\u001b[0m \u001b[0mwill\u001b[0m \u001b[0mbe\u001b[0m \u001b[0mused\u001b[0m\u001b[1;33m.\u001b[0m\u001b[1;33m\u001b[0m\u001b[0m\n\u001b[0;32m   2367\u001b[0m     \"\"\"\n\u001b[1;32m-> 2368\u001b[1;33m     \u001b[0m_run_using_default_session\u001b[0m\u001b[1;33m(\u001b[0m\u001b[0mself\u001b[0m\u001b[1;33m,\u001b[0m \u001b[0mfeed_dict\u001b[0m\u001b[1;33m,\u001b[0m \u001b[0mself\u001b[0m\u001b[1;33m.\u001b[0m\u001b[0mgraph\u001b[0m\u001b[1;33m,\u001b[0m \u001b[0msession\u001b[0m\u001b[1;33m)\u001b[0m\u001b[1;33m\u001b[0m\u001b[0m\n\u001b[0m\u001b[0;32m   2369\u001b[0m \u001b[1;33m\u001b[0m\u001b[0m\n\u001b[0;32m   2370\u001b[0m \u001b[0m_gradient_registry\u001b[0m \u001b[1;33m=\u001b[0m \u001b[0mregistry\u001b[0m\u001b[1;33m.\u001b[0m\u001b[0mRegistry\u001b[0m\u001b[1;33m(\u001b[0m\u001b[1;34m\"gradient\"\u001b[0m\u001b[1;33m)\u001b[0m\u001b[1;33m\u001b[0m\u001b[0m\n",
      "\u001b[1;32mC:\\ProgramData\\Anaconda3\\lib\\site-packages\\tensorflow\\python\\framework\\ops.py\u001b[0m in \u001b[0;36m_run_using_default_session\u001b[1;34m(operation, feed_dict, graph, session)\u001b[0m\n\u001b[0;32m   5190\u001b[0m                        \u001b[1;34m\"the operation's graph is different from the session's \"\u001b[0m\u001b[1;33m\u001b[0m\u001b[0m\n\u001b[0;32m   5191\u001b[0m                        \"graph.\")\n\u001b[1;32m-> 5192\u001b[1;33m   \u001b[0msession\u001b[0m\u001b[1;33m.\u001b[0m\u001b[0mrun\u001b[0m\u001b[1;33m(\u001b[0m\u001b[0moperation\u001b[0m\u001b[1;33m,\u001b[0m \u001b[0mfeed_dict\u001b[0m\u001b[1;33m)\u001b[0m\u001b[1;33m\u001b[0m\u001b[0m\n\u001b[0m\u001b[0;32m   5193\u001b[0m \u001b[1;33m\u001b[0m\u001b[0m\n\u001b[0;32m   5194\u001b[0m \u001b[1;33m\u001b[0m\u001b[0m\n",
      "\u001b[1;32mC:\\ProgramData\\Anaconda3\\lib\\site-packages\\tensorflow\\python\\client\\session.py\u001b[0m in \u001b[0;36mrun\u001b[1;34m(self, fetches, feed_dict, options, run_metadata)\u001b[0m\n\u001b[0;32m    927\u001b[0m     \u001b[1;32mtry\u001b[0m\u001b[1;33m:\u001b[0m\u001b[1;33m\u001b[0m\u001b[0m\n\u001b[0;32m    928\u001b[0m       result = self._run(None, fetches, feed_dict, options_ptr,\n\u001b[1;32m--> 929\u001b[1;33m                          run_metadata_ptr)\n\u001b[0m\u001b[0;32m    930\u001b[0m       \u001b[1;32mif\u001b[0m \u001b[0mrun_metadata\u001b[0m\u001b[1;33m:\u001b[0m\u001b[1;33m\u001b[0m\u001b[0m\n\u001b[0;32m    931\u001b[0m         \u001b[0mproto_data\u001b[0m \u001b[1;33m=\u001b[0m \u001b[0mtf_session\u001b[0m\u001b[1;33m.\u001b[0m\u001b[0mTF_GetBuffer\u001b[0m\u001b[1;33m(\u001b[0m\u001b[0mrun_metadata_ptr\u001b[0m\u001b[1;33m)\u001b[0m\u001b[1;33m\u001b[0m\u001b[0m\n",
      "\u001b[1;32mC:\\ProgramData\\Anaconda3\\lib\\site-packages\\tensorflow\\python\\client\\session.py\u001b[0m in \u001b[0;36m_run\u001b[1;34m(self, handle, fetches, feed_dict, options, run_metadata)\u001b[0m\n\u001b[0;32m   1150\u001b[0m     \u001b[1;32mif\u001b[0m \u001b[0mfinal_fetches\u001b[0m \u001b[1;32mor\u001b[0m \u001b[0mfinal_targets\u001b[0m \u001b[1;32mor\u001b[0m \u001b[1;33m(\u001b[0m\u001b[0mhandle\u001b[0m \u001b[1;32mand\u001b[0m \u001b[0mfeed_dict_tensor\u001b[0m\u001b[1;33m)\u001b[0m\u001b[1;33m:\u001b[0m\u001b[1;33m\u001b[0m\u001b[0m\n\u001b[0;32m   1151\u001b[0m       results = self._do_run(handle, final_targets, final_fetches,\n\u001b[1;32m-> 1152\u001b[1;33m                              feed_dict_tensor, options, run_metadata)\n\u001b[0m\u001b[0;32m   1153\u001b[0m     \u001b[1;32melse\u001b[0m\u001b[1;33m:\u001b[0m\u001b[1;33m\u001b[0m\u001b[0m\n\u001b[0;32m   1154\u001b[0m       \u001b[0mresults\u001b[0m \u001b[1;33m=\u001b[0m \u001b[1;33m[\u001b[0m\u001b[1;33m]\u001b[0m\u001b[1;33m\u001b[0m\u001b[0m\n",
      "\u001b[1;32mC:\\ProgramData\\Anaconda3\\lib\\site-packages\\tensorflow\\python\\client\\session.py\u001b[0m in \u001b[0;36m_do_run\u001b[1;34m(self, handle, target_list, fetch_list, feed_dict, options, run_metadata)\u001b[0m\n\u001b[0;32m   1326\u001b[0m     \u001b[1;32mif\u001b[0m \u001b[0mhandle\u001b[0m \u001b[1;32mis\u001b[0m \u001b[1;32mNone\u001b[0m\u001b[1;33m:\u001b[0m\u001b[1;33m\u001b[0m\u001b[0m\n\u001b[0;32m   1327\u001b[0m       return self._do_call(_run_fn, feeds, fetches, targets, options,\n\u001b[1;32m-> 1328\u001b[1;33m                            run_metadata)\n\u001b[0m\u001b[0;32m   1329\u001b[0m     \u001b[1;32melse\u001b[0m\u001b[1;33m:\u001b[0m\u001b[1;33m\u001b[0m\u001b[0m\n\u001b[0;32m   1330\u001b[0m       \u001b[1;32mreturn\u001b[0m \u001b[0mself\u001b[0m\u001b[1;33m.\u001b[0m\u001b[0m_do_call\u001b[0m\u001b[1;33m(\u001b[0m\u001b[0m_prun_fn\u001b[0m\u001b[1;33m,\u001b[0m \u001b[0mhandle\u001b[0m\u001b[1;33m,\u001b[0m \u001b[0mfeeds\u001b[0m\u001b[1;33m,\u001b[0m \u001b[0mfetches\u001b[0m\u001b[1;33m)\u001b[0m\u001b[1;33m\u001b[0m\u001b[0m\n",
      "\u001b[1;32mC:\\ProgramData\\Anaconda3\\lib\\site-packages\\tensorflow\\python\\client\\session.py\u001b[0m in \u001b[0;36m_do_call\u001b[1;34m(self, fn, *args)\u001b[0m\n\u001b[0;32m   1332\u001b[0m   \u001b[1;32mdef\u001b[0m \u001b[0m_do_call\u001b[0m\u001b[1;33m(\u001b[0m\u001b[0mself\u001b[0m\u001b[1;33m,\u001b[0m \u001b[0mfn\u001b[0m\u001b[1;33m,\u001b[0m \u001b[1;33m*\u001b[0m\u001b[0margs\u001b[0m\u001b[1;33m)\u001b[0m\u001b[1;33m:\u001b[0m\u001b[1;33m\u001b[0m\u001b[0m\n\u001b[0;32m   1333\u001b[0m     \u001b[1;32mtry\u001b[0m\u001b[1;33m:\u001b[0m\u001b[1;33m\u001b[0m\u001b[0m\n\u001b[1;32m-> 1334\u001b[1;33m       \u001b[1;32mreturn\u001b[0m \u001b[0mfn\u001b[0m\u001b[1;33m(\u001b[0m\u001b[1;33m*\u001b[0m\u001b[0margs\u001b[0m\u001b[1;33m)\u001b[0m\u001b[1;33m\u001b[0m\u001b[0m\n\u001b[0m\u001b[0;32m   1335\u001b[0m     \u001b[1;32mexcept\u001b[0m \u001b[0merrors\u001b[0m\u001b[1;33m.\u001b[0m\u001b[0mOpError\u001b[0m \u001b[1;32mas\u001b[0m \u001b[0me\u001b[0m\u001b[1;33m:\u001b[0m\u001b[1;33m\u001b[0m\u001b[0m\n\u001b[0;32m   1336\u001b[0m       \u001b[0mmessage\u001b[0m \u001b[1;33m=\u001b[0m \u001b[0mcompat\u001b[0m\u001b[1;33m.\u001b[0m\u001b[0mas_text\u001b[0m\u001b[1;33m(\u001b[0m\u001b[0me\u001b[0m\u001b[1;33m.\u001b[0m\u001b[0mmessage\u001b[0m\u001b[1;33m)\u001b[0m\u001b[1;33m\u001b[0m\u001b[0m\n",
      "\u001b[1;32mC:\\ProgramData\\Anaconda3\\lib\\site-packages\\tensorflow\\python\\client\\session.py\u001b[0m in \u001b[0;36m_run_fn\u001b[1;34m(feed_dict, fetch_list, target_list, options, run_metadata)\u001b[0m\n\u001b[0;32m   1317\u001b[0m       \u001b[0mself\u001b[0m\u001b[1;33m.\u001b[0m\u001b[0m_extend_graph\u001b[0m\u001b[1;33m(\u001b[0m\u001b[1;33m)\u001b[0m\u001b[1;33m\u001b[0m\u001b[0m\n\u001b[0;32m   1318\u001b[0m       return self._call_tf_sessionrun(\n\u001b[1;32m-> 1319\u001b[1;33m           options, feed_dict, fetch_list, target_list, run_metadata)\n\u001b[0m\u001b[0;32m   1320\u001b[0m \u001b[1;33m\u001b[0m\u001b[0m\n\u001b[0;32m   1321\u001b[0m     \u001b[1;32mdef\u001b[0m \u001b[0m_prun_fn\u001b[0m\u001b[1;33m(\u001b[0m\u001b[0mhandle\u001b[0m\u001b[1;33m,\u001b[0m \u001b[0mfeed_dict\u001b[0m\u001b[1;33m,\u001b[0m \u001b[0mfetch_list\u001b[0m\u001b[1;33m)\u001b[0m\u001b[1;33m:\u001b[0m\u001b[1;33m\u001b[0m\u001b[0m\n",
      "\u001b[1;32mC:\\ProgramData\\Anaconda3\\lib\\site-packages\\tensorflow\\python\\client\\session.py\u001b[0m in \u001b[0;36m_call_tf_sessionrun\u001b[1;34m(self, options, feed_dict, fetch_list, target_list, run_metadata)\u001b[0m\n\u001b[0;32m   1405\u001b[0m     return tf_session.TF_SessionRun_wrapper(\n\u001b[0;32m   1406\u001b[0m         \u001b[0mself\u001b[0m\u001b[1;33m.\u001b[0m\u001b[0m_session\u001b[0m\u001b[1;33m,\u001b[0m \u001b[0moptions\u001b[0m\u001b[1;33m,\u001b[0m \u001b[0mfeed_dict\u001b[0m\u001b[1;33m,\u001b[0m \u001b[0mfetch_list\u001b[0m\u001b[1;33m,\u001b[0m \u001b[0mtarget_list\u001b[0m\u001b[1;33m,\u001b[0m\u001b[1;33m\u001b[0m\u001b[0m\n\u001b[1;32m-> 1407\u001b[1;33m         run_metadata)\n\u001b[0m\u001b[0;32m   1408\u001b[0m \u001b[1;33m\u001b[0m\u001b[0m\n\u001b[0;32m   1409\u001b[0m   \u001b[1;32mdef\u001b[0m \u001b[0m_call_tf_sessionprun\u001b[0m\u001b[1;33m(\u001b[0m\u001b[0mself\u001b[0m\u001b[1;33m,\u001b[0m \u001b[0mhandle\u001b[0m\u001b[1;33m,\u001b[0m \u001b[0mfeed_dict\u001b[0m\u001b[1;33m,\u001b[0m \u001b[0mfetch_list\u001b[0m\u001b[1;33m)\u001b[0m\u001b[1;33m:\u001b[0m\u001b[1;33m\u001b[0m\u001b[0m\n",
      "\u001b[1;31mKeyboardInterrupt\u001b[0m: "
     ]
    }
   ],
   "source": [
    "%%time \n",
    "\n",
    "# if 'sess' in globals(): sess.close()\n",
    "# sess = tf.InteractiveSession(config=tf.ConfigProto(log_device_placement=True))\n",
    "# sess.run(tf.global_variables_initializer())\n",
    "\n",
    "x_range=[]\n",
    "train_accuracies=[]\n",
    "val_accuracies=[]\n",
    "val_costs=[]\n",
    "ckpt_path = './small_model/small'\n",
    "lr_start = 0.002\n",
    "# iter_per_epoch = int(len(Y_train)/batch_size)\n",
    "iter_per_epoch = int(899000/batch_size)\n",
    "chunk_no = 9\n",
    "chunk_no_pre = 0\n",
    "\n",
    "print('total iter is %d * %d' %(epoch, iter_per_epoch))\n",
    "for e in range(epoch):\n",
    "# 데이터 청크 같으면 다시 로드 안하는 코드 넣기, 청크 순서도 고려해보기\n",
    "    # epoch별 데이터 청크 로드\n",
    "#     chunk_no = int(e/2)%9+1\n",
    "    chunk_no = int(e/2)%7+3\n",
    "    if chunk_no!=chunk_no_pre:\n",
    "        X_train, Y_train = set_train_data(chunk_no)\n",
    "    chunk_no_pre = chunk_no\n",
    "    \n",
    "    print('********** %d epoch started: lr-%g, chunk_no-%d **********'%(e, lr_start, chunk_no))\n",
    "    for i in range(iter_per_epoch):\n",
    "        X_, Y_ = getMiniBatch2(X_train, Y_train, batch_size) # 랜덤 미니배치 할당\n",
    "        train_step.run(feed_dict={X:X_, Y:Y_, lr:lr_start, keep_prob:0.5})\n",
    "\n",
    "    #   아래에 결과 프린트용\n",
    "        if i % 100 == 0:   \n",
    "            train_accuracy = accuracy.eval(feed_dict={X:X_, Y:Y_, lr:lr_start, keep_prob:0.5})\n",
    "            val_accuracy, val_cost = sess.run([accuracy, cost], feed_dict={X:X_val, Y:Y_val, keep_prob:1})\n",
    "\n",
    "            if lr_start>0.0001:\n",
    "                lr_start = lr_start*0.998 # lr annealing\n",
    "            \n",
    "            train_accuracies.append(train_accuracy)\n",
    "            val_accuracies.append(val_accuracy)\n",
    "            val_costs.append(val_cost)\n",
    "            x_range.append(i+ iter_per_epoch*e)\n",
    "            print('step %d: acc_tr %g, acc_val %g, cost_val %g' % (i, train_accuracy, val_accuracy, val_cost))\n",
    "        \n",
    "    saver.save(sess, ckpt_path, global_step=i+ iter_per_epoch*e)"
   ]
  },
  {
   "cell_type": "markdown",
   "metadata": {},
   "source": [
    "# get accuracy for dev set"
   ]
  },
  {
   "cell_type": "code",
   "execution_count": 17,
   "metadata": {},
   "outputs": [
    {
     "data": {
      "image/png": "[encoded data removed]",
      "text/plain": [
       "<Figure size 1296x360 with 2 Axes>"
      ]
     },
     "metadata": {},
     "output_type": "display_data"
    }
   ],
   "source": [
    "plt.figure(figsize=(18,5))\n",
    "plt.subplot(121)\n",
    "plt.plot(x_range, train_accuracies,'-b', label='Training')\n",
    "plt.plot(x_range, val_accuracies,'-g', label='Validation')\n",
    "plt.legend(loc='lower right', frameon=False)\n",
    "# plt.ylim(ymax = 1.1, ymin = 0.7)\n",
    "plt.ylabel('accuracy')\n",
    "plt.xlabel('step')\n",
    "plt.title('Accuracy')\n",
    "\n",
    "plt.subplot(122)\n",
    "plt.plot(x_range, val_costs,'-r', label='Validatin_cost')\n",
    "plt.legend(loc='lower right', frameon=False)\n",
    "# plt.ylim(ymax = 1.1, ymin = 0.7)\n",
    "plt.ylabel('cost')\n",
    "plt.xlabel('step')\n",
    "plt.title('Validation Cost')\n",
    "plt.show()"
   ]
  },
  {
   "cell_type": "markdown",
   "metadata": {},
   "source": [
    "# test "
   ]
  },
  {
   "cell_type": "code",
   "execution_count": 16,
   "metadata": {},
   "outputs": [
    {
     "name": "stdout",
     "output_type": "stream",
     "text": [
      "INFO:tensorflow:Restoring parameters from ./small_model/small-16662\n"
     ]
    }
   ],
   "source": [
    "# restore model\n",
    "if 'sess' in globals(): sess.close()\n",
    "sess = tf.InteractiveSession()\n",
    "\n",
    "ckpt_path = './small_model/small'\n",
    "saver.restore(sess, ckpt_path+'-16662')"
   ]
  },
  {
   "cell_type": "code",
   "execution_count": 18,
   "metadata": {},
   "outputs": [
    {
     "name": "stdout",
     "output_type": "stream",
     "text": [
      "Wall time: 25.2 s\n"
     ]
    }
   ],
   "source": [
    "%%time\n",
    "df_tmp = pd.read_csv('data/data_x_test.csv', header=None)\n",
    "X_test = df_tmp.as_matrix()\n",
    "Y_test = np.genfromtxt('data/data_y_test.csv', delimiter=',', dtype=np.int16)\n",
    "Y_test = helper.onehot(Y_test)"
   ]
  },
  {
   "cell_type": "code",
   "execution_count": 20,
   "metadata": {
    "scrolled": true
   },
   "outputs": [
    {
     "ename": "ResourceExhaustedError",
     "evalue": "OOM when allocating tensor with shape[10000,300,96,1] and type float on /job:localhost/replica:0/task:0/device:GPU:0 by allocator GPU_0_bfc\n\t [[node Conv2D_2 (defined at <ipython-input-10-3980bdb09357>:72)  = Conv2D[T=DT_FLOAT, data_format=\"NHWC\", dilations=[1, 1, 1, 1], padding=\"VALID\", strides=[1, 1, 1, 1], use_cudnn_on_gpu=true, _device=\"/job:localhost/replica:0/task:0/device:GPU:0\"](Reshape, 5gram-filter/read)]]\nHint: If you want to see a list of allocated tensors when OOM happens, add report_tensor_allocations_upon_oom to RunOptions for current allocation info.\n\n\t [[{{node Mean/_51}} = _Recv[client_terminated=false, recv_device=\"/job:localhost/replica:0/task:0/device:CPU:0\", send_device=\"/job:localhost/replica:0/task:0/device:GPU:0\", send_device_incarnation=1, tensor_name=\"edge_135_Mean\", tensor_type=DT_FLOAT, _device=\"/job:localhost/replica:0/task:0/device:CPU:0\"]()]]\nHint: If you want to see a list of allocated tensors when OOM happens, add report_tensor_allocations_upon_oom to RunOptions for current allocation info.\n\n\nCaused by op 'Conv2D_2', defined at:\n  File \"C:\\ProgramData\\Anaconda3\\lib\\runpy.py\", line 193, in _run_module_as_main\n    \"__main__\", mod_spec)\n  File \"C:\\ProgramData\\Anaconda3\\lib\\runpy.py\", line 85, in _run_code\n    exec(code, run_globals)\n  File \"C:\\ProgramData\\Anaconda3\\lib\\site-packages\\ipykernel_launcher.py\", line 16, in <module>\n    app.launch_new_instance()\n  File \"C:\\ProgramData\\Anaconda3\\lib\\site-packages\\traitlets\\config\\application.py\", line 658, in launch_instance\n    app.start()\n  File \"C:\\ProgramData\\Anaconda3\\lib\\site-packages\\ipykernel\\kernelapp.py\", line 477, in start\n    ioloop.IOLoop.instance().start()\n  File \"C:\\ProgramData\\Anaconda3\\lib\\site-packages\\zmq\\eventloop\\ioloop.py\", line 177, in start\n    super(ZMQIOLoop, self).start()\n  File \"C:\\ProgramData\\Anaconda3\\lib\\site-packages\\tornado\\ioloop.py\", line 888, in start\n    handler_func(fd_obj, events)\n  File \"C:\\ProgramData\\Anaconda3\\lib\\site-packages\\tornado\\stack_context.py\", line 277, in null_wrapper\n    return fn(*args, **kwargs)\n  File \"C:\\ProgramData\\Anaconda3\\lib\\site-packages\\zmq\\eventloop\\zmqstream.py\", line 440, in _handle_events\n    self._handle_recv()\n  File \"C:\\ProgramData\\Anaconda3\\lib\\site-packages\\zmq\\eventloop\\zmqstream.py\", line 472, in _handle_recv\n    self._run_callback(callback, msg)\n  File \"C:\\ProgramData\\Anaconda3\\lib\\site-packages\\zmq\\eventloop\\zmqstream.py\", line 414, in _run_callback\n    callback(*args, **kwargs)\n  File \"C:\\ProgramData\\Anaconda3\\lib\\site-packages\\tornado\\stack_context.py\", line 277, in null_wrapper\n    return fn(*args, **kwargs)\n  File \"C:\\ProgramData\\Anaconda3\\lib\\site-packages\\ipykernel\\kernelbase.py\", line 283, in dispatcher\n    return self.dispatch_shell(stream, msg)\n  File \"C:\\ProgramData\\Anaconda3\\lib\\site-packages\\ipykernel\\kernelbase.py\", line 235, in dispatch_shell\n    handler(stream, idents, msg)\n  File \"C:\\ProgramData\\Anaconda3\\lib\\site-packages\\ipykernel\\kernelbase.py\", line 399, in execute_request\n    user_expressions, allow_stdin)\n  File \"C:\\ProgramData\\Anaconda3\\lib\\site-packages\\ipykernel\\ipkernel.py\", line 196, in do_execute\n    res = shell.run_cell(code, store_history=store_history, silent=silent)\n  File \"C:\\ProgramData\\Anaconda3\\lib\\site-packages\\ipykernel\\zmqshell.py\", line 533, in run_cell\n    return super(ZMQInteractiveShell, self).run_cell(*args, **kwargs)\n  File \"C:\\ProgramData\\Anaconda3\\lib\\site-packages\\IPython\\core\\interactiveshell.py\", line 2698, in run_cell\n    interactivity=interactivity, compiler=compiler, result=result)\n  File \"C:\\ProgramData\\Anaconda3\\lib\\site-packages\\IPython\\core\\interactiveshell.py\", line 2802, in run_ast_nodes\n    if self.run_code(code, result):\n  File \"C:\\ProgramData\\Anaconda3\\lib\\site-packages\\IPython\\core\\interactiveshell.py\", line 2862, in run_code\n    exec(code_obj, self.user_global_ns, self.user_ns)\n  File \"<ipython-input-10-3980bdb09357>\", line 72, in <module>\n    L3 = tf.nn.conv2d(embedded_word_ids, F3, strides=[1, 1, 1, 1], padding='VALID')\n  File \"C:\\ProgramData\\Anaconda3\\lib\\site-packages\\tensorflow\\python\\ops\\gen_nn_ops.py\", line 957, in conv2d\n    data_format=data_format, dilations=dilations, name=name)\n  File \"C:\\ProgramData\\Anaconda3\\lib\\site-packages\\tensorflow\\python\\framework\\op_def_library.py\", line 787, in _apply_op_helper\n    op_def=op_def)\n  File \"C:\\ProgramData\\Anaconda3\\lib\\site-packages\\tensorflow\\python\\util\\deprecation.py\", line 488, in new_func\n    return func(*args, **kwargs)\n  File \"C:\\ProgramData\\Anaconda3\\lib\\site-packages\\tensorflow\\python\\framework\\ops.py\", line 3274, in create_op\n    op_def=op_def)\n  File \"C:\\ProgramData\\Anaconda3\\lib\\site-packages\\tensorflow\\python\\framework\\ops.py\", line 1770, in __init__\n    self._traceback = tf_stack.extract_stack()\n\nResourceExhaustedError (see above for traceback): OOM when allocating tensor with shape[10000,300,96,1] and type float on /job:localhost/replica:0/task:0/device:GPU:0 by allocator GPU_0_bfc\n\t [[node Conv2D_2 (defined at <ipython-input-10-3980bdb09357>:72)  = Conv2D[T=DT_FLOAT, data_format=\"NHWC\", dilations=[1, 1, 1, 1], padding=\"VALID\", strides=[1, 1, 1, 1], use_cudnn_on_gpu=true, _device=\"/job:localhost/replica:0/task:0/device:GPU:0\"](Reshape, 5gram-filter/read)]]\nHint: If you want to see a list of allocated tensors when OOM happens, add report_tensor_allocations_upon_oom to RunOptions for current allocation info.\n\n\t [[{{node Mean/_51}} = _Recv[client_terminated=false, recv_device=\"/job:localhost/replica:0/task:0/device:CPU:0\", send_device=\"/job:localhost/replica:0/task:0/device:GPU:0\", send_device_incarnation=1, tensor_name=\"edge_135_Mean\", tensor_type=DT_FLOAT, _device=\"/job:localhost/replica:0/task:0/device:CPU:0\"]()]]\nHint: If you want to see a list of allocated tensors when OOM happens, add report_tensor_allocations_upon_oom to RunOptions for current allocation info.\n\n",
     "output_type": "error",
     "traceback": [
      "\u001b[1;31m---------------------------------------------------------------------------\u001b[0m",
      "\u001b[1;31mResourceExhaustedError\u001b[0m                    Traceback (most recent call last)",
      "\u001b[1;32mC:\\ProgramData\\Anaconda3\\lib\\site-packages\\tensorflow\\python\\client\\session.py\u001b[0m in \u001b[0;36m_do_call\u001b[1;34m(self, fn, *args)\u001b[0m\n\u001b[0;32m   1333\u001b[0m     \u001b[1;32mtry\u001b[0m\u001b[1;33m:\u001b[0m\u001b[1;33m\u001b[0m\u001b[0m\n\u001b[1;32m-> 1334\u001b[1;33m       \u001b[1;32mreturn\u001b[0m \u001b[0mfn\u001b[0m\u001b[1;33m(\u001b[0m\u001b[1;33m*\u001b[0m\u001b[0margs\u001b[0m\u001b[1;33m)\u001b[0m\u001b[1;33m\u001b[0m\u001b[0m\n\u001b[0m\u001b[0;32m   1335\u001b[0m     \u001b[1;32mexcept\u001b[0m \u001b[0merrors\u001b[0m\u001b[1;33m.\u001b[0m\u001b[0mOpError\u001b[0m \u001b[1;32mas\u001b[0m \u001b[0me\u001b[0m\u001b[1;33m:\u001b[0m\u001b[1;33m\u001b[0m\u001b[0m\n",
      "\u001b[1;32mC:\\ProgramData\\Anaconda3\\lib\\site-packages\\tensorflow\\python\\client\\session.py\u001b[0m in \u001b[0;36m_run_fn\u001b[1;34m(feed_dict, fetch_list, target_list, options, run_metadata)\u001b[0m\n\u001b[0;32m   1318\u001b[0m       return self._call_tf_sessionrun(\n\u001b[1;32m-> 1319\u001b[1;33m           options, feed_dict, fetch_list, target_list, run_metadata)\n\u001b[0m\u001b[0;32m   1320\u001b[0m \u001b[1;33m\u001b[0m\u001b[0m\n",
      "\u001b[1;32mC:\\ProgramData\\Anaconda3\\lib\\site-packages\\tensorflow\\python\\client\\session.py\u001b[0m in \u001b[0;36m_call_tf_sessionrun\u001b[1;34m(self, options, feed_dict, fetch_list, target_list, run_metadata)\u001b[0m\n\u001b[0;32m   1406\u001b[0m         \u001b[0mself\u001b[0m\u001b[1;33m.\u001b[0m\u001b[0m_session\u001b[0m\u001b[1;33m,\u001b[0m \u001b[0moptions\u001b[0m\u001b[1;33m,\u001b[0m \u001b[0mfeed_dict\u001b[0m\u001b[1;33m,\u001b[0m \u001b[0mfetch_list\u001b[0m\u001b[1;33m,\u001b[0m \u001b[0mtarget_list\u001b[0m\u001b[1;33m,\u001b[0m\u001b[1;33m\u001b[0m\u001b[0m\n\u001b[1;32m-> 1407\u001b[1;33m         run_metadata)\n\u001b[0m\u001b[0;32m   1408\u001b[0m \u001b[1;33m\u001b[0m\u001b[0m\n",
      "\u001b[1;31mResourceExhaustedError\u001b[0m: OOM when allocating tensor with shape[10000,300,96,1] and type float on /job:localhost/replica:0/task:0/device:GPU:0 by allocator GPU_0_bfc\n\t [[{{node Conv2D_2}} = Conv2D[T=DT_FLOAT, data_format=\"NHWC\", dilations=[1, 1, 1, 1], padding=\"VALID\", strides=[1, 1, 1, 1], use_cudnn_on_gpu=true, _device=\"/job:localhost/replica:0/task:0/device:GPU:0\"](Reshape, 5gram-filter/read)]]\nHint: If you want to see a list of allocated tensors when OOM happens, add report_tensor_allocations_upon_oom to RunOptions for current allocation info.\n\n\t [[{{node Mean/_51}} = _Recv[client_terminated=false, recv_device=\"/job:localhost/replica:0/task:0/device:CPU:0\", send_device=\"/job:localhost/replica:0/task:0/device:GPU:0\", send_device_incarnation=1, tensor_name=\"edge_135_Mean\", tensor_type=DT_FLOAT, _device=\"/job:localhost/replica:0/task:0/device:CPU:0\"]()]]\nHint: If you want to see a list of allocated tensors when OOM happens, add report_tensor_allocations_upon_oom to RunOptions for current allocation info.\n",
      "\nDuring handling of the above exception, another exception occurred:\n",
      "\u001b[1;31mResourceExhaustedError\u001b[0m                    Traceback (most recent call last)",
      "\u001b[1;32m<ipython-input-20-93465f0efe5b>\u001b[0m in \u001b[0;36m<module>\u001b[1;34m()\u001b[0m\n\u001b[0;32m      9\u001b[0m \u001b[1;33m\u001b[0m\u001b[0m\n\u001b[0;32m     10\u001b[0m \u001b[1;32mfor\u001b[0m \u001b[0mi\u001b[0m \u001b[1;32min\u001b[0m \u001b[0mrange\u001b[0m\u001b[1;33m(\u001b[0m\u001b[0miter_num\u001b[0m\u001b[1;33m)\u001b[0m\u001b[1;33m:\u001b[0m\u001b[1;33m\u001b[0m\u001b[0m\n\u001b[1;32m---> 11\u001b[1;33m     \u001b[0mtest_accuracy\u001b[0m\u001b[1;33m,\u001b[0m \u001b[0mtest_cost\u001b[0m\u001b[1;33m,\u001b[0m \u001b[0mtokens\u001b[0m \u001b[1;33m=\u001b[0m         \u001b[0msess\u001b[0m\u001b[1;33m.\u001b[0m\u001b[0mrun\u001b[0m\u001b[1;33m(\u001b[0m\u001b[1;33m[\u001b[0m\u001b[0maccuracy\u001b[0m\u001b[1;33m,\u001b[0m \u001b[0mcost\u001b[0m\u001b[1;33m,\u001b[0m \u001b[0mpredicted\u001b[0m\u001b[1;33m]\u001b[0m\u001b[1;33m,\u001b[0m \u001b[0mfeed_dict\u001b[0m\u001b[1;33m=\u001b[0m\u001b[1;33m{\u001b[0m\u001b[0mX\u001b[0m\u001b[1;33m:\u001b[0m\u001b[0mX_test\u001b[0m\u001b[1;33m[\u001b[0m\u001b[0mchunk_size\u001b[0m\u001b[1;33m*\u001b[0m\u001b[0mi\u001b[0m\u001b[1;33m:\u001b[0m\u001b[0mchunk_size\u001b[0m\u001b[1;33m*\u001b[0m\u001b[1;33m(\u001b[0m\u001b[0mi\u001b[0m\u001b[1;33m+\u001b[0m\u001b[1;36m1\u001b[0m\u001b[1;33m)\u001b[0m\u001b[1;33m]\u001b[0m\u001b[1;33m,\u001b[0m \u001b[0mY\u001b[0m\u001b[1;33m:\u001b[0m\u001b[0mY_test\u001b[0m\u001b[1;33m[\u001b[0m\u001b[0mchunk_size\u001b[0m\u001b[1;33m*\u001b[0m\u001b[0mi\u001b[0m\u001b[1;33m:\u001b[0m\u001b[0mchunk_size\u001b[0m\u001b[1;33m*\u001b[0m\u001b[1;33m(\u001b[0m\u001b[0mi\u001b[0m\u001b[1;33m+\u001b[0m\u001b[1;36m1\u001b[0m\u001b[1;33m)\u001b[0m\u001b[1;33m]\u001b[0m\u001b[1;33m,\u001b[0m \u001b[0mkeep_prob\u001b[0m\u001b[1;33m:\u001b[0m\u001b[1;36m1\u001b[0m\u001b[1;33m}\u001b[0m\u001b[1;33m)\u001b[0m\u001b[1;33m\u001b[0m\u001b[0m\n\u001b[0m\u001b[0;32m     12\u001b[0m     \u001b[0macc_tot\u001b[0m\u001b[1;33m.\u001b[0m\u001b[0mappend\u001b[0m\u001b[1;33m(\u001b[0m\u001b[0mtest_accuracy\u001b[0m\u001b[1;33m)\u001b[0m\u001b[1;33m\u001b[0m\u001b[0m\n\u001b[0;32m     13\u001b[0m     \u001b[0mcost_tot\u001b[0m\u001b[1;33m.\u001b[0m\u001b[0mappend\u001b[0m\u001b[1;33m(\u001b[0m\u001b[0mtest_cost\u001b[0m\u001b[1;33m)\u001b[0m\u001b[1;33m\u001b[0m\u001b[0m\n",
      "\u001b[1;32mC:\\ProgramData\\Anaconda3\\lib\\site-packages\\tensorflow\\python\\client\\session.py\u001b[0m in \u001b[0;36mrun\u001b[1;34m(self, fetches, feed_dict, options, run_metadata)\u001b[0m\n\u001b[0;32m    927\u001b[0m     \u001b[1;32mtry\u001b[0m\u001b[1;33m:\u001b[0m\u001b[1;33m\u001b[0m\u001b[0m\n\u001b[0;32m    928\u001b[0m       result = self._run(None, fetches, feed_dict, options_ptr,\n\u001b[1;32m--> 929\u001b[1;33m                          run_metadata_ptr)\n\u001b[0m\u001b[0;32m    930\u001b[0m       \u001b[1;32mif\u001b[0m \u001b[0mrun_metadata\u001b[0m\u001b[1;33m:\u001b[0m\u001b[1;33m\u001b[0m\u001b[0m\n\u001b[0;32m    931\u001b[0m         \u001b[0mproto_data\u001b[0m \u001b[1;33m=\u001b[0m \u001b[0mtf_session\u001b[0m\u001b[1;33m.\u001b[0m\u001b[0mTF_GetBuffer\u001b[0m\u001b[1;33m(\u001b[0m\u001b[0mrun_metadata_ptr\u001b[0m\u001b[1;33m)\u001b[0m\u001b[1;33m\u001b[0m\u001b[0m\n",
      "\u001b[1;32mC:\\ProgramData\\Anaconda3\\lib\\site-packages\\tensorflow\\python\\client\\session.py\u001b[0m in \u001b[0;36m_run\u001b[1;34m(self, handle, fetches, feed_dict, options, run_metadata)\u001b[0m\n\u001b[0;32m   1150\u001b[0m     \u001b[1;32mif\u001b[0m \u001b[0mfinal_fetches\u001b[0m \u001b[1;32mor\u001b[0m \u001b[0mfinal_targets\u001b[0m \u001b[1;32mor\u001b[0m \u001b[1;33m(\u001b[0m\u001b[0mhandle\u001b[0m \u001b[1;32mand\u001b[0m \u001b[0mfeed_dict_tensor\u001b[0m\u001b[1;33m)\u001b[0m\u001b[1;33m:\u001b[0m\u001b[1;33m\u001b[0m\u001b[0m\n\u001b[0;32m   1151\u001b[0m       results = self._do_run(handle, final_targets, final_fetches,\n\u001b[1;32m-> 1152\u001b[1;33m                              feed_dict_tensor, options, run_metadata)\n\u001b[0m\u001b[0;32m   1153\u001b[0m     \u001b[1;32melse\u001b[0m\u001b[1;33m:\u001b[0m\u001b[1;33m\u001b[0m\u001b[0m\n\u001b[0;32m   1154\u001b[0m       \u001b[0mresults\u001b[0m \u001b[1;33m=\u001b[0m \u001b[1;33m[\u001b[0m\u001b[1;33m]\u001b[0m\u001b[1;33m\u001b[0m\u001b[0m\n",
      "\u001b[1;32mC:\\ProgramData\\Anaconda3\\lib\\site-packages\\tensorflow\\python\\client\\session.py\u001b[0m in \u001b[0;36m_do_run\u001b[1;34m(self, handle, target_list, fetch_list, feed_dict, options, run_metadata)\u001b[0m\n\u001b[0;32m   1326\u001b[0m     \u001b[1;32mif\u001b[0m \u001b[0mhandle\u001b[0m \u001b[1;32mis\u001b[0m \u001b[1;32mNone\u001b[0m\u001b[1;33m:\u001b[0m\u001b[1;33m\u001b[0m\u001b[0m\n\u001b[0;32m   1327\u001b[0m       return self._do_call(_run_fn, feeds, fetches, targets, options,\n\u001b[1;32m-> 1328\u001b[1;33m                            run_metadata)\n\u001b[0m\u001b[0;32m   1329\u001b[0m     \u001b[1;32melse\u001b[0m\u001b[1;33m:\u001b[0m\u001b[1;33m\u001b[0m\u001b[0m\n\u001b[0;32m   1330\u001b[0m       \u001b[1;32mreturn\u001b[0m \u001b[0mself\u001b[0m\u001b[1;33m.\u001b[0m\u001b[0m_do_call\u001b[0m\u001b[1;33m(\u001b[0m\u001b[0m_prun_fn\u001b[0m\u001b[1;33m,\u001b[0m \u001b[0mhandle\u001b[0m\u001b[1;33m,\u001b[0m \u001b[0mfeeds\u001b[0m\u001b[1;33m,\u001b[0m \u001b[0mfetches\u001b[0m\u001b[1;33m)\u001b[0m\u001b[1;33m\u001b[0m\u001b[0m\n",
      "\u001b[1;32mC:\\ProgramData\\Anaconda3\\lib\\site-packages\\tensorflow\\python\\client\\session.py\u001b[0m in \u001b[0;36m_do_call\u001b[1;34m(self, fn, *args)\u001b[0m\n\u001b[0;32m   1346\u001b[0m           \u001b[1;32mpass\u001b[0m\u001b[1;33m\u001b[0m\u001b[0m\n\u001b[0;32m   1347\u001b[0m       \u001b[0mmessage\u001b[0m \u001b[1;33m=\u001b[0m \u001b[0merror_interpolation\u001b[0m\u001b[1;33m.\u001b[0m\u001b[0minterpolate\u001b[0m\u001b[1;33m(\u001b[0m\u001b[0mmessage\u001b[0m\u001b[1;33m,\u001b[0m \u001b[0mself\u001b[0m\u001b[1;33m.\u001b[0m\u001b[0m_graph\u001b[0m\u001b[1;33m)\u001b[0m\u001b[1;33m\u001b[0m\u001b[0m\n\u001b[1;32m-> 1348\u001b[1;33m       \u001b[1;32mraise\u001b[0m \u001b[0mtype\u001b[0m\u001b[1;33m(\u001b[0m\u001b[0me\u001b[0m\u001b[1;33m)\u001b[0m\u001b[1;33m(\u001b[0m\u001b[0mnode_def\u001b[0m\u001b[1;33m,\u001b[0m \u001b[0mop\u001b[0m\u001b[1;33m,\u001b[0m \u001b[0mmessage\u001b[0m\u001b[1;33m)\u001b[0m\u001b[1;33m\u001b[0m\u001b[0m\n\u001b[0m\u001b[0;32m   1349\u001b[0m \u001b[1;33m\u001b[0m\u001b[0m\n\u001b[0;32m   1350\u001b[0m   \u001b[1;32mdef\u001b[0m \u001b[0m_extend_graph\u001b[0m\u001b[1;33m(\u001b[0m\u001b[0mself\u001b[0m\u001b[1;33m)\u001b[0m\u001b[1;33m:\u001b[0m\u001b[1;33m\u001b[0m\u001b[0m\n",
      "\u001b[1;31mResourceExhaustedError\u001b[0m: OOM when allocating tensor with shape[10000,300,96,1] and type float on /job:localhost/replica:0/task:0/device:GPU:0 by allocator GPU_0_bfc\n\t [[node Conv2D_2 (defined at <ipython-input-10-3980bdb09357>:72)  = Conv2D[T=DT_FLOAT, data_format=\"NHWC\", dilations=[1, 1, 1, 1], padding=\"VALID\", strides=[1, 1, 1, 1], use_cudnn_on_gpu=true, _device=\"/job:localhost/replica:0/task:0/device:GPU:0\"](Reshape, 5gram-filter/read)]]\nHint: If you want to see a list of allocated tensors when OOM happens, add report_tensor_allocations_upon_oom to RunOptions for current allocation info.\n\n\t [[{{node Mean/_51}} = _Recv[client_terminated=false, recv_device=\"/job:localhost/replica:0/task:0/device:CPU:0\", send_device=\"/job:localhost/replica:0/task:0/device:GPU:0\", send_device_incarnation=1, tensor_name=\"edge_135_Mean\", tensor_type=DT_FLOAT, _device=\"/job:localhost/replica:0/task:0/device:CPU:0\"]()]]\nHint: If you want to see a list of allocated tensors when OOM happens, add report_tensor_allocations_upon_oom to RunOptions for current allocation info.\n\n\nCaused by op 'Conv2D_2', defined at:\n  File \"C:\\ProgramData\\Anaconda3\\lib\\runpy.py\", line 193, in _run_module_as_main\n    \"__main__\", mod_spec)\n  File \"C:\\ProgramData\\Anaconda3\\lib\\runpy.py\", line 85, in _run_code\n    exec(code, run_globals)\n  File \"C:\\ProgramData\\Anaconda3\\lib\\site-packages\\ipykernel_launcher.py\", line 16, in <module>\n    app.launch_new_instance()\n  File \"C:\\ProgramData\\Anaconda3\\lib\\site-packages\\traitlets\\config\\application.py\", line 658, in launch_instance\n    app.start()\n  File \"C:\\ProgramData\\Anaconda3\\lib\\site-packages\\ipykernel\\kernelapp.py\", line 477, in start\n    ioloop.IOLoop.instance().start()\n  File \"C:\\ProgramData\\Anaconda3\\lib\\site-packages\\zmq\\eventloop\\ioloop.py\", line 177, in start\n    super(ZMQIOLoop, self).start()\n  File \"C:\\ProgramData\\Anaconda3\\lib\\site-packages\\tornado\\ioloop.py\", line 888, in start\n    handler_func(fd_obj, events)\n  File \"C:\\ProgramData\\Anaconda3\\lib\\site-packages\\tornado\\stack_context.py\", line 277, in null_wrapper\n    return fn(*args, **kwargs)\n  File \"C:\\ProgramData\\Anaconda3\\lib\\site-packages\\zmq\\eventloop\\zmqstream.py\", line 440, in _handle_events\n    self._handle_recv()\n  File \"C:\\ProgramData\\Anaconda3\\lib\\site-packages\\zmq\\eventloop\\zmqstream.py\", line 472, in _handle_recv\n    self._run_callback(callback, msg)\n  File \"C:\\ProgramData\\Anaconda3\\lib\\site-packages\\zmq\\eventloop\\zmqstream.py\", line 414, in _run_callback\n    callback(*args, **kwargs)\n  File \"C:\\ProgramData\\Anaconda3\\lib\\site-packages\\tornado\\stack_context.py\", line 277, in null_wrapper\n    return fn(*args, **kwargs)\n  File \"C:\\ProgramData\\Anaconda3\\lib\\site-packages\\ipykernel\\kernelbase.py\", line 283, in dispatcher\n    return self.dispatch_shell(stream, msg)\n  File \"C:\\ProgramData\\Anaconda3\\lib\\site-packages\\ipykernel\\kernelbase.py\", line 235, in dispatch_shell\n    handler(stream, idents, msg)\n  File \"C:\\ProgramData\\Anaconda3\\lib\\site-packages\\ipykernel\\kernelbase.py\", line 399, in execute_request\n    user_expressions, allow_stdin)\n  File \"C:\\ProgramData\\Anaconda3\\lib\\site-packages\\ipykernel\\ipkernel.py\", line 196, in do_execute\n    res = shell.run_cell(code, store_history=store_history, silent=silent)\n  File \"C:\\ProgramData\\Anaconda3\\lib\\site-packages\\ipykernel\\zmqshell.py\", line 533, in run_cell\n    return super(ZMQInteractiveShell, self).run_cell(*args, **kwargs)\n  File \"C:\\ProgramData\\Anaconda3\\lib\\site-packages\\IPython\\core\\interactiveshell.py\", line 2698, in run_cell\n    interactivity=interactivity, compiler=compiler, result=result)\n  File \"C:\\ProgramData\\Anaconda3\\lib\\site-packages\\IPython\\core\\interactiveshell.py\", line 2802, in run_ast_nodes\n    if self.run_code(code, result):\n  File \"C:\\ProgramData\\Anaconda3\\lib\\site-packages\\IPython\\core\\interactiveshell.py\", line 2862, in run_code\n    exec(code_obj, self.user_global_ns, self.user_ns)\n  File \"<ipython-input-10-3980bdb09357>\", line 72, in <module>\n    L3 = tf.nn.conv2d(embedded_word_ids, F3, strides=[1, 1, 1, 1], padding='VALID')\n  File \"C:\\ProgramData\\Anaconda3\\lib\\site-packages\\tensorflow\\python\\ops\\gen_nn_ops.py\", line 957, in conv2d\n    data_format=data_format, dilations=dilations, name=name)\n  File \"C:\\ProgramData\\Anaconda3\\lib\\site-packages\\tensorflow\\python\\framework\\op_def_library.py\", line 787, in _apply_op_helper\n    op_def=op_def)\n  File \"C:\\ProgramData\\Anaconda3\\lib\\site-packages\\tensorflow\\python\\util\\deprecation.py\", line 488, in new_func\n    return func(*args, **kwargs)\n  File \"C:\\ProgramData\\Anaconda3\\lib\\site-packages\\tensorflow\\python\\framework\\ops.py\", line 3274, in create_op\n    op_def=op_def)\n  File \"C:\\ProgramData\\Anaconda3\\lib\\site-packages\\tensorflow\\python\\framework\\ops.py\", line 1770, in __init__\n    self._traceback = tf_stack.extract_stack()\n\nResourceExhaustedError (see above for traceback): OOM when allocating tensor with shape[10000,300,96,1] and type float on /job:localhost/replica:0/task:0/device:GPU:0 by allocator GPU_0_bfc\n\t [[node Conv2D_2 (defined at <ipython-input-10-3980bdb09357>:72)  = Conv2D[T=DT_FLOAT, data_format=\"NHWC\", dilations=[1, 1, 1, 1], padding=\"VALID\", strides=[1, 1, 1, 1], use_cudnn_on_gpu=true, _device=\"/job:localhost/replica:0/task:0/device:GPU:0\"](Reshape, 5gram-filter/read)]]\nHint: If you want to see a list of allocated tensors when OOM happens, add report_tensor_allocations_upon_oom to RunOptions for current allocation info.\n\n\t [[{{node Mean/_51}} = _Recv[client_terminated=false, recv_device=\"/job:localhost/replica:0/task:0/device:CPU:0\", send_device=\"/job:localhost/replica:0/task:0/device:GPU:0\", send_device_incarnation=1, tensor_name=\"edge_135_Mean\", tensor_type=DT_FLOAT, _device=\"/job:localhost/replica:0/task:0/device:CPU:0\"]()]]\nHint: If you want to see a list of allocated tensors when OOM happens, add report_tensor_allocations_upon_oom to RunOptions for current allocation info.\n\n"
     ]
    }
   ],
   "source": [
    "from math import ceil\n",
    "\n",
    "# 여기서도 OOM 날수 있다\n",
    "acc_tot = []\n",
    "cost_tot = []\n",
    "cate_predicted = []\n",
    "chunk_size = 10000 # OOM 방지\n",
    "iter_num = ceil(len(Y_test)/chunk_size)\n",
    "\n",
    "for i in range(iter_num):\n",
    "    test_accuracy, test_cost, tokens = \\\n",
    "        sess.run([accuracy, cost, predicted], feed_dict={X:X_test[chunk_size*i:chunk_size*(i+1)], Y:Y_test[chunk_size*i:chunk_size*(i+1)], keep_prob:1})\n",
    "    acc_tot.append(test_accuracy)\n",
    "    cost_tot.append(test_cost)\n",
    "    \n",
    "    for tok in tokens:\n",
    "        cate_predicted.append(token_to_cate[tok].split('>'))\n",
    "    print('Test Accuracy: %g \\tTest cost: %g' %(test_accuracy, test_cost))\n",
    "    \n",
    "print('Total Accuracy:', np.array(acc_tot).mean(), '\\tTotal Cost:', np.array(cost_tot).mean())"
   ]
  },
  {
   "cell_type": "code",
   "execution_count": null,
   "metadata": {
    "collapsed": true
   },
   "outputs": [],
   "source": [
    "# 분류 계층별 정확도 보기\n",
    "\n",
    "# 나누기\n",
    "cate_ans = []\n",
    "for i in np.argmax(Y_test, axis=1):\n",
    "    cate_ans.append(token_to_cate[i].split('>'))\n",
    "\n",
    "\n",
    "cate_predicted = np.array(cate_predicted)\n",
    "cate_ans = np.array(cate_ans)\n",
    "\n",
    "# df_cate = pd.DataFrame(cate_predicted, columns=['bcateid', 'mcateid', 'scateid', 'dcateid'])\n",
    "# 계산하기\n",
    "cols=['bcateid', 'mcateid', 'scateid', 'dcateid']\n",
    "aws_list = cate_ans.transpose([1,0]) == cate_predicted.transpose([1,0])\n",
    "accs = []\n",
    "\n",
    "for i, aws in enumerate(aws_list):\n",
    "    _sum = np.sum(aws)\n",
    "    acc = _sum/len(aws)\n",
    "    accs.append(acc)\n",
    "    print('%s: %g \\t %d/%d' %(cols[i], acc, _sum, len(aws)))\n",
    "    \n",
    "print('final score:', (accs[0]+accs[1]*1.2+accs[2]*1.3+accs[3]*1.4)/4) \n",
    "print('아직 결측치 보정은 안함')"
   ]
  },
  {
   "cell_type": "code",
   "execution_count": 62,
   "metadata": {},
   "outputs": [
    {
     "data": {
      "text/plain": [
       "0.7073726530058878"
      ]
     },
     "execution_count": 62,
     "metadata": {},
     "output_type": "execute_result"
    }
   ],
   "source": [
    "# 결측치 보정\n",
    "sid = Counter(df['scateid'])\n",
    "sratio = (len(df['scateid']) - sid.get(-1))/len(df['scateid'])\n",
    "np.array(acc_tot).mean()/sratio"
   ]
  },
  {
   "cell_type": "markdown",
   "metadata": {},
   "source": [
    "---\n",
    "0.002 --> 0.86 어닐링 없이\n",
    " - 최고 정확도\n",
    "\n",
    "### 할일\n",
    "- 텐서보드 붙이기\n",
    "- ~~모델 저장하기~~\n",
    "- ~~이니셜라이저 사용~~\n",
    "- 4가지 레이블 맞추기\n",
    "    - 점수 제작 코드\n",
    "- ~~대분류당 중분류 중복 안되는지~~\n",
    "    - 패턴먼저 파악하기\n",
    "    - 중복 안되면 강제로 CRF적용가능\n",
    "    - 중복 안됨\n",
    "- 모듈화\n",
    "    - myUtils.py 에 정리하기\n",
    "    \n",
    "---\n",
    "데이터가 1,2와 3이 많이 다르네\n",
    " - 훈련 지속할 파이프라인 구축이 우선\n",
    " - 배치놈 반드시 필요할듯\n",
    "    "
   ]
  },
  {
   "cell_type": "code",
   "execution_count": null,
   "metadata": {
    "collapsed": true
   },
   "outputs": [],
   "source": []
  }
 ],
 "metadata": {
  "kernelspec": {
   "display_name": "Python 3",
   "language": "python",
   "name": "python3"
  },
  "language_info": {
   "codemirror_mode": {
    "name": "ipython",
    "version": 3
   },
   "file_extension": ".py",
   "mimetype": "text/x-python",
   "name": "python",
   "nbconvert_exporter": "python",
   "pygments_lexer": "ipython3",
   "version": "3.6.2"
  }
 },
 "nbformat": 4,
 "nbformat_minor": 2
}
