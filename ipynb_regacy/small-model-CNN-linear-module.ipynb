{
 "cells": [
  {
   "cell_type": "code",
   "execution_count": 4,
   "metadata": {},
   "outputs": [],
   "source": [
    "import h5py\n",
    "import pandas as pd\n",
    "import numpy as np\n",
    "import tensorflow as tf\n",
    "import matplotlib.pyplot as plt\n",
    "from tqdm import tqdm_notebook as tqdm"
   ]
  },
  {
   "cell_type": "markdown",
   "metadata": {},
   "source": [
    "# y_vocab preprocess"
   ]
  },
  {
   "cell_type": "code",
   "execution_count": 5,
   "metadata": {},
   "outputs": [
    {
     "name": "stdout",
     "output_type": "stream",
     "text": [
      "4215\n"
     ]
    }
   ],
   "source": [
    "import _pickle\n",
    "y_vocab = _pickle.load(open('./data/y_vocab.py3.cPickle', 'rb'))\n",
    "y_vocab['43>109>1576>-1']\n",
    "print(len(y_vocab))\n",
    "\n",
    "token_to_cate = {}\n",
    "for it in y_vocab.items():\n",
    "     token_to_cate[it[1]] = it[0]"
   ]
  },
  {
   "cell_type": "markdown",
   "metadata": {},
   "source": [
    "# word preprocess"
   ]
  },
  {
   "cell_type": "code",
   "execution_count": 6,
   "metadata": {
    "collapsed": true
   },
   "outputs": [],
   "source": [
    "from myUtils.myUtils import *"
   ]
  },
  {
   "cell_type": "code",
   "execution_count": 9,
   "metadata": {
    "collapsed": true
   },
   "outputs": [],
   "source": [
    "helper = Helper()\n",
    "seq_len=100\n",
    "hash_size=4000"
   ]
  },
  {
   "cell_type": "code",
   "execution_count": 5,
   "metadata": {
    "scrolled": true
   },
   "outputs": [
    {
     "name": "stdout",
     "output_type": "stream",
     "text": [
      "------------./data_org/train.chunk.01-----------\n"
     ]
    },
    {
     "data": {
      "application/vnd.jupyter.widget-view+json": {
       "model_id": "e36120f947ae4c74937d6e1ade730911",
       "version_major": 2,
       "version_minor": 0
      },
      "text/plain": [
       "A Jupyter Widget"
      ]
     },
     "metadata": {},
     "output_type": "display_data"
    },
    {
     "name": "stdout",
     "output_type": "stream",
     "text": [
      "\n"
     ]
    },
    {
     "data": {
      "application/vnd.jupyter.widget-view+json": {
       "model_id": "07437159325a466dbbc65bd1f30ce5e4",
       "version_major": 2,
       "version_minor": 0
      },
      "text/plain": [
       "A Jupyter Widget"
      ]
     },
     "metadata": {},
     "output_type": "display_data"
    },
    {
     "name": "stdout",
     "output_type": "stream",
     "text": [
      "\n",
      "Wall time: 2min 27s\n"
     ]
    }
   ],
   "source": [
    "%%time\n",
    "for i in range(1,10):\n",
    "    helper.chunk_no = i\n",
    "    helper.path = './data_org/train.chunk.0'+str(helper.chunk_no)\n",
    "    print('------------%s-----------'%(helper.path))    \n",
    "#     helper.makeDF(0, 10000, mode=\"train\")\n",
    "    helper.makeDF(0, 1000000, mode=\"train\")    \n",
    "    \n",
    "    tmp_path_x = 'tmp/data_x_%d.csv' %(helper.chunk_no)\n",
    "    tmp_path_y = 'tmp/data_y_%d.csv' %(helper.chunk_no)\n",
    "    data_x = helper.df2data(tmp_path_x, seq_len=seq_len, hash_size=hash_size)\n",
    "    data_y = helper.cate2token(tmp_path_y , y_vocab)"
   ]
  },
  {
   "cell_type": "markdown",
   "metadata": {},
   "source": [
    "---\n",
    "# data shuffle/sampling"
   ]
  },
  {
   "cell_type": "code",
   "execution_count": 38,
   "metadata": {},
   "outputs": [
    {
     "name": "stdout",
     "output_type": "stream",
     "text": [
      "Wall time: 27.1 s\n"
     ]
    }
   ],
   "source": [
    "\"\"\"%%time\n",
    "# data io 는 판다스가 넘파이보다 훨씬 낫다\n",
    "df2 = pd.read_csv('tmp/data_x_%d.csv'%(2), header=None)\n",
    "data_x = df2.as_matrix()\n",
    "\n",
    "np.savetxt('data/data_x_%d.csv'%(2), data_x, delimiter=',')\n",
    "\n",
    "data_y = np.genfromtxt('tmp/data_y_%d.csv'%(1), delimiter=',', dtype=np.int16)\"\"\""
   ]
  },
  {
   "cell_type": "code",
   "execution_count": 82,
   "metadata": {},
   "outputs": [
    {
     "name": "stdout",
     "output_type": "stream",
     "text": [
      "899000 100000 1000 =====================================\n",
      "1798000 200000 2000 =====================================\n",
      "2697000 300000 3000 =====================================\n",
      "3596000 400000 4000 =====================================\n",
      "4495000 500000 5000 =====================================\n",
      "5394000 600000 6000 =====================================\n",
      "6293000 700000 7000 =====================================\n",
      "7192000 800000 8000 =====================================\n",
      "7313201 813482 8135 =====================================\n"
     ]
    }
   ],
   "source": [
    "# split data set\n",
    "test_ratio = 0.1\n",
    "val_ratio = 0.001\n",
    "train_ratio = 1-test_ratio-val_ratio\n",
    "\n",
    "# data_x_val_all = []\n",
    "# data_x_test_all = []\n",
    "# data_y_val_all = []\n",
    "# data_y_test_all = []\n",
    "\n",
    "train_len = 0\n",
    "val_len = 0\n",
    "test_len = 0\n",
    "\n",
    "for i,e in enumerate(range(1,10)):\n",
    "    # read data x,y\n",
    "    df_tmp = pd.read_csv('tmp/data_x_%d.csv'%(e), header=None)\n",
    "    data_x = df_tmp.as_matrix()\n",
    "    data_y = np.genfromtxt('tmp/data_y_%d.csv'%(e), delimiter=',', dtype=np.int16)\n",
    "    \n",
    "    assert len(data_x) == len(data_y)\n",
    "    d_len = len(data_x)\n",
    "    train_end = int(d_len*train_ratio)\n",
    "    test_end = int(d_len*(train_ratio+test_ratio))\n",
    "\n",
    "    X_train = data_x[:train_end]\n",
    "    Y_train = data_y[:train_end]\n",
    "    np.savetxt('data/data_x_%d.csv'%(e), X_train, delimiter=',')\n",
    "    np.savetxt('data/data_y_%d.csv'%(e), Y_train, delimiter=',')\n",
    "\n",
    "    X_test = data_x[train_end:test_end]\n",
    "    Y_test = data_y[train_end:test_end]\n",
    "    if i==0:\n",
    "        data_x_test_all = X_test\n",
    "        data_y_test_all = Y_test\n",
    "    else:\n",
    "        data_x_test_all = np.concatenate((data_x_test_all, X_test), axis=0)\n",
    "        data_y_test_all = np.concatenate((data_y_test_all, Y_test), axis=0)\n",
    "\n",
    "    X_val = data_x[test_end:]\n",
    "    Y_val = data_y[test_end:]\n",
    "    if i==0:\n",
    "        data_x_val_all = X_val\n",
    "        data_y_val_all = Y_val\n",
    "    else:\n",
    "        data_x_val_all = np.concatenate((data_x_val_all, X_val), axis=0)\n",
    "        data_y_val_all = np.concatenate((data_y_val_all, Y_val), axis=0)\n",
    "        \n",
    "    train_len += len(X_train)\n",
    "    test_len += len(X_test)\n",
    "    val_len += len(X_val)\n",
    "    print(train_len, test_len, val_len, '=====================================')\n",
    "    \n",
    "# write val, test set\n",
    "np.savetxt('data/data_x_val.csv', data_x_val_all, delimiter=',')\n",
    "np.savetxt('data/data_x_test.csv', data_x_test_all, delimiter=',')\n",
    "\n",
    "np.savetxt('data/data_y_val.csv', data_y_val_all, delimiter=',')\n",
    "np.savetxt('data/data_y_test.csv', data_y_test_all, delimiter=',')\n"
   ]
  },
  {
   "cell_type": "markdown",
   "metadata": {},
   "source": [
    "# read val data"
   ]
  },
  {
   "cell_type": "code",
   "execution_count": 10,
   "metadata": {
    "collapsed": true
   },
   "outputs": [],
   "source": [
    "def set_train_data(no): # no 1-9\n",
    "    assert no>=0 and no<=9\n",
    "    df_tmp = pd.read_csv('data/data_x_%d.csv'%(no), header=None)\n",
    "    X_train = df_tmp.as_matrix()\n",
    "    Y_train = np.genfromtxt('data/data_y_%d.csv'%(no), delimiter=',', dtype=np.int16)\n",
    "    Y_train = helper.onehot(Y_train)\n",
    "    return (X_train, Y_train)"
   ]
  },
  {
   "cell_type": "code",
   "execution_count": 11,
   "metadata": {},
   "outputs": [],
   "source": [
    "df_tmp = pd.read_csv('data/data_x_val.csv', header=None)\n",
    "X_val = df_tmp.as_matrix()\n",
    "Y_val = np.genfromtxt('data/data_y_val.csv', delimiter=',', dtype=np.int16)\n",
    "Y_val = helper.onehot(Y_val)"
   ]
  },
  {
   "cell_type": "code",
   "execution_count": 12,
   "metadata": {},
   "outputs": [
    {
     "name": "stdout",
     "output_type": "stream",
     "text": [
      "(8135, 100) (8135, 4215)\n"
     ]
    }
   ],
   "source": [
    "print(X_val.shape, Y_val.shape)"
   ]
  },
  {
   "cell_type": "code",
   "execution_count": 13,
   "metadata": {
    "collapsed": true
   },
   "outputs": [],
   "source": [
    "# 피처 데이터, 레이블, 미니배치 갯수, random sampling\n",
    "import random\n",
    "random.seed(2018)\n",
    "def getMiniBatch2(x, y, n):\n",
    "    if len(x) != len(y):\n",
    "        print('Feature and label num is not equal.')\n",
    "        return\n",
    "    rand_idx = random.sample(list(range(len(x))), n)\n",
    "    x_ = [x[i] for i in rand_idx]\n",
    "    y_ = [y[i] for i in rand_idx]\n",
    "    return np.array(x_), np.array(y_)"
   ]
  },
  {
   "cell_type": "code",
   "execution_count": 14,
   "metadata": {},
   "outputs": [
    {
     "data": {
      "text/plain": [
       "(array([[3760.,  771., 3083., 2832., 3153., 2903., 1521., 3400., 3705.,\n",
       "         3184., 1681., 3737., 1835., 3805., 2555., 3545., 2814., 1835.,\n",
       "         3708., 1835., 2903.,  536., 2814., 1960., 3545., 1536., 1835.,\n",
       "         3805., 3184.,  350., 3519., 1835.,  321.,  363., 1711., 2814.,\n",
       "         1960., 1835.,  321., 2814., 1536., 1711., 3117., 3519., 3035.,\n",
       "         3519.,   19., 3035.,   19., 1576.,  471., 1835., 2903., 1521.,\n",
       "         3400., 3705., 3184., 1681., 1835., 3117., 1807.,  471., 3784.,\n",
       "         1870., 3036., 1374., 2832., 1835.,  186.,  350., 2851.,   19.,\n",
       "         3534., 1388.,    0.,    0.,    0.,    0.,    0.,    0.,    0.,\n",
       "            0.,    0.,    0.,    0.,    0.,    0.,    0.,    0.,    0.,\n",
       "            0.,    0.,    0.,    0.,    0.,    0.,    0.,    0.,    0.,\n",
       "            0.],\n",
       "        [3760., 2853., 3837., 1835., 1576., 3951.,  349., 1835., 1437.,\n",
       "         2913., 3737., 3760., 2375., 1870., 2375., 3666., 3737., 2003.,\n",
       "          196.,  435., 3573., 3737., 3760., 2512., 1154.,  401., 3737.,\n",
       "         2045., 2814., 2555.,  363., 2480., 1711., 2814., 1446., 1835.,\n",
       "         3130., 1803., 1803.,  363., 1835., 1042., 2814., 2761., 1536.,\n",
       "         1711.,  759., 1803., 1803., 1960., 1429., 1835.,  596., 2814.,\n",
       "         3490., 3545., 1711., 1429., 1835., 1835., 2819., 3481., 1835.,\n",
       "         2819., 3481.,    0.,    0.,    0.,    0.,    0.,    0.,    0.,\n",
       "            0.,    0.,    0.,    0.,    0.,    0.,    0.,    0.,    0.,\n",
       "            0.,    0.,    0.,    0.,    0.,    0.,    0.,    0.,    0.,\n",
       "            0.,    0.,    0.,    0.,    0.,    0.,    0.,    0.,    0.,\n",
       "            0.],\n",
       "        [ 999.,  618., 1835., 1388.,   43., 3117.,  186.,  350., 3490.,\n",
       "         2110.,  471., 1835., 2198.,  943., 1772., 1835., 1018.,  771.,\n",
       "           43., 1835., 3296., 2661., 2819., 1835., 1142., 1746., 3805.,\n",
       "          947., 2855., 3519., 1302.,  350.,  350., 1835., 2003.,  158.,\n",
       "         1835., 1835.,  999.,  618., 1835., 1142., 1746., 3805.,  947.,\n",
       "         2855., 3519., 1302.,  350.,  350., 3760.,  186.,  544., 3737.,\n",
       "            0.,    0.,    0.,    0.,    0.,    0.,    0.,    0.,    0.,\n",
       "            0.,    0.,    0.,    0.,    0.,    0.,    0.,    0.,    0.,\n",
       "            0.,    0.,    0.,    0.,    0.,    0.,    0.,    0.,    0.,\n",
       "            0.,    0.,    0.,    0.,    0.,    0.,    0.,    0.,    0.,\n",
       "            0.,    0.,    0.,    0.,    0.,    0.,    0.,    0.,    0.,\n",
       "            0.],\n",
       "        [3760.,  158., 1351., 2236., 3666., 3737., 1835., 3760.,  158.,\n",
       "         1351., 2236., 3666., 3737., 1835., 1805., 2242., 1208., 3025.,\n",
       "         3456., 1948., 3456., 1981., 3224.,  755., 1835., 3760., 1805.,\n",
       "         2242., 1208., 3025., 3456., 1948., 3456., 1981., 3224.,  755.,\n",
       "         3737., 1835.,  158., 1351., 2236., 3666., 1835.,  158., 1351.,\n",
       "         2236., 3666., 1835., 1805., 2242., 1208., 3025., 3456., 1948.,\n",
       "         3456., 1981., 3224.,  755.,    0.,    0.,    0.,    0.,    0.,\n",
       "            0.,    0.,    0.,    0.,    0.,    0.,    0.,    0.,    0.,\n",
       "            0.,    0.,    0.,    0.,    0.,    0.,    0.,    0.,    0.,\n",
       "            0.,    0.,    0.,    0.,    0.,    0.,    0.,    0.,    0.,\n",
       "            0.,    0.,    0.,    0.,    0.,    0.,    0.,    0.,    0.,\n",
       "            0.],\n",
       "        [3760., 3513., 1501.,  491., 2880., 3737., 1835.,  939.,  167.,\n",
       "         1835., 3513., 2832.,   91., 1835.,  167.,  968., 2855.,  765.,\n",
       "         2832.,  765., 3513., 3760., 1668., 3862., 2520., 2461., 3737.,\n",
       "         1835., 3513., 1501.,  491., 2880., 1835., 3117., 1807.,  471.,\n",
       "          765., 2832.,  765., 3513., 2913., 1415., 2669., 3224.,  425.,\n",
       "         1835.,    0.,    0.,    0.,    0.,    0.,    0.,    0.,    0.,\n",
       "            0.,    0.,    0.,    0.,    0.,    0.,    0.,    0.,    0.,\n",
       "            0.,    0.,    0.,    0.,    0.,    0.,    0.,    0.,    0.,\n",
       "            0.,    0.,    0.,    0.,    0.,    0.,    0.,    0.,    0.,\n",
       "            0.,    0.,    0.,    0.,    0.,    0.,    0.,    0.,    0.,\n",
       "            0.,    0.,    0.,    0.,    0.,    0.,    0.,    0.,    0.,\n",
       "            0.],\n",
       "        [3760., 3184., 2835., 1835., 3519.,  297., 1835., 2321., 2665.,\n",
       "         1437., 2913., 3737., 2045., 2903., 1835., 1302.,  350.,  350.,\n",
       "         1835., 1576.,  225.,  350., 3490., 2110., 1835.,  779.,  637.,\n",
       "         1606., 1534.,  771., 1835., 2589.,  114.,  840., 1418., 1835.,\n",
       "         2589.,  114.,  840., 1418., 1835., 2913., 1415., 1259., 3252.,\n",
       "         3153., 2589.,  114.,  840., 1418., 3153., 3713., 1807., 2127.,\n",
       "         1730., 3153., 3292.,  559., 1730., 3153.,  652.,  887., 3292.,\n",
       "          559., 1730.,    0.,    0.,    0.,    0.,    0.,    0.,    0.,\n",
       "            0.,    0.,    0.,    0.,    0.,    0.,    0.,    0.,    0.,\n",
       "            0.,    0.,    0.,    0.,    0.,    0.,    0.,    0.,    0.,\n",
       "            0.,    0.,    0.,    0.,    0.,    0.,    0.,    0.,    0.,\n",
       "            0.],\n",
       "        [3760., 3113., 3183., 3737., 3760., 2390., 1378.,  694., 3513.,\n",
       "          435., 3737., 1835., 3113., 3183., 1835.,   71., 1519., 3153.,\n",
       "         3519., 1681., 2835., 1835., 2414., 3399.,  536., 1711., 1835.,\n",
       "          321., 1835., 3805., 2814.,  363., 1711., 1835., 1429., 1803.,\n",
       "         1835., 3519., 1681., 2835., 1835.,   19.,  225.,  350., 1835.,\n",
       "          321., 2814., 1519.,  363., 1711., 1835., 2462., 1446., 2814.,\n",
       "          536., 1429., 1711., 1960., 1835., 1477., 2414., 1042., 1835.,\n",
       "         2903., 2814., 1429., 2814., 1835., 1681., 3399., 2761., 3490.,\n",
       "         1835.,  737., 2480., 2814., 1960., 1656., 1711., 1960., 1835.,\n",
       "         3153., 1042., 3519., 2851., 3519., 3534., 3035., 3519., 1388.,\n",
       "         1835.,  578.,  349.,  365.,  115., 1835., 2523., 2159., 2523.,\n",
       "         2881.],\n",
       "        [3760., 3113., 3183., 3737.,  321., 2814., 2110., 1711., 1960.,\n",
       "         2814., 1835., 3705., 1711.,  536., 2814., 2555., 1960., 1835.,\n",
       "         3705., 1711.,  536.,  363., 2814., 3490., 1711., 2110., 1711.,\n",
       "         2761., 1429., 1835., 1521., 2814., 1960., 1429., 1536., 1835.,\n",
       "         2903., 2851.,  350.,  350.,  350., 1835., 1960., 1711., 3061.,\n",
       "          363., 1711., 3490., 1429., 2555.,  759., 1711., 1835.,  536.,\n",
       "         2814., 2761., 1711.,  363., 1536., 1835., 1446., 1960., 2555.,\n",
       "          759., 1711., 1835., 2110., 1803., 1429., 1803., 1960., 1835.,\n",
       "         3061., 1803., 1960., 1835., 2045., 2555., 3545., 1803., 2761.,\n",
       "         1835.,  167.,  463.,  486., 1835., 2087., 1870., 1835., 1835.,\n",
       "         1835.,    0.,    0.,    0.,    0.,    0.,    0.,    0.,    0.,\n",
       "            0.],\n",
       "        [3760., 2935.,  968., 3501., 2832., 3737., 1835., 3805., 3363.,\n",
       "         2819.,  566., 1835., 2855., 1835.,  771., 1870., 3441., 1835.,\n",
       "         1388., 2366., 2832., 1835., 1807., 3441., 1154., 1835.,  765.,\n",
       "         1351., 3441., 1835., 2903., 1681., 2855.,  350., 1302.,  350.,\n",
       "           19., 1835., 1686.,  435.,  765., 1835.,  771., 1870., 3441.,\n",
       "         1835.,  394., 2819., 1154., 3666., 2177., 2818., 1835.,  771.,\n",
       "         1870., 3441., 1835., 2903., 1681., 1835.,  350., 1302.,  350.,\n",
       "           19., 1835.,  765., 1351., 3441.,    0.,    0.,    0.,    0.,\n",
       "            0.,    0.,    0.,    0.,    0.,    0.,    0.,    0.,    0.,\n",
       "            0.,    0.,    0.,    0.,    0.,    0.,    0.,    0.,    0.,\n",
       "            0.,    0.,    0.,    0.,    0.,    0.,    0.,    0.,    0.,\n",
       "            0.],\n",
       "        [3400.,  321., 2414., 2414., 1477., 1835., 2494., 3987., 1835.,\n",
       "         1477., 2414., 1042., 1835.,  167., 3666.,  401., 1116., 2819.,\n",
       "         1835., 1477., 2414., 1042., 2855.,  350., 1388., 1835., 2494.,\n",
       "         3987., 1835., 2523., 2159., 2523., 2881., 1268., 3452., 1835.,\n",
       "         3394., 3791., 1835., 2494., 3987., 1835., 1477., 2414., 1042.,\n",
       "         2855.,  350., 1388., 1835.,  167., 3666.,  401., 1116., 2819.,\n",
       "            0.,    0.,    0.,    0.,    0.,    0.,    0.,    0.,    0.,\n",
       "            0.,    0.,    0.,    0.,    0.,    0.,    0.,    0.,    0.,\n",
       "            0.,    0.,    0.,    0.,    0.,    0.,    0.,    0.,    0.,\n",
       "            0.,    0.,    0.,    0.,    0.,    0.,    0.,    0.,    0.,\n",
       "            0.,    0.,    0.,    0.,    0.,    0.,    0.,    0.,    0.,\n",
       "            0.]]), array([[0, 0, 0, ..., 0, 0, 0],\n",
       "        [0, 0, 0, ..., 0, 0, 0],\n",
       "        [0, 0, 0, ..., 0, 0, 0],\n",
       "        ...,\n",
       "        [0, 0, 0, ..., 0, 0, 0],\n",
       "        [0, 0, 0, ..., 0, 0, 0],\n",
       "        [0, 0, 0, ..., 0, 0, 0]], dtype=int8))"
      ]
     },
     "execution_count": 14,
     "metadata": {},
     "output_type": "execute_result"
    }
   ],
   "source": [
    "%%time\n",
    "getMiniBatch2(X_val, Y_val, 10)"
   ]
  },
  {
   "cell_type": "markdown",
   "metadata": {},
   "source": [
    "# make model"
   ]
  },
  {
   "cell_type": "code",
   "execution_count": 15,
   "metadata": {},
   "outputs": [],
   "source": [
    "# make DAG\n",
    "tf.reset_default_graph()\n",
    "tf.set_random_seed(2018)\n",
    "\n",
    "# train Parameters\n",
    "# seq_len = 35\n",
    "output_dim = 4215 # 1번 트레이닝셋만\n",
    "\n",
    "epoch = 80\n",
    "batch_size = 1024\n",
    "vocabulary_size = hash_size\n",
    "embedding_size = 256\n",
    "\n",
    "\n",
    "Y = tf.placeholder(tf.int16, [None, output_dim], name=\"label\")\n",
    "lr = tf.placeholder(tf.float32, [], name='learning_rate')\n",
    "keep_prob = tf.placeholder(tf.float32, [], name=\"keep_prob\")\n",
    "\n",
    "#  embedding\n",
    "X = tf.placeholder(tf.int32, [None, seq_len], name=\"word_tokens\") \n",
    "word_embeddings = tf.get_variable(\"word_embeddings\",\n",
    "    [vocabulary_size, embedding_size], initializer=tf.contrib.layers.xavier_initializer())\n",
    "embedded_word_ids = tf.nn.embedding_lookup(word_embeddings, X) # batch * seq * embeddding\n",
    "\n",
    "#  dropout layer\n",
    "def _sequence_dropout(step_inputs, keep_prob):\n",
    "        # apply dropout to each input\n",
    "        # input : a list of input tensor which shape is [None, input_dim]\n",
    "        with tf.name_scope('sequence_dropout') as scope:\n",
    "            step_outputs = []\n",
    "            for t, _input in enumerate(step_inputs):\n",
    "                step_outputs.append( tf.nn.dropout(_input, keep_prob) )\n",
    "        return step_outputs\n",
    "\n",
    "embedded_word_ids = tf.unstack(embedded_word_ids, axis=1)\n",
    "step_inputs = _sequence_dropout(embedded_word_ids, keep_prob) # seq * batch * embedding\n",
    "\n",
    "\n",
    "#  FCN layer\n",
    "doc_mean = tf.reduce_mean(step_inputs, axis=0) # batch * embedding (mean)\n",
    "# hint = tf.placeholder(tf.float32, [None, 609], name='hint') # previous category\n",
    "# bf_lenear = tf.concat([doc_mean, hint], axis=1) # batch * (embediing + hint)\n",
    "# bf_lenear = tf.nn.dropout(bf_lenear, keep_prob)\n",
    "\n",
    "# Y_pred = tf.contrib.layers.fully_connected(bf_lenear, output_dim, activation_fn=tf.nn.relu)  # We use the last cell's output\n",
    "Y_pred = tf.contrib.layers.fully_connected(doc_mean, output_dim, activation_fn=None)  # We use the last cell's output\n",
    "\n",
    "# # image feature\n",
    "# X = tf.placeholder(tf.float32, [None, len(data_x[0])], name=\"img_feat\")\n",
    "# X = tf.nn.dropout(X, keep_prob)\n",
    "# Y_pred = tf.contrib.layers.fully_connected(X, output_dim,\n",
    "#                                            activation_fn=tf.nn.relu, weights_initializer=tf.contrib.layers.xavier_initializer())  # We use the last cell's output\n",
    "\n",
    "# optimize\n",
    "cost =tf.reduce_mean(tf.nn.softmax_cross_entropy_with_logits_v2(\n",
    "    logits=Y_pred, labels=Y, name='cross_entropy'))\n",
    "optimizer = tf.train.AdamOptimizer(lr)\n",
    "train_step = optimizer.minimize(cost)\n",
    "\n",
    "# prediction\n",
    "predicted = tf.argmax(Y_pred, 1)\n",
    "accuracy = tf.reduce_mean(tf.cast(tf.equal(predicted, tf.argmax(Y, 1)), dtype=tf.float32))\n",
    "\n",
    "# saver\n",
    "name_to_var_map = {var.op.name: var for var in tf.global_variables()}\n",
    "saver = tf.train.Saver(name_to_var_map, name='my_saver')"
   ]
  },
  {
   "cell_type": "markdown",
   "metadata": {},
   "source": [
    "# train/save"
   ]
  },
  {
   "cell_type": "code",
   "execution_count": null,
   "metadata": {
    "scrolled": true
   },
   "outputs": [
    {
     "name": "stdout",
     "output_type": "stream",
     "text": [
      "total iter is 80 * 877\n",
      "********** 0 epoch started: lr-0.002, chunk_no-1 **********\n",
      "step 0: acc_tr 0.00683594, acc_val 0.00110633, cost_val 8.34419\n",
      "step 100: acc_tr 0.0078125, acc_val 0.000860479, cost_val 8.83802\n",
      "step 200: acc_tr 0.0146484, acc_val 0.000860479, cost_val 8.88062\n",
      "step 300: acc_tr 0.0185547, acc_val 0.00221266, cost_val 8.91328\n",
      "step 400: acc_tr 0.0712891, acc_val 0.0208974, cost_val 8.92219\n",
      "step 500: acc_tr 0.0878906, acc_val 0.036386, cost_val 8.92413\n",
      "step 600: acc_tr 0.144531, acc_val 0.0501537, cost_val 8.86716\n",
      "step 700: acc_tr 0.185547, acc_val 0.0744929, cost_val 8.79976\n",
      "step 800: acc_tr 0.244141, acc_val 0.0855562, cost_val 8.71556\n"
     ]
    }
   ],
   "source": [
    "%%time \n",
    "\n",
    "if 'sess' in globals(): sess.close()\n",
    "sess = tf.InteractiveSession(config=tf.ConfigProto(log_device_placement=True))\n",
    "sess.run(tf.global_variables_initializer())\n",
    "\n",
    "x_range=[]\n",
    "train_accuracies=[]\n",
    "val_accuracies=[]\n",
    "val_costs=[]\n",
    "ckpt_path = './small_model/small'\n",
    "lr_start = 0.002\n",
    "# iter_per_epoch = int(len(Y_train)/batch_size)\n",
    "iter_per_epoch = int(899000/batch_size)\n",
    "\n",
    "print('total iter is %d * %d' %(epoch, iter_per_epoch))\n",
    "for e in range(epoch):\n",
    "# 데이터 청크 같으면 다시 로드 안하는 코드 넣기, 청크 순서도 고려해보기\n",
    "    # epoch별 데이터 청크 로드\n",
    "    chunk_no = int(e/2)%9+1\n",
    "    X_train, Y_train = set_train_data(chunk_no)\n",
    "    \n",
    "    print('********** %d epoch started: lr-%g, chunk_no-%d **********'%(e, lr_start, chunk_no))\n",
    "    for i in range(iter_per_epoch):\n",
    "        X_, Y_ = getMiniBatch2(X_train, Y_train, batch_size) # 랜덤 미니배치 할당\n",
    "        train_step.run(feed_dict={X:X_, Y:Y_, lr:lr_start, keep_prob:0.5})\n",
    "\n",
    "    #   아래에 결과 프린트용\n",
    "        if i % 100 == 0:   \n",
    "            train_accuracy = accuracy.eval(feed_dict={X:X_, Y:Y_, lr:lr_start, keep_prob:0.5})\n",
    "            val_accuracy, val_cost = sess.run([accuracy, cost], feed_dict={X:X_val, Y:Y_val, keep_prob:1})\n",
    "\n",
    "            if lr_start>0.0001:\n",
    "                lr_start = lr_start*0.998 # lr annealing\n",
    "            \n",
    "            train_accuracies.append(train_accuracy)\n",
    "            val_accuracies.append(val_accuracy)\n",
    "            val_costs.append(val_cost)\n",
    "            x_range.append(i+ iter_per_epoch*e)\n",
    "            print('step %d: acc_tr %g, acc_val %g, cost_val %g' % (i, train_accuracy, val_accuracy, val_cost))\n",
    "        \n",
    "    saver.save(sess, ckpt_path, global_step=i+ iter_per_epoch*e)"
   ]
  },
  {
   "cell_type": "markdown",
   "metadata": {},
   "source": [
    "# get accuracy for dev set"
   ]
  },
  {
   "cell_type": "code",
   "execution_count": 23,
   "metadata": {},
   "outputs": [
    {
     "data": {
      "image/png": "[encoded data removed]",
      "text/plain": [
       "<Figure size 1296x360 with 2 Axes>"
      ]
     },
     "metadata": {},
     "output_type": "display_data"
    }
   ],
   "source": [
    "plt.figure(figsize=(18,5))\n",
    "plt.subplot(121)\n",
    "plt.plot(x_range, train_accuracies,'-b', label='Training')\n",
    "plt.plot(x_range, val_accuracies,'-g', label='Validation')\n",
    "plt.legend(loc='lower right', frameon=False)\n",
    "# plt.ylim(ymax = 1.1, ymin = 0.7)\n",
    "plt.ylabel('accuracy')\n",
    "plt.xlabel('step')\n",
    "plt.title('Accuracy')\n",
    "\n",
    "plt.subplot(122)\n",
    "plt.plot(x_range, val_costs,'-r', label='Validatin_cost')\n",
    "plt.legend(loc='lower right', frameon=False)\n",
    "# plt.ylim(ymax = 1.1, ymin = 0.7)\n",
    "plt.ylabel('cost')\n",
    "plt.xlabel('step')\n",
    "plt.title('Validation Cost')\n",
    "plt.show()"
   ]
  },
  {
   "cell_type": "markdown",
   "metadata": {},
   "source": [
    "# test "
   ]
  },
  {
   "cell_type": "code",
   "execution_count": 26,
   "metadata": {},
   "outputs": [
    {
     "name": "stdout",
     "output_type": "stream",
     "text": [
      "INFO:tensorflow:Restoring parameters from ./small_model/small-70159\n"
     ]
    }
   ],
   "source": [
    "# restore model\n",
    "if 'sess' in globals(): sess.close()\n",
    "sess = tf.InteractiveSession()\n",
    "\n",
    "ckpt_path = './small_model/small'\n",
    "saver.restore(sess, ckpt_path+'-70159')"
   ]
  },
  {
   "cell_type": "code",
   "execution_count": 16,
   "metadata": {},
   "outputs": [
    {
     "name": "stdout",
     "output_type": "stream",
     "text": [
      "Wall time: 24.8 s\n"
     ]
    }
   ],
   "source": [
    "%%time\n",
    "df_tmp = pd.read_csv('data/data_x_test.csv', header=None)\n",
    "X_test = df_tmp.as_matrix()\n",
    "Y_test = np.genfromtxt('data/data_y_test.csv', delimiter=',', dtype=np.int16)\n",
    "Y_test = helper.onehot(Y_test)"
   ]
  },
  {
   "cell_type": "code",
   "execution_count": 25,
   "metadata": {
    "scrolled": true
   },
   "outputs": [
    {
     "name": "stdout",
     "output_type": "stream",
     "text": [
      "Test Accuracy: 0.574 \tTest cost: 1.9491\n",
      "Test Accuracy: 0.574 \tTest cost: 1.90241\n",
      "Test Accuracy: 0.5671 \tTest cost: 1.94004\n",
      "Test Accuracy: 0.5767 \tTest cost: 1.89654\n",
      "Test Accuracy: 0.5783 \tTest cost: 1.91405\n",
      "Test Accuracy: 0.5741 \tTest cost: 1.93899\n",
      "Test Accuracy: 0.5683 \tTest cost: 1.94725\n",
      "Test Accuracy: 0.5752 \tTest cost: 1.90918\n",
      "Test Accuracy: 0.5728 \tTest cost: 1.9249\n",
      "Test Accuracy: 0.5852 \tTest cost: 1.85522\n",
      "Test Accuracy: 0.5318 \tTest cost: 2.30459\n",
      "Test Accuracy: 0.5357 \tTest cost: 2.28889\n",
      "Test Accuracy: 0.5241 \tTest cost: 2.39079\n",
      "Test Accuracy: 0.5278 \tTest cost: 2.3507\n",
      "Test Accuracy: 0.5249 \tTest cost: 2.33893\n",
      "Test Accuracy: 0.5225 \tTest cost: 2.36516\n",
      "Test Accuracy: 0.5277 \tTest cost: 2.33395\n",
      "Test Accuracy: 0.5211 \tTest cost: 2.37067\n",
      "Test Accuracy: 0.5256 \tTest cost: 2.36903\n",
      "Test Accuracy: 0.539 \tTest cost: 2.31537\n",
      "Test Accuracy: 0.5215 \tTest cost: 2.37602\n",
      "Test Accuracy: 0.5306 \tTest cost: 2.38405\n",
      "Test Accuracy: 0.5179 \tTest cost: 2.35077\n",
      "Test Accuracy: 0.5245 \tTest cost: 2.32794\n",
      "Test Accuracy: 0.5219 \tTest cost: 2.37906\n",
      "Test Accuracy: 0.5318 \tTest cost: 2.32883\n",
      "Test Accuracy: 0.5161 \tTest cost: 2.40144\n",
      "Test Accuracy: 0.5165 \tTest cost: 2.39443\n",
      "Test Accuracy: 0.5201 \tTest cost: 2.40672\n",
      "Test Accuracy: 0.5205 \tTest cost: 2.36859\n",
      "Test Accuracy: 0.5353 \tTest cost: 2.34126\n",
      "Test Accuracy: 0.5249 \tTest cost: 2.36758\n",
      "Test Accuracy: 0.5288 \tTest cost: 2.34071\n",
      "Test Accuracy: 0.5225 \tTest cost: 2.38092\n",
      "Test Accuracy: 0.5173 \tTest cost: 2.39634\n",
      "Test Accuracy: 0.5266 \tTest cost: 2.3551\n",
      "Test Accuracy: 0.5286 \tTest cost: 2.37717\n",
      "Test Accuracy: 0.5321 \tTest cost: 2.31497\n",
      "Test Accuracy: 0.5316 \tTest cost: 2.34382\n",
      "Test Accuracy: 0.5216 \tTest cost: 2.4036\n",
      "Test Accuracy: 0.5205 \tTest cost: 2.39874\n",
      "Test Accuracy: 0.5208 \tTest cost: 2.39077\n",
      "Test Accuracy: 0.5202 \tTest cost: 2.38776\n",
      "Test Accuracy: 0.523 \tTest cost: 2.37979\n",
      "Test Accuracy: 0.5255 \tTest cost: 2.34783\n",
      "Test Accuracy: 0.5186 \tTest cost: 2.40942\n",
      "Test Accuracy: 0.5278 \tTest cost: 2.36056\n",
      "Test Accuracy: 0.5309 \tTest cost: 2.34196\n",
      "Test Accuracy: 0.5291 \tTest cost: 2.34816\n",
      "Test Accuracy: 0.5221 \tTest cost: 2.38547\n",
      "Test Accuracy: 0.5277 \tTest cost: 2.33677\n",
      "Test Accuracy: 0.5218 \tTest cost: 2.35702\n",
      "Test Accuracy: 0.5287 \tTest cost: 2.34355\n",
      "Test Accuracy: 0.5256 \tTest cost: 2.36606\n",
      "Test Accuracy: 0.5329 \tTest cost: 2.31998\n",
      "Test Accuracy: 0.5302 \tTest cost: 2.33681\n",
      "Test Accuracy: 0.5256 \tTest cost: 2.31801\n",
      "Test Accuracy: 0.5227 \tTest cost: 2.38282\n",
      "Test Accuracy: 0.5174 \tTest cost: 2.37802\n",
      "Test Accuracy: 0.5239 \tTest cost: 2.33747\n",
      "Test Accuracy: 0.5248 \tTest cost: 2.33618\n",
      "Test Accuracy: 0.5326 \tTest cost: 2.31276\n",
      "Test Accuracy: 0.5182 \tTest cost: 2.38256\n",
      "Test Accuracy: 0.5309 \tTest cost: 2.31982\n",
      "Test Accuracy: 0.5274 \tTest cost: 2.34234\n",
      "Test Accuracy: 0.5264 \tTest cost: 2.39624\n",
      "Test Accuracy: 0.5241 \tTest cost: 2.35592\n",
      "Test Accuracy: 0.5377 \tTest cost: 2.31172\n",
      "Test Accuracy: 0.5269 \tTest cost: 2.33555\n",
      "Test Accuracy: 0.5277 \tTest cost: 2.35947\n",
      "Test Accuracy: 0.5313 \tTest cost: 2.33567\n",
      "Test Accuracy: 0.5256 \tTest cost: 2.35686\n",
      "Test Accuracy: 0.5245 \tTest cost: 2.31677\n",
      "Test Accuracy: 0.5277 \tTest cost: 2.32953\n",
      "Test Accuracy: 0.5296 \tTest cost: 2.32923\n",
      "Test Accuracy: 0.5173 \tTest cost: 2.41169\n",
      "Test Accuracy: 0.5283 \tTest cost: 2.30254\n",
      "Test Accuracy: 0.5287 \tTest cost: 2.39285\n",
      "Test Accuracy: 0.5285 \tTest cost: 2.34638\n",
      "Test Accuracy: 0.5254 \tTest cost: 2.38497\n",
      "Test Accuracy: 0.5201 \tTest cost: 2.37573\n",
      "Test Accuracy: 0.526709 \tTest cost: 2.36647\n",
      "Total Accuracy: 0.53173184 \tTotal Cost: 2.3033326\n"
     ]
    }
   ],
   "source": [
    "from math import ceil\n",
    "\n",
    "# 여기서도 OOM 날수 있다\n",
    "acc_tot = []\n",
    "cost_tot = []\n",
    "cate_predicted = []\n",
    "chunk_size = 10000 # OOM 방지\n",
    "iter_num = ceil(len(Y_test)/chunk_size)\n",
    "\n",
    "for i in range(iter_num):\n",
    "    test_accuracy, test_cost, tokens = \\\n",
    "        sess.run([accuracy, cost, predicted], feed_dict={X:X_test[chunk_size*i:chunk_size*(i+1)], Y:Y_test[chunk_size*i:chunk_size*(i+1)], keep_prob:1})\n",
    "    acc_tot.append(test_accuracy)\n",
    "    cost_tot.append(test_cost)\n",
    "    \n",
    "    for tok in tokens:\n",
    "        cate_predicted.append(token_to_cate[tok].split('>'))\n",
    "    print('Test Accuracy: %g \\tTest cost: %g' %(test_accuracy, test_cost))\n",
    "    \n",
    "print('Total Accuracy:', np.array(acc_tot).mean(), '\\tTotal Cost:', np.array(cost_tot).mean())"
   ]
  },
  {
   "cell_type": "code",
   "execution_count": 26,
   "metadata": {},
   "outputs": [
    {
     "name": "stdout",
     "output_type": "stream",
     "text": [
      "bcateid: 0.750246 \t 610312/813482\n",
      "mcateid: 0.686605 \t 558541/813482\n",
      "scateid: 0.602265 \t 489932/813482\n",
      "dcateid: 0.948475 \t 771567/813482\n",
      "final score: 0.9212455223348518\n",
      "아직 결측치 보정은 안함\n"
     ]
    }
   ],
   "source": [
    "# 분류 계층별 정확도 보기\n",
    "\n",
    "# 나누기\n",
    "cate_ans = []\n",
    "for i in np.argmax(Y_test, axis=1):\n",
    "    cate_ans.append(token_to_cate[i].split('>'))\n",
    "\n",
    "\n",
    "cate_predicted = np.array(cate_predicted)\n",
    "cate_ans = np.array(cate_ans)\n",
    "\n",
    "# df_cate = pd.DataFrame(cate_predicted, columns=['bcateid', 'mcateid', 'scateid', 'dcateid'])\n",
    "# 계산하기\n",
    "cols=['bcateid', 'mcateid', 'scateid', 'dcateid']\n",
    "aws_list = cate_ans.transpose([1,0]) == cate_predicted.transpose([1,0])\n",
    "\n",
    "accs = []\n",
    "for i, aws in enumerate(aws_list):\n",
    "    _sum = np.sum(aws)\n",
    "    acc = _sum/len(aws)\n",
    "    accs.append(acc)\n",
    "    print('%s: %g \\t %d/%d' %(cols[i], acc, _sum, len(aws)))\n",
    "    \n",
    "print('final score:', (accs[0]+accs[1]*1.2+accs[2]*1.3+accs[3]*1.4)/4) \n",
    "print('아직 결측치 보정은 안함')"
   ]
  },
  {
   "cell_type": "code",
   "execution_count": 62,
   "metadata": {},
   "outputs": [
    {
     "data": {
      "text/plain": [
       "0.7073726530058878"
      ]
     },
     "execution_count": 62,
     "metadata": {},
     "output_type": "execute_result"
    }
   ],
   "source": [
    "# 결측치 보정\n",
    "sid = Counter(df['scateid'])\n",
    "sratio = (len(df['scateid']) - sid.get(-1))/len(df['scateid'])\n",
    "np.array(acc_tot).mean()/sratio"
   ]
  },
  {
   "cell_type": "markdown",
   "metadata": {},
   "source": [
    "---\n",
    "0.002 --> 0.86 어닐링 없이\n",
    " - 최고 정확도\n",
    "\n",
    "### 할일\n",
    "- 텐서보드 붙이기\n",
    "- ~~모델 저장하기~~\n",
    "- ~~이니셜라이저 사용~~\n",
    "- 4가지 레이블 맞추기\n",
    "    - 점수 제작 코드\n",
    "- ~~대분류당 중분류 중복 안되는지~~\n",
    "    - 패턴먼저 파악하기\n",
    "    - 중복 안되면 강제로 CRF적용가능\n",
    "    - 중복 안됨\n",
    "- 모듈화\n",
    "    - myUtils.py 에 정리하기\n",
    "    \n",
    "---\n",
    "데이터가 1,2와 3이 많이 다르네\n",
    " - 훈련 지속할 파이프라인 구축이 우선\n",
    " - 배치놈 반드시 필요할듯\n",
    "    "
   ]
  },
  {
   "cell_type": "code",
   "execution_count": null,
   "metadata": {
    "collapsed": true
   },
   "outputs": [],
   "source": []
  }
 ],
 "metadata": {
  "kernelspec": {
   "display_name": "Python 3",
   "language": "python",
   "name": "python3"
  },
  "language_info": {
   "codemirror_mode": {
    "name": "ipython",
    "version": 3
   },
   "file_extension": ".py",
   "mimetype": "text/x-python",
   "name": "python",
   "nbconvert_exporter": "python",
   "pygments_lexer": "ipython3",
   "version": "3.6.2"
  }
 },
 "nbformat": 4,
 "nbformat_minor": 2
}
